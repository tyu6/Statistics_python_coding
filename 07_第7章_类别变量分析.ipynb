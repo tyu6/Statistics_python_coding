{
 "cells": [
  {
   "cell_type": "markdown",
   "metadata": {},
   "source": [
    "# 第7章 类别变量分析"
   ]
  },
  {
   "cell_type": "markdown",
   "metadata": {},
   "source": [
    "### 代码框7-1 期望频数相等时的拟合优度检验"
   ]
  },
  {
   "cell_type": "code",
   "execution_count": 3,
   "metadata": {},
   "outputs": [
    {
     "name": "stdout",
     "output_type": "stream",
     "text": [
      "卡方统计量 12.1 p值 0.007048\n"
     ]
    }
   ],
   "source": [
    "import pandas as pd\n",
    "from scipy.stats import chisquare\n",
    "import numpy as np\n",
    "example7_1 = pd.read_csv('F:\\JupyterData\\Statistics_Pythoncoding\\data\\chap07\\example7_1.csv', encoding='gbk')\n",
    "chi2, p_value=chisquare(f_obs=example7_1['人数'])\n",
    "print('卡方统计量',round(chi2,4),'p值',round(p_value,6))"
   ]
  },
  {
   "cell_type": "markdown",
   "metadata": {},
   "source": [
    "### 代码框7-2 期望频数不相等时的拟合优度检验"
   ]
  },
  {
   "cell_type": "code",
   "execution_count": 5,
   "metadata": {},
   "outputs": [
    {
     "name": "stdout",
     "output_type": "stream",
     "text": [
      "卡方统计量 19.586 p值 0.0006\n"
     ]
    }
   ],
   "source": [
    "import pandas as pd\n",
    "import numpy as np\n",
    "example7_2=pd.read_csv(''F:\\JupyterData\\Statistics_Pythoncoding\\data\\chap07\\example7_1.csv', encoding='gbk)\n",
    "from scipy.stats import chisquare\n",
    "chi2, p_value=chisquare(f_obs=example7_2['离婚家庭数'], f_exp=example7_2['离婚家庭数'].sum()*example7_2['期望比例'])\n",
    "print('卡方统计量',round(chi2,3), 'p值',round(p_value,4))\n",
    "                                                            "
   ]
  },
  {
   "cell_type": "markdown",
   "metadata": {},
   "source": [
    "### 代码框7-3 两个类别变量的独立性检验"
   ]
  },
  {
   "cell_type": "code",
   "execution_count": 7,
   "metadata": {},
   "outputs": [
    {
     "name": "stdout",
     "output_type": "stream",
     "text": [
      "卡方统计量 51.827 自由度 2 p值 0.0 \n",
      "期望频数 [[102.08 153.12  63.8 ]\n",
      " [ 57.92  86.88  36.2 ]]\n"
     ]
    }
   ],
   "source": [
    "#数据已是列联表情形下检验\n",
    "import pandas as pd\n",
    "from scipy.stats import chi2_contingency\n",
    "x=[[126,158,35] , [34,82,65]]\n",
    "df = pd.DataFrame(x,index=['满意','不满意'], columns=['东部','中部','西部'])\n",
    "chi2, p_value,df,f_exp=chi2_contingency(df)\n",
    "print('卡方统计量',round(chi2,3), '自由度',df,'p值',round(p_value,4),'\\n''期望频数',f_exp)"
   ]
  },
  {
   "cell_type": "code",
   "execution_count": 9,
   "metadata": {},
   "outputs": [
    {
     "name": "stdout",
     "output_type": "stream",
     "text": [
      "卡方统计量 51.827 自由度 2 p值 0.0 期望频数 [[102.08 153.12  63.8 ]\n",
      " [ 57.92  86.88  36.2 ]]\n"
     ]
    }
   ],
   "source": [
    "#根据原始数据进行检验\n",
    "example7_3 = pd.read_csv('F:\\JupyterData\\Statistics_Pythoncoding\\data\\chap07\\example7_3.csv', encoding='gbk')\n",
    "count  = pd.crosstab(index=example7_3['满意度'], columns=example7_3['地区'])\n",
    "#生成列联表count\n",
    "chi2_contingency(count)\n",
    "print('卡方统计量',round(chi2,3), '自由度',df,'p值',round(p_value,4),'期望频数',f_exp)"
   ]
  },
  {
   "cell_type": "markdown",
   "metadata": {},
   "source": [
    "### 代码框7-4 计算两个类别变量的相关性度量"
   ]
  },
  {
   "cell_type": "code",
   "execution_count": 10,
   "metadata": {},
   "outputs": [
    {
     "name": "stdout",
     "output_type": "stream",
     "text": [
      "phi系数 0.32195 v系数 0.32195 c系数 0.30646\n"
     ]
    }
   ],
   "source": [
    "import math\n",
    "n=500\n",
    "chi2=51.827\n",
    "phi = math.sqrt(chi2/n)\n",
    "v = math.sqrt(chi2/n*(2-1))\n",
    "c = math.sqrt(chi2/(chi2+n))\n",
    "print('phi系数',round(phi,5),'v系数',round(v,5),'c系数',round(c,5))"
   ]
  },
  {
   "cell_type": "code",
   "execution_count": null,
   "metadata": {},
   "outputs": [],
   "source": []
  },
  {
   "cell_type": "code",
   "execution_count": null,
   "metadata": {},
   "outputs": [],
   "source": []
  },
  {
   "cell_type": "code",
   "execution_count": null,
   "metadata": {},
   "outputs": [],
   "source": []
  },
  {
   "cell_type": "code",
   "execution_count": null,
   "metadata": {},
   "outputs": [],
   "source": []
  },
  {
   "cell_type": "code",
   "execution_count": null,
   "metadata": {},
   "outputs": [],
   "source": []
  },
  {
   "cell_type": "code",
   "execution_count": null,
   "metadata": {},
   "outputs": [],
   "source": []
  },
  {
   "cell_type": "code",
   "execution_count": null,
   "metadata": {},
   "outputs": [],
   "source": []
  },
  {
   "cell_type": "code",
   "execution_count": null,
   "metadata": {},
   "outputs": [],
   "source": []
  }
 ],
 "metadata": {
  "kernelspec": {
   "display_name": "Python 3 (ipykernel)",
   "language": "python",
   "name": "python3"
  },
  "language_info": {
   "codemirror_mode": {
    "name": "ipython",
    "version": 3
   },
   "file_extension": ".py",
   "mimetype": "text/x-python",
   "name": "python",
   "nbconvert_exporter": "python",
   "pygments_lexer": "ipython3",
   "version": "3.9.12"
  },
  "nbTranslate": {
   "displayLangs": [
    "*"
   ],
   "hotkey": "alt-t",
   "langInMainMenu": true,
   "sourceLang": "en",
   "targetLang": "fr",
   "useGoogleTranslate": true
  }
 },
 "nbformat": 4,
 "nbformat_minor": 4
}
