{
 "cells": [
  {
   "cell_type": "markdown",
   "metadata": {},
   "source": [
    "# 第6章  假设检验 "
   ]
  },
  {
   "cell_type": "markdown",
   "metadata": {},
   "source": [
    "### 代码框6-1 一个总体均值的检验（大样本）"
   ]
  },
  {
   "cell_type": "code",
   "execution_count": 6,
   "metadata": {},
   "outputs": [
    {
     "name": "stdout",
     "output_type": "stream",
     "text": [
      "样本均值= 79.55 z统计量= -1.1856 P值= 0.1179\n"
     ]
    }
   ],
   "source": [
    "import pandas as pd\n",
    "import numpy as np\n",
    "from statsmodels.stats.weightstats import ztest\n",
    "example6_3 = pd.read_csv('F:\\JupyterData\\Statistics_Pythoncoding\\data\\chap06\\example6_3.csv', encoding='gbk')\n",
    "z, p_value = ztest(x1=example6_3['PM2.5值'], value=81, alternative='smaller')\n",
    "print('样本均值=', np.round(example6_3['PM2.5值'].mean(), 2),'z统计量=', np.round(z, 4),'P值=', np.round(p_value, 4))"
   ]
  },
  {
   "cell_type": "markdown",
   "metadata": {},
   "source": [
    "### 代码框6-2一个总体均值的检验（小样本）"
   ]
  },
  {
   "cell_type": "code",
   "execution_count": 20,
   "metadata": {},
   "outputs": [
    {
     "name": "stdout",
     "output_type": "stream",
     "text": [
      "样本均值= 4.8 t统计量= -5.6273 P值= 0.0\n"
     ]
    }
   ],
   "source": [
    "import pandas as pd\n",
    "from scipy import stats \n",
    "import numpy as np\n",
    "example6_4 = pd.read_csv('F:\\JupyterData\\Statistics_Pythoncoding\\data\\chap06\\example6_4.csv', encoding='gbk')\n",
    "t,p_value = stats.ttest_1samp(example6_4['厚度'], popmean=5, axis=0)    #1samp的首字符是“一”不是“l”\n",
    "print('样本均值=', np.round(example6_4['厚度'].mean(), 2),'t统计量=', np.round(t, 4),'P值=', np.round(p_value, 4))"
   ]
  },
  {
   "cell_type": "markdown",
   "metadata": {},
   "source": [
    "### 代码框6-3 计算单样本t检验的效应量"
   ]
  },
  {
   "cell_type": "code",
   "execution_count": 1,
   "metadata": {},
   "outputs": [
    {
     "name": "stdout",
     "output_type": "stream",
     "text": [
      "效应量 1.2583\n"
     ]
    }
   ],
   "source": [
    "import pandas as pd\n",
    "example6_4 = pd.read_csv('F:\\JupyterData\\Statistics_Pythoncoding\\data\\chap06\\example6_4.csv', encoding='gbk')\n",
    "mu=5\n",
    "xbar=example6_4['厚度'].mean()\n",
    "sd = example6_4['厚度'].std()\n",
    "d = abs(xbar-mu)/sd\n",
    "print('效应量',round(d, 4))"
   ]
  },
  {
   "cell_type": "markdown",
   "metadata": {},
   "source": [
    "### 代码框6-4 两个总体均值之差的检验（独立大样本）"
   ]
  },
  {
   "cell_type": "code",
   "execution_count": 18,
   "metadata": {},
   "outputs": [
    {
     "name": "stdout",
     "output_type": "stream",
     "text": [
      "男生平均上网时间为 3.0583 女生平均上网时间为 2.8306 \n",
      "统计量值 1.1188 p值 0.2632\n"
     ]
    }
   ],
   "source": [
    "import pandas as pd\n",
    "import numpy as np\n",
    "from statsmodels.stats.weightstats import ztest\n",
    "example6_5 = pd.read_csv('F:\\JupyterData\\Statistics_Pythoncoding\\data\\chap06\\example6_5.csv', encoding='gbk')\n",
    "z,p_value = ztest(x1=example6_5['男生上网时间'], x2=example6_5['女生上网时间'], alternative='two-sided')\n",
    "#print('男生平均上网时间为:',np.round(mean(x1),4),'女生平均上网时间为:',np.round(mean(x2),4),'z统计量值:',np.round(z,4), 'P值'={p_value: .4f})\n",
    "print('男生平均上网时间为', np.round(example6_5['男生上网时间'].mean(),4), '女生平均上网时间为',np.round(example6_5['女生上网时间'].mean(), 4),'\\n''统计量值',np.round(z, 4), 'p值', np.round(p_value,4))\n"
   ]
  },
  {
   "cell_type": "markdown",
   "metadata": {},
   "source": [
    "### 代码框6-5 两个总体均值之差的检验（独立小样本）"
   ]
  },
  {
   "cell_type": "code",
   "execution_count": 25,
   "metadata": {},
   "outputs": [
    {
     "name": "stdout",
     "output_type": "stream",
     "text": [
      "甲企业灯泡平均使用寿命为 8487.5 乙企业灯泡平均使用寿命为 8166.0 \n",
      "假设方差相等时,t统计量 3.49427 自由度 38.0 p值 0.001225\n"
     ]
    }
   ],
   "source": [
    "#假设总体方差相等\n",
    "import pandas as pd\n",
    "import numpy as np\n",
    "from statsmodels.stats.weightstats import ttest_ind\n",
    "example6_6=pd.read_csv('F:\\JupyterData\\Statistics_Pythoncoding\\data\\chap06\\example6_6.csv', encoding='gbk')\n",
    "xbar1 = example6_6['甲企业'].mean()\n",
    "xbar2 = example6_6['乙企业'].mean()\n",
    "t,p_value,df = ttest_ind(x1=example6_6['甲企业'],x2=example6_6['乙企业'],alternative='two-sided',usevar='pooled')\n",
    "print('甲企业灯泡平均使用寿命为',xbar1,'乙企业灯泡平均使用寿命为',xbar2,'\\n''假设方差相等时,t统计量',np.round(t,6),'自由度',df,'p值',np.round(p_value,6))"
   ]
  },
  {
   "cell_type": "code",
   "execution_count": 26,
   "metadata": {},
   "outputs": [
    {
     "name": "stdout",
     "output_type": "stream",
     "text": [
      "假设方差不相等时，t统计量值 3.49427 自由度 33.6826 p值 0.001353\n"
     ]
    }
   ],
   "source": [
    "#假设总体方差不相等\n",
    "t, p_value, df = ttest_ind(x1=example6_6['甲企业'], x2=example6_6['乙企业'],alternative='two-sided',usevar='unequal')\n",
    "print('假设方差不相等时，t统计量值',np.round(t, 6),'自由度',np.round(df,4),'p值',np.round(p_value,6) )"
   ]
  },
  {
   "cell_type": "markdown",
   "metadata": {},
   "source": [
    "### 代码框6-6 独立样本t检验的效应量"
   ]
  },
  {
   "cell_type": "code",
   "execution_count": 42,
   "metadata": {},
   "outputs": [
    {
     "name": "stdout",
     "output_type": "stream",
     "text": [
      "效应量 1.104985\n"
     ]
    }
   ],
   "source": [
    "import pandas as pd;import numpy as np\n",
    "example6_6 = pd.read_csv('F:\\JupyterData\\Statistics_Pythoncoding\\data\\chap06\\example6_6.csv', encoding='gbk')\n",
    "t = 3.49427\n",
    "n1 = len(example6_6['甲企业'])\n",
    "n2 = len(example6_6['乙企业'])\n",
    "d = abs(t)* np.sqrt((n1+n2)/(n1*n2))\n",
    "n=np.sqrt((n1+n2)/(n1*n2))\n",
    "print('效应量',round(d,6))"
   ]
  },
  {
   "cell_type": "markdown",
   "metadata": {},
   "source": [
    "### 代码框6-7 两个总体均值之差的检验（配对样本）"
   ]
  },
  {
   "cell_type": "code",
   "execution_count": 46,
   "metadata": {},
   "outputs": [
    {
     "name": "stdout",
     "output_type": "stream",
     "text": [
      "配对样本差值的均值 -1.3 t统计量值 -2.750848 p值 0.02245\n"
     ]
    }
   ],
   "source": [
    "import pandas as pd\n",
    "from scipy.stats import ttest_rel\n",
    "import numpy as np\n",
    "example6_7 = pd.read_csv('F:\\JupyterData\\Statistics_Pythoncoding\\data\\chap06\\example6_7.csv', encoding='gbk')\n",
    "dbar= (example6_7['旧款饮料'] - example6_7['新款饮料']).mean()\n",
    "t, p_value = ttest_rel(a=example6_7['旧款饮料'], b= example6_7['新款饮料'])\n",
    "print('配对样本差值的均值',dbar,'t统计量值',round(t,6),'p值',round(p_value,5))"
   ]
  },
  {
   "cell_type": "markdown",
   "metadata": {},
   "source": [
    "### 代码框6-8 配对样本t检验的效应量"
   ]
  },
  {
   "cell_type": "code",
   "execution_count": 48,
   "metadata": {},
   "outputs": [
    {
     "name": "stdout",
     "output_type": "stream",
     "text": [
      "效应量 0.869895\n"
     ]
    }
   ],
   "source": [
    "import pandas as pd\n",
    "import numpy as np\n",
    "example6_7 = pd.read_csv('F:\\JupyterData\\Statistics_Pythoncoding\\data\\chap06\\example6_7.csv', encoding='gbk')\n",
    "t=2.750848\n",
    "n = example6_7.shape[0]\n",
    "d = abs(t)/np.sqrt(n)\n",
    "print('效应量',round(d, 6))"
   ]
  },
  {
   "cell_type": "markdown",
   "metadata": {},
   "source": [
    "### 代码框6-9 一个总体比例的检验"
   ]
  },
  {
   "cell_type": "code",
   "execution_count": 2,
   "metadata": {},
   "outputs": [
    {
     "name": "stdout",
     "output_type": "stream",
     "text": [
      "统计量值 -2.582 p值 0.995088\n"
     ]
    }
   ],
   "source": [
    "import numpy as np;from scipy.stats import norm\n",
    "n = 2000\n",
    "p = 450/2000\n",
    "pi0 = 0.25\n",
    "z = (p-pi0) / np.sqrt(pi0*(1-pi0) / n)\n",
    "p_value =1-norm.cdf(z)\n",
    "print('统计量值',round(z,4),'p值',round(p_value,6))"
   ]
  },
  {
   "cell_type": "markdown",
   "metadata": {},
   "source": [
    "### 代码框6-10 两个总体比例之差的检验（H0:π1-π2=0）"
   ]
  },
  {
   "cell_type": "code",
   "execution_count": 3,
   "metadata": {},
   "outputs": [
    {
     "name": "stdout",
     "output_type": "stream",
     "text": [
      "统计量值 -1.7298 p值 0.041837\n"
     ]
    }
   ],
   "source": [
    "import numpy as np; from scipy.stats import norm\n",
    "n1=200 ; n2=200\n",
    "p1=0.27 ; p2=0.35\n",
    "p = (p1*n1 + p2*n2)/(n1+n2)\n",
    "z = (p1-p2)/np.sqrt(p*(1-p)*(1/n1 + 1/n2))\n",
    "p_value = norm.cdf(z)\n",
    "print('统计量值',round(z,4),'p值',round(p_value,6))"
   ]
  },
  {
   "cell_type": "markdown",
   "metadata": {},
   "source": [
    "### 代码框6-11 两个总体比例之差的检验(H0:π1-π2=d0)"
   ]
  },
  {
   "cell_type": "code",
   "execution_count": 4,
   "metadata": {},
   "outputs": [
    {
     "name": "stdout",
     "output_type": "stream",
     "text": [
      "z统计量值 -7.9123 p值 0.0\n"
     ]
    }
   ],
   "source": [
    "import numpy as np; from scipy.stats import norm\n",
    "n1=300 ; n2=300\n",
    "p1=33/300 ; p2=84/300\n",
    "d0=0.08\n",
    "z = ((p1-p2)-d0) / np.sqrt(p1*(1-p1) / n1+p2*(1-p2)/n2)\n",
    "p_value = norm.cdf(z)\n",
    "print('z统计量值', round(z,4),'p值',round(p_value, 5))"
   ]
  },
  {
   "cell_type": "markdown",
   "metadata": {},
   "source": [
    "### 代码框6-12 一个总体方差的检验"
   ]
  },
  {
   "cell_type": "code",
   "execution_count": 2,
   "metadata": {},
   "outputs": [
    {
     "name": "stdout",
     "output_type": "stream",
     "text": [
      "样本填装量的方差 5.2872 卡方统计量值 2.9741 自由度df 9 p值 0.9653\n"
     ]
    }
   ],
   "source": [
    "import pandas as pd \n",
    "from scipy.stats import chi2\n",
    "import numpy as np\n",
    "example6_11 = pd.read_csv('F:\\JupyterData\\Statistics_Pythoncoding\\data\\chap06\\example6_11.csv', encoding='gbk')\n",
    "x = example6_11['填装量']\n",
    "sigma0_2 = 16\n",
    "s2 = x.var(); n=len(x); df=n-1\n",
    "chi2_value = (n-1)*s2 / sigma0_2\n",
    "p_value = 1-chi2.cdf(chi2_value,df=df)\n",
    "print('样本填装量的方差',np.round(s2,4),'卡方统计量值',np.round(chi2_value,4),'自由度df',df,'p值',np.round(p_value,4))"
   ]
  },
  {
   "cell_type": "markdown",
   "metadata": {},
   "source": [
    "### 代码框6-13 两个总体方差比的检验"
   ]
  },
  {
   "cell_type": "code",
   "execution_count": 5,
   "metadata": {},
   "outputs": [
    {
     "name": "stdout",
     "output_type": "stream",
     "text": [
      "F统计量值 0.4727 p值 0.111\n"
     ]
    }
   ],
   "source": [
    "import pandas as pd\n",
    "from scipy.stats import f\n",
    "import numpy as np\n",
    "example6_6 = pd.read_csv('F:\\JupyterData\\Statistics_Pythoncoding\\data\\chap06\\example6_6.csv', encoding='gbk')\n",
    "x1 = example6_6['甲企业'];x2=example6_6['乙企业']\n",
    "s1_square = x1.var(); dfn=len(x1)-1\n",
    "s2_square = x2.var(); dfd=len(x2)-1\n",
    "f_value = s1_square / s2_square\n",
    "p_value = f.cdf(f_value, dfn=dfn, dfd=dfd)*2\n",
    "print('F统计量值',np.round(f_value,4),'p值',np.round(p_value,4))"
   ]
  },
  {
   "cell_type": "markdown",
   "metadata": {},
   "source": [
    "### 代码框6-14 绘制正态Q-Q图和正态P-P图"
   ]
  },
  {
   "cell_type": "code",
   "execution_count": 3,
   "metadata": {},
   "outputs": [
    {
     "data": {
      "image/png": "[encoded data removed]",
      "text/plain": [
       "<Figure size 864x360 with 2 Axes>"
      ]
     },
     "metadata": {
      "needs_background": "light"
     },
     "output_type": "display_data"
    }
   ],
   "source": [
    "import pandas as pd\n",
    "import statsmodels.api as sm\n",
    "from matplotlib import pyplot as plt\n",
    "plt.rcParams['font.sans-serif'] = ['SimHei']\n",
    "plt.rcParams['axes.unicode_minus'] = False\n",
    "example6_3 = pd.read_csv('F:\\JupyterData\\Statistics_Pythoncoding\\data\\chap06\\example6_3.csv', encoding='gbk')\n",
    "pplot = sm.ProbPlot(example6_3['PM2.5值'],fit=True)\n",
    "plt.subplots(1,2,figsize=(12,5))\n",
    "\n",
    "#绘制QQ图\n",
    "ax1=plt.subplot(121)\n",
    "pplot.qqplot(line= 'r', ax=ax1, xlabel='期望正态值', ylabel='标准化的观测值')\n",
    "ax1.set_title('正态Q-Q图', fontsize=15)\n",
    "\n",
    "#绘制P-P图\n",
    "ax2=plt.subplot(122)\n",
    "pplot.ppplot(line='45', ax=ax2, xlabel='期望的累计概率', ylabel='观测的累计概率')\n",
    "ax2.set_title('正态P-P图', fontsize=15)\n",
    "plt.show()"
   ]
  },
  {
   "cell_type": "markdown",
   "metadata": {},
   "source": [
    "### 代码框6-15 S-W正态性检验"
   ]
  },
  {
   "cell_type": "code",
   "execution_count": 10,
   "metadata": {},
   "outputs": [
    {
     "name": "stdout",
     "output_type": "stream",
     "text": [
      "统计量W 0.91377 p值 0.0752\n"
     ]
    }
   ],
   "source": [
    "import pandas as pd; from scipy.stats import shapiro\n",
    "example6_4 = pd.read_csv('F:\\JupyterData\\Statistics_Pythoncoding\\data\\chap06\\example6_4.csv', encoding='gbk')\n",
    "w, p_value = shapiro(example6_4['厚度'])\n",
    "print('统计量W',round(w,5),'p值',round(p_value,4))"
   ]
  },
  {
   "cell_type": "code",
   "execution_count": 14,
   "metadata": {},
   "outputs": [
    {
     "name": "stdout",
     "output_type": "stream",
     "text": [
      "统计量D 0.23538 p值 0.2178\n"
     ]
    }
   ],
   "source": [
    "import pandas as pd\n",
    "from scipy.stats import kstest\n",
    "import numpy as np\n",
    "example6_4 = pd.read_csv('F:\\JupyterData\\Statistics_Pythoncoding\\data\\chap06\\example6_4.csv', encoding='gbk')\n",
    "d=example6_4['厚度']\n",
    "D, p_value=kstest(d,'norm',alternative='two-sided',mode='asymp',args=(d.mean(),d.std()))\n",
    "print('统计量D',round(D,5),'p值',round(p_value,4))"
   ]
  },
  {
   "cell_type": "code",
   "execution_count": null,
   "metadata": {},
   "outputs": [],
   "source": []
  },
  {
   "cell_type": "code",
   "execution_count": null,
   "metadata": {},
   "outputs": [],
   "source": []
  },
  {
   "cell_type": "code",
   "execution_count": null,
   "metadata": {},
   "outputs": [],
   "source": []
  }
 ],
 "metadata": {
  "kernelspec": {
   "display_name": "Python 3 (ipykernel)",
   "language": "python",
   "name": "python3"
  },
  "language_info": {
   "codemirror_mode": {
    "name": "ipython",
    "version": 3
   },
   "file_extension": ".py",
   "mimetype": "text/x-python",
   "name": "python",
   "nbconvert_exporter": "python",
   "pygments_lexer": "ipython3",
   "version": "3.9.12"
  },
  "nbTranslate": {
   "displayLangs": [
    "*"
   ],
   "hotkey": "alt-t",
   "langInMainMenu": true,
   "sourceLang": "en",
   "targetLang": "fr",
   "useGoogleTranslate": true
  }
 },
 "nbformat": 4,
 "nbformat_minor": 4
}
