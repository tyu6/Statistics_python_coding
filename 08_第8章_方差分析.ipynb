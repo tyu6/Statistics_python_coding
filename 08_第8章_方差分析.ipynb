{
 "cells": [
  {
   "cell_type": "markdown",
   "metadata": {},
   "source": [
    "### 代码框8-1 单因子方差分析"
   ]
  },
  {
   "cell_type": "code",
   "execution_count": 3,
   "metadata": {},
   "outputs": [
    {
     "data": {
      "text/html": [
       "<div>\n",
       "<style scoped>\n",
       "    .dataframe tbody tr th:only-of-type {\n",
       "        vertical-align: middle;\n",
       "    }\n",
       "\n",
       "    .dataframe tbody tr th {\n",
       "        vertical-align: top;\n",
       "    }\n",
       "\n",
       "    .dataframe thead th {\n",
       "        text-align: right;\n",
       "    }\n",
       "</style>\n",
       "<table border=\"1\" class=\"dataframe\">\n",
       "  <thead>\n",
       "    <tr style=\"text-align: right;\">\n",
       "      <th></th>\n",
       "      <th>品种</th>\n",
       "      <th>产量</th>\n",
       "    </tr>\n",
       "  </thead>\n",
       "  <tbody>\n",
       "    <tr>\n",
       "      <th>0</th>\n",
       "      <td>品种1</td>\n",
       "      <td>81</td>\n",
       "    </tr>\n",
       "    <tr>\n",
       "      <th>1</th>\n",
       "      <td>品种1</td>\n",
       "      <td>82</td>\n",
       "    </tr>\n",
       "    <tr>\n",
       "      <th>2</th>\n",
       "      <td>品种1</td>\n",
       "      <td>79</td>\n",
       "    </tr>\n",
       "    <tr>\n",
       "      <th>3</th>\n",
       "      <td>品种1</td>\n",
       "      <td>81</td>\n",
       "    </tr>\n",
       "    <tr>\n",
       "      <th>4</th>\n",
       "      <td>品种1</td>\n",
       "      <td>78</td>\n",
       "    </tr>\n",
       "    <tr>\n",
       "      <th>5</th>\n",
       "      <td>品种1</td>\n",
       "      <td>89</td>\n",
       "    </tr>\n",
       "    <tr>\n",
       "      <th>6</th>\n",
       "      <td>品种1</td>\n",
       "      <td>92</td>\n",
       "    </tr>\n",
       "    <tr>\n",
       "      <th>7</th>\n",
       "      <td>品种1</td>\n",
       "      <td>87</td>\n",
       "    </tr>\n",
       "    <tr>\n",
       "      <th>8</th>\n",
       "      <td>品种1</td>\n",
       "      <td>85</td>\n",
       "    </tr>\n",
       "    <tr>\n",
       "      <th>9</th>\n",
       "      <td>品种1</td>\n",
       "      <td>86</td>\n",
       "    </tr>\n",
       "    <tr>\n",
       "      <th>10</th>\n",
       "      <td>品种2</td>\n",
       "      <td>71</td>\n",
       "    </tr>\n",
       "    <tr>\n",
       "      <th>11</th>\n",
       "      <td>品种2</td>\n",
       "      <td>72</td>\n",
       "    </tr>\n",
       "    <tr>\n",
       "      <th>12</th>\n",
       "      <td>品种2</td>\n",
       "      <td>72</td>\n",
       "    </tr>\n",
       "    <tr>\n",
       "      <th>13</th>\n",
       "      <td>品种2</td>\n",
       "      <td>66</td>\n",
       "    </tr>\n",
       "    <tr>\n",
       "      <th>14</th>\n",
       "      <td>品种2</td>\n",
       "      <td>72</td>\n",
       "    </tr>\n",
       "    <tr>\n",
       "      <th>15</th>\n",
       "      <td>品种2</td>\n",
       "      <td>77</td>\n",
       "    </tr>\n",
       "    <tr>\n",
       "      <th>16</th>\n",
       "      <td>品种2</td>\n",
       "      <td>81</td>\n",
       "    </tr>\n",
       "    <tr>\n",
       "      <th>17</th>\n",
       "      <td>品种2</td>\n",
       "      <td>77</td>\n",
       "    </tr>\n",
       "    <tr>\n",
       "      <th>18</th>\n",
       "      <td>品种2</td>\n",
       "      <td>73</td>\n",
       "    </tr>\n",
       "    <tr>\n",
       "      <th>19</th>\n",
       "      <td>品种2</td>\n",
       "      <td>79</td>\n",
       "    </tr>\n",
       "    <tr>\n",
       "      <th>20</th>\n",
       "      <td>品种3</td>\n",
       "      <td>76</td>\n",
       "    </tr>\n",
       "    <tr>\n",
       "      <th>21</th>\n",
       "      <td>品种3</td>\n",
       "      <td>79</td>\n",
       "    </tr>\n",
       "    <tr>\n",
       "      <th>22</th>\n",
       "      <td>品种3</td>\n",
       "      <td>77</td>\n",
       "    </tr>\n",
       "    <tr>\n",
       "      <th>23</th>\n",
       "      <td>品种3</td>\n",
       "      <td>76</td>\n",
       "    </tr>\n",
       "    <tr>\n",
       "      <th>24</th>\n",
       "      <td>品种3</td>\n",
       "      <td>78</td>\n",
       "    </tr>\n",
       "    <tr>\n",
       "      <th>25</th>\n",
       "      <td>品种3</td>\n",
       "      <td>89</td>\n",
       "    </tr>\n",
       "    <tr>\n",
       "      <th>26</th>\n",
       "      <td>品种3</td>\n",
       "      <td>87</td>\n",
       "    </tr>\n",
       "    <tr>\n",
       "      <th>27</th>\n",
       "      <td>品种3</td>\n",
       "      <td>84</td>\n",
       "    </tr>\n",
       "    <tr>\n",
       "      <th>28</th>\n",
       "      <td>品种3</td>\n",
       "      <td>87</td>\n",
       "    </tr>\n",
       "    <tr>\n",
       "      <th>29</th>\n",
       "      <td>品种3</td>\n",
       "      <td>87</td>\n",
       "    </tr>\n",
       "  </tbody>\n",
       "</table>\n",
       "</div>"
      ],
      "text/plain": [
       "     品种  产量\n",
       "0   品种1  81\n",
       "1   品种1  82\n",
       "2   品种1  79\n",
       "3   品种1  81\n",
       "4   品种1  78\n",
       "5   品种1  89\n",
       "6   品种1  92\n",
       "7   品种1  87\n",
       "8   品种1  85\n",
       "9   品种1  86\n",
       "10  品种2  71\n",
       "11  品种2  72\n",
       "12  品种2  72\n",
       "13  品种2  66\n",
       "14  品种2  72\n",
       "15  品种2  77\n",
       "16  品种2  81\n",
       "17  品种2  77\n",
       "18  品种2  73\n",
       "19  品种2  79\n",
       "20  品种3  76\n",
       "21  品种3  79\n",
       "22  品种3  77\n",
       "23  品种3  76\n",
       "24  品种3  78\n",
       "25  品种3  89\n",
       "26  品种3  87\n",
       "27  品种3  84\n",
       "28  品种3  87\n",
       "29  品种3  87"
      ]
     },
     "execution_count": 3,
     "metadata": {},
     "output_type": "execute_result"
    }
   ],
   "source": [
    "#将8-1的短格式数据融合成长格式数据，并另存为8-2\n",
    "import pandas as pd\n",
    "example8_1 = pd.read_csv('F:\\JupyterData\\Statistics_Pythoncoding\\data\\chap08\\example8_1.csv',encoding='gbk')\n",
    "example8_2 = pd.melt(example8_1, value_vars=['品种1','品种2','品种3'], var_name='品种', value_name='产量')\n",
    "example8_2.to_csv('F:\\JupyterData\\Statistics_Pythoncoding\\data\\chap08\\example8_2.csv',encoding='gbk', index=True)   #保存融合后的数据\n",
    "example8_2           #展示数据前5行"
   ]
  },
  {
   "cell_type": "code",
   "execution_count": 5,
   "metadata": {},
   "outputs": [
    {
     "data": {
      "text/html": [
       "<div>\n",
       "<style scoped>\n",
       "    .dataframe tbody tr th:only-of-type {\n",
       "        vertical-align: middle;\n",
       "    }\n",
       "\n",
       "    .dataframe tbody tr th {\n",
       "        vertical-align: top;\n",
       "    }\n",
       "\n",
       "    .dataframe thead th {\n",
       "        text-align: right;\n",
       "    }\n",
       "</style>\n",
       "<table border=\"1\" class=\"dataframe\">\n",
       "  <thead>\n",
       "    <tr style=\"text-align: right;\">\n",
       "      <th></th>\n",
       "      <th>df</th>\n",
       "      <th>sum_sq</th>\n",
       "      <th>mean_sq</th>\n",
       "      <th>F</th>\n",
       "      <th>PR(&gt;F)</th>\n",
       "    </tr>\n",
       "  </thead>\n",
       "  <tbody>\n",
       "    <tr>\n",
       "      <th>品种</th>\n",
       "      <td>2.0</td>\n",
       "      <td>560.0</td>\n",
       "      <td>280.000000</td>\n",
       "      <td>12.312704</td>\n",
       "      <td>0.000158</td>\n",
       "    </tr>\n",
       "    <tr>\n",
       "      <th>Residual</th>\n",
       "      <td>27.0</td>\n",
       "      <td>614.0</td>\n",
       "      <td>22.740741</td>\n",
       "      <td>NaN</td>\n",
       "      <td>NaN</td>\n",
       "    </tr>\n",
       "  </tbody>\n",
       "</table>\n",
       "</div>"
      ],
      "text/plain": [
       "            df  sum_sq     mean_sq          F    PR(>F)\n",
       "品种         2.0   560.0  280.000000  12.312704  0.000158\n",
       "Residual  27.0   614.0   22.740741        NaN       NaN"
      ]
     },
     "execution_count": 5,
     "metadata": {},
     "output_type": "execute_result"
    }
   ],
   "source": [
    "#拟合单因子方差分析模型并输出方差分析表\n",
    "from statsmodels.formula.api import ols\n",
    "from statsmodels.stats.anova import anova_lm\n",
    "example8_2 = pd.read_csv('F:\\JupyterData\\Statistics_Pythoncoding\\data\\chap08\\example8_2.csv',encoding='gbk',')\n",
    "model = ols(formula='产量~品种', data = example8_2).fit()\n",
    "anova_lm(model, typ=1)             #typ用于指定误差平方和类型，可选{1,2,3}"
   ]
  },
  {
   "cell_type": "markdown",
   "metadata": {},
   "source": [
    "### 代码框8-2 输出方差分析的模型摘要"
   ]
  },
  {
   "cell_type": "code",
   "execution_count": 6,
   "metadata": {},
   "outputs": [
    {
     "name": "stdout",
     "output_type": "stream",
     "text": [
      "                            OLS Regression Results                            \n",
      "==============================================================================\n",
      "Dep. Variable:                     产量   R-squared:                       0.477\n",
      "Model:                            OLS   Adj. R-squared:                  0.438\n",
      "Method:                 Least Squares   F-statistic:                     12.31\n",
      "Date:                Sun, 21 Aug 2022   Prob (F-statistic):           0.000158\n",
      "Time:                        20:53:02   Log-Likelihood:                -87.850\n",
      "No. Observations:                  30   AIC:                             181.7\n",
      "Df Residuals:                      27   BIC:                             185.9\n",
      "Df Model:                           2                                         \n",
      "Covariance Type:            nonrobust                                         \n",
      "==============================================================================\n",
      "                 coef    std err          t      P>|t|      [0.025      0.975]\n",
      "------------------------------------------------------------------------------\n",
      "Intercept     84.0000      1.508     55.703      0.000      80.906      87.094\n",
      "品种[T.品种2]    -10.0000      2.133     -4.689      0.000     -14.376      -5.624\n",
      "品种[T.品种3]     -2.0000      2.133     -0.938      0.357      -6.376       2.376\n",
      "==============================================================================\n",
      "Omnibus:                        6.194   Durbin-Watson:                   1.094\n",
      "Prob(Omnibus):                  0.045   Jarque-Bera (JB):                1.968\n",
      "Skew:                           0.110   Prob(JB):                        0.374\n",
      "Kurtosis:                       1.765   Cond. No.                         3.73\n",
      "==============================================================================\n",
      "\n",
      "Notes:\n",
      "[1] Standard Errors assume that the covariance matrix of the errors is correctly specified.\n"
     ]
    }
   ],
   "source": [
    "print(model.summary())"
   ]
  },
  {
   "cell_type": "markdown",
   "metadata": {},
   "source": [
    "### 代码框8-3 绘制样本的均值图"
   ]
  },
  {
   "cell_type": "code",
   "execution_count": 6,
   "metadata": {},
   "outputs": [
    {
     "data": {
      "image/png": "[encoded data removed]",
      "text/plain": [
       "<Figure size 648x432 with 1 Axes>"
      ]
     },
     "metadata": {
      "needs_background": "light"
     },
     "output_type": "display_data"
    }
   ],
   "source": [
    "#图8-2的绘制代码\n",
    "import pandas as pd\n",
    "from statsmodels.formula.api import ols\n",
    "from statsmodels.stats.anova import anova_lm\n",
    "import matplotlib.pyplot as plt\n",
    "plt.rcParams['font.sans-serif'] = ['SimHei']\n",
    "plt.rcParams['axes.unicode_minus'] = False\n",
    "# from pylab import mpl\n",
    "# mpl.rcParams['font.sans-serif'] = ['FangSong']  # 设置matplotlib可以显示汉语\n",
    "# mpl.rcParams['axes.unicode_minus'] = False\n",
    "\n",
    "example8_2 = pd.read_csv('F:\\JupyterData\\Statistics_Pythoncoding\\data\\chap08\\example8_2.csv',encoding='gbk')\n",
    "model = ols(formula='产量~品种', data = example8_2).fit()\n",
    "mean = model.params.values[0]\n",
    "lci, uci = model.conf_int().iloc[0].values\n",
    "df_mean = pd.DataFrame([lci, mean, uci], index= ['lci','mean','uci'], columns=['品种1'])\n",
    "df_mean['品种2'] = df_mean['品种1'] + model.params.values[1]\n",
    "df_mean['品种3'] = df_mean['品种1'] + model.params.values[2]\n",
    "ax = df_mean.T.plot(ls='', marker='o', legend=False, c='black', figsize=(9,6), xlabel='品种', ylabel='产量')\n",
    "ax = df_mean.loc['mean'].plot()"
   ]
  },
  {
   "cell_type": "markdown",
   "metadata": {},
   "source": [
    "### 代码框8-4 计算8-2的效应量"
   ]
  },
  {
   "cell_type": "code",
   "execution_count": 5,
   "metadata": {},
   "outputs": [
    {
     "name": "stdout",
     "output_type": "stream",
     "text": [
      "效应量 0.477\n"
     ]
    }
   ],
   "source": [
    "import pandas as pd\n",
    "from statsmodels.formula.api import ols\n",
    "example8_2 = pd.read_csv('F:\\JupyterData\\Statistics_Pythoncoding\\data\\chap08\\example8_2.csv',encoding='gbk')\n",
    "model = ols(formula='产量~品种',data= example8_2).fit()\n",
    "print('效应量',round(model.rsquared, 4))"
   ]
  },
  {
   "cell_type": "markdown",
   "metadata": {},
   "source": [
    "### 代码框8-5 多重比较的HSD法"
   ]
  },
  {
   "cell_type": "code",
   "execution_count": 7,
   "metadata": {},
   "outputs": [
    {
     "name": "stdout",
     "output_type": "stream",
     "text": [
      " Multiple Comparison of Means - Tukey HSD, FWER=0.05 \n",
      "=====================================================\n",
      "group1 group2 meandiff p-adj   lower    upper  reject\n",
      "-----------------------------------------------------\n",
      "   品种1    品种2    -10.0  0.001 -15.2867 -4.7133   True\n",
      "   品种1    品种3     -2.0 0.6149  -7.2867  3.2867  False\n",
      "   品种2    品种3      8.0 0.0024   2.7133 13.2867   True\n",
      "-----------------------------------------------------\n"
     ]
    }
   ],
   "source": [
    "import pandas as pd\n",
    "from statsmodels.stats.multicomp import MultiComparison\n",
    "example8_2 = pd.read_csv('F:\\JupyterData\\Statistics_Pythoncoding\\data\\chap08\\example8_2.csv',encoding='gbk')\n",
    "mc = MultiComparison(example8_2['产量'], groups=example8_2['品种'])\n",
    "print(mc.tukeyhsd(alpha=0.05))"
   ]
  },
  {
   "cell_type": "markdown",
   "metadata": {},
   "source": [
    "### 代码框8-6 主效应方差分析"
   ]
  },
  {
   "cell_type": "code",
   "execution_count": 10,
   "metadata": {},
   "outputs": [
    {
     "data": {
      "text/html": [
       "<div>\n",
       "<style scoped>\n",
       "    .dataframe tbody tr th:only-of-type {\n",
       "        vertical-align: middle;\n",
       "    }\n",
       "\n",
       "    .dataframe tbody tr th {\n",
       "        vertical-align: top;\n",
       "    }\n",
       "\n",
       "    .dataframe thead th {\n",
       "        text-align: right;\n",
       "    }\n",
       "</style>\n",
       "<table border=\"1\" class=\"dataframe\">\n",
       "  <thead>\n",
       "    <tr style=\"text-align: right;\">\n",
       "      <th></th>\n",
       "      <th>df</th>\n",
       "      <th>sum_sq</th>\n",
       "      <th>mean_sq</th>\n",
       "      <th>F</th>\n",
       "      <th>PR(&gt;F)</th>\n",
       "    </tr>\n",
       "  </thead>\n",
       "  <tbody>\n",
       "    <tr>\n",
       "      <th>品种</th>\n",
       "      <td>2.0</td>\n",
       "      <td>560.0</td>\n",
       "      <td>280.000000</td>\n",
       "      <td>54.328358</td>\n",
       "      <td>5.184290e-10</td>\n",
       "    </tr>\n",
       "    <tr>\n",
       "      <th>施肥方式</th>\n",
       "      <td>1.0</td>\n",
       "      <td>480.0</td>\n",
       "      <td>480.000000</td>\n",
       "      <td>93.134328</td>\n",
       "      <td>4.422633e-10</td>\n",
       "    </tr>\n",
       "    <tr>\n",
       "      <th>Residual</th>\n",
       "      <td>26.0</td>\n",
       "      <td>134.0</td>\n",
       "      <td>5.153846</td>\n",
       "      <td>NaN</td>\n",
       "      <td>NaN</td>\n",
       "    </tr>\n",
       "  </tbody>\n",
       "</table>\n",
       "</div>"
      ],
      "text/plain": [
       "            df  sum_sq     mean_sq          F        PR(>F)\n",
       "品种         2.0   560.0  280.000000  54.328358  5.184290e-10\n",
       "施肥方式       1.0   480.0  480.000000  93.134328  4.422633e-10\n",
       "Residual  26.0   134.0    5.153846        NaN           NaN"
      ]
     },
     "execution_count": 10,
     "metadata": {},
     "output_type": "execute_result"
    }
   ],
   "source": [
    "#将表格8—4数据转化为长格式，另存为example8_4\n",
    "import  pandas as pd\n",
    "example8_4 = pd.read_csv(r'F:\\JupyterData\\Statistics_Pythoncoding\\data\\chap08\\table8_4.csv', encoding='gbk')\n",
    "example8_5 = pd.melt(example8_4, id_vars=['施肥方式'], value_vars=['品种1','品种2','品种3'], var_name='品种', value_name='产量')\n",
    "#s输出主效应方差分析表\n",
    "import pandas as pd\n",
    "from statsmodels.formula.api import ols\n",
    "from statsmodels.stats.anova import anova_lm\n",
    "example8_4 = pd.read_csv('F:\\JupyterData\\Statistics_Pythoncoding\\data\\chap08\\example8_4.csv',encoding='gbk')\n",
    "model2m = ols(formula='产量~品种+施肥方式', data= example8_4).fit()  #拟合主效应模型\n",
    "anova_lm(model2m, typ=1)"
   ]
  },
  {
   "cell_type": "code",
   "execution_count": 11,
   "metadata": {},
   "outputs": [
    {
     "name": "stdout",
     "output_type": "stream",
     "text": [
      "                            OLS Regression Results                            \n",
      "==============================================================================\n",
      "Dep. Variable:                     产量   R-squared:                       0.477\n",
      "Model:                            OLS   Adj. R-squared:                  0.438\n",
      "Method:                 Least Squares   F-statistic:                     12.31\n",
      "Date:                Mon, 22 Aug 2022   Prob (F-statistic):           0.000158\n",
      "Time:                        15:44:17   Log-Likelihood:                -87.850\n",
      "No. Observations:                  30   AIC:                             181.7\n",
      "Df Residuals:                      27   BIC:                             185.9\n",
      "Df Model:                           2                                         \n",
      "Covariance Type:            nonrobust                                         \n",
      "==============================================================================\n",
      "                 coef    std err          t      P>|t|      [0.025      0.975]\n",
      "------------------------------------------------------------------------------\n",
      "Intercept     84.0000      1.508     55.703      0.000      80.906      87.094\n",
      "品种[T.品种2]    -10.0000      2.133     -4.689      0.000     -14.376      -5.624\n",
      "品种[T.品种3]     -2.0000      2.133     -0.938      0.357      -6.376       2.376\n",
      "==============================================================================\n",
      "Omnibus:                        6.194   Durbin-Watson:                   1.094\n",
      "Prob(Omnibus):                  0.045   Jarque-Bera (JB):                1.968\n",
      "Skew:                           0.110   Prob(JB):                        0.374\n",
      "Kurtosis:                       1.765   Cond. No.                         3.73\n",
      "==============================================================================\n",
      "\n",
      "Notes:\n",
      "[1] Standard Errors assume that the covariance matrix of the errors is correctly specified.\n"
     ]
    }
   ],
   "source": [
    "#输出模型其他信息\n",
    "print(model.summary())"
   ]
  },
  {
   "cell_type": "markdown",
   "metadata": {},
   "source": [
    "### 代码框8-7 主效应方差分析的效应量"
   ]
  },
  {
   "cell_type": "code",
   "execution_count": 13,
   "metadata": {},
   "outputs": [
    {
     "data": {
      "text/html": [
       "<div>\n",
       "<style scoped>\n",
       "    .dataframe tbody tr th:only-of-type {\n",
       "        vertical-align: middle;\n",
       "    }\n",
       "\n",
       "    .dataframe tbody tr th {\n",
       "        vertical-align: top;\n",
       "    }\n",
       "\n",
       "    .dataframe thead th {\n",
       "        text-align: right;\n",
       "    }\n",
       "</style>\n",
       "<table border=\"1\" class=\"dataframe\">\n",
       "  <thead>\n",
       "    <tr style=\"text-align: right;\">\n",
       "      <th></th>\n",
       "      <th>df</th>\n",
       "      <th>sum_sq</th>\n",
       "      <th>mean_sq</th>\n",
       "      <th>F</th>\n",
       "      <th>PR(&gt;F)</th>\n",
       "      <th>eta_sq</th>\n",
       "      <th>eta_sq_part</th>\n",
       "    </tr>\n",
       "  </thead>\n",
       "  <tbody>\n",
       "    <tr>\n",
       "      <th>品种</th>\n",
       "      <td>2.0</td>\n",
       "      <td>560.0</td>\n",
       "      <td>280.000000</td>\n",
       "      <td>54.328358</td>\n",
       "      <td>5.184290e-10</td>\n",
       "      <td>0.477002</td>\n",
       "      <td>0.806916</td>\n",
       "    </tr>\n",
       "    <tr>\n",
       "      <th>施肥方式</th>\n",
       "      <td>1.0</td>\n",
       "      <td>480.0</td>\n",
       "      <td>480.000000</td>\n",
       "      <td>93.134328</td>\n",
       "      <td>4.422633e-10</td>\n",
       "      <td>0.408859</td>\n",
       "      <td>0.781759</td>\n",
       "    </tr>\n",
       "    <tr>\n",
       "      <th>Residual</th>\n",
       "      <td>26.0</td>\n",
       "      <td>134.0</td>\n",
       "      <td>5.153846</td>\n",
       "      <td>NaN</td>\n",
       "      <td>NaN</td>\n",
       "      <td>0.114140</td>\n",
       "      <td>NaN</td>\n",
       "    </tr>\n",
       "  </tbody>\n",
       "</table>\n",
       "</div>"
      ],
      "text/plain": [
       "            df  sum_sq     mean_sq          F        PR(>F)    eta_sq  \\\n",
       "品种         2.0   560.0  280.000000  54.328358  5.184290e-10  0.477002   \n",
       "施肥方式       1.0   480.0  480.000000  93.134328  4.422633e-10  0.408859   \n",
       "Residual  26.0   134.0    5.153846        NaN           NaN  0.114140   \n",
       "\n",
       "          eta_sq_part  \n",
       "品种           0.806916  \n",
       "施肥方式         0.781759  \n",
       "Residual          NaN  "
      ]
     },
     "execution_count": 13,
     "metadata": {},
     "output_type": "execute_result"
    }
   ],
   "source": [
    "import pandas as pd\n",
    "import numpy as np\n",
    "from statsmodels.formula.api import ols\n",
    "from statsmodels.stats.anova import anova_lm\n",
    "example8_4 = pd.read_csv('F:\\JupyterData\\Statistics_Pythoncoding\\data\\chap08\\example8_4.csv',encoding='gbk')\n",
    "model = ols(formula='产量~品种+施肥方式', data=example8_4).fit()\n",
    "df_res = anova_lm(model, typ=1)\n",
    "df_res['eta_sq'] = df_res['sum_sq']/df_res['sum_sq'].sum()   #计算主效应量\n",
    "df_res['eta_sq_part'] = df_res['sum_sq']/(df_res['sum_sq'] + df_res.loc['Residual', 'sum_sq'])  #计算偏效应量\n",
    "df_res.loc['Residual','eta_sq_part'] = np.nan\n",
    "df_res"
   ]
  },
  {
   "cell_type": "markdown",
   "metadata": {},
   "source": [
    "### 代码框8-8 交互效应的方差分析"
   ]
  },
  {
   "cell_type": "code",
   "execution_count": 14,
   "metadata": {},
   "outputs": [
    {
     "data": {
      "text/html": [
       "<div>\n",
       "<style scoped>\n",
       "    .dataframe tbody tr th:only-of-type {\n",
       "        vertical-align: middle;\n",
       "    }\n",
       "\n",
       "    .dataframe tbody tr th {\n",
       "        vertical-align: top;\n",
       "    }\n",
       "\n",
       "    .dataframe thead th {\n",
       "        text-align: right;\n",
       "    }\n",
       "</style>\n",
       "<table border=\"1\" class=\"dataframe\">\n",
       "  <thead>\n",
       "    <tr style=\"text-align: right;\">\n",
       "      <th></th>\n",
       "      <th>df</th>\n",
       "      <th>sum_sq</th>\n",
       "      <th>mean_sq</th>\n",
       "      <th>F</th>\n",
       "      <th>PR(&gt;F)</th>\n",
       "    </tr>\n",
       "  </thead>\n",
       "  <tbody>\n",
       "    <tr>\n",
       "      <th>品种</th>\n",
       "      <td>2.0</td>\n",
       "      <td>560.0</td>\n",
       "      <td>280.00</td>\n",
       "      <td>54.368932</td>\n",
       "      <td>1.220666e-09</td>\n",
       "    </tr>\n",
       "    <tr>\n",
       "      <th>施肥方式</th>\n",
       "      <td>1.0</td>\n",
       "      <td>480.0</td>\n",
       "      <td>480.00</td>\n",
       "      <td>93.203883</td>\n",
       "      <td>9.729467e-10</td>\n",
       "    </tr>\n",
       "    <tr>\n",
       "      <th>品种:施肥方式</th>\n",
       "      <td>2.0</td>\n",
       "      <td>10.4</td>\n",
       "      <td>5.20</td>\n",
       "      <td>1.009709</td>\n",
       "      <td>3.792836e-01</td>\n",
       "    </tr>\n",
       "    <tr>\n",
       "      <th>Residual</th>\n",
       "      <td>24.0</td>\n",
       "      <td>123.6</td>\n",
       "      <td>5.15</td>\n",
       "      <td>NaN</td>\n",
       "      <td>NaN</td>\n",
       "    </tr>\n",
       "  </tbody>\n",
       "</table>\n",
       "</div>"
      ],
      "text/plain": [
       "            df  sum_sq  mean_sq          F        PR(>F)\n",
       "品种         2.0   560.0   280.00  54.368932  1.220666e-09\n",
       "施肥方式       1.0   480.0   480.00  93.203883  9.729467e-10\n",
       "品种:施肥方式    2.0    10.4     5.20   1.009709  3.792836e-01\n",
       "Residual  24.0   123.6     5.15        NaN           NaN"
      ]
     },
     "execution_count": 14,
     "metadata": {},
     "output_type": "execute_result"
    }
   ],
   "source": [
    "import pandas as pd\n",
    "from statsmodels.formula.api import ols\n",
    "from statsmodels.stats.anova import anova_lm\n",
    "example8_4 = pd.read_csv('F:\\JupyterData\\Statistics_Pythoncoding\\data\\chap08\\example8_4.csv',encoding='gbk')\n",
    "model2i = ols(formula='产量~品种+施肥方式+品种:施肥方式', data=example8_4).fit()\n",
    "anova_lm(model2i, typ=1)\n"
   ]
  },
  {
   "cell_type": "code",
   "execution_count": 15,
   "metadata": {},
   "outputs": [
    {
     "name": "stdout",
     "output_type": "stream",
     "text": [
      "                            OLS Regression Results                            \n",
      "==============================================================================\n",
      "Dep. Variable:                     产量   R-squared:                       0.895\n",
      "Model:                            OLS   Adj. R-squared:                  0.873\n",
      "Method:                 Least Squares   F-statistic:                     40.79\n",
      "Date:                Mon, 22 Aug 2022   Prob (F-statistic):           5.77e-11\n",
      "Time:                        16:04:08   Log-Likelihood:                -63.806\n",
      "No. Observations:                  30   AIC:                             139.6\n",
      "Df Residuals:                      24   BIC:                             148.0\n",
      "Df Model:                           5                                         \n",
      "Covariance Type:            nonrobust                                         \n",
      "=======================================================================================\n",
      "                          coef    std err          t      P>|t|      [0.025      0.975]\n",
      "---------------------------------------------------------------------------------------\n",
      "Intercept              87.8000      1.015     86.512      0.000      85.705      89.895\n",
      "品种[T.品种2]             -10.4000      1.435     -7.246      0.000     -13.362      -7.438\n",
      "品种[T.品种3]              -1.0000      1.435     -0.697      0.493      -3.962       1.962\n",
      "施肥方式[T.甲]              -7.6000      1.435     -5.295      0.000     -10.562      -4.638\n",
      "品种[T.品种2]:施肥方式[T.甲]     0.8000      2.030      0.394      0.697      -3.389       4.989\n",
      "品种[T.品种3]:施肥方式[T.甲]    -2.0000      2.030     -0.985      0.334      -6.189       2.189\n",
      "==============================================================================\n",
      "Omnibus:                        1.127   Durbin-Watson:                   2.334\n",
      "Prob(Omnibus):                  0.569   Jarque-Bera (JB):                0.644\n",
      "Skew:                          -0.359   Prob(JB):                        0.725\n",
      "Kurtosis:                       3.007   Cond. No.                         9.77\n",
      "==============================================================================\n",
      "\n",
      "Notes:\n",
      "[1] Standard Errors assume that the covariance matrix of the errors is correctly specified.\n"
     ]
    }
   ],
   "source": [
    "#输出模型其他信息\n",
    "print(model2i.summary())"
   ]
  },
  {
   "cell_type": "markdown",
   "metadata": {},
   "source": [
    "### 代码框8-9 绘制品种和施肥方式的主效应和交互效应图"
   ]
  },
  {
   "cell_type": "code",
   "execution_count": 11,
   "metadata": {},
   "outputs": [
    {
     "data": {
      "image/png": "[encoded data removed]",
      "text/plain": [
       "<Figure size 864x720 with 4 Axes>"
      ]
     },
     "metadata": {
      "needs_background": "light"
     },
     "output_type": "display_data"
    }
   ],
   "source": [
    "#图8-5的绘制代码\n",
    "import pandas as pd\n",
    "from statsmodels.graphics.api import interaction_plot\n",
    "import matplotlib.pyplot as plt\n",
    "plt.rcParams['font.sans-serif'] = ['SimHei']\n",
    "plt.rcParams['axes.unicode_minus'] = False\n",
    "example8_4 = pd.read_csv('F:\\JupyterData\\Statistics_Pythoncoding\\data\\chap08\\example8_4.csv',encoding='gbk')\n",
    "y_col = '产量'; x1_col='品种'; x2_col= '施肥方式'\n",
    "plt.subplots(2,2, figsize=(12,10))\n",
    "ax1=plt.subplot(221)\n",
    "interaction_plot(x=example8_4[x2_col],trace=example8_4[x1_col],response=example8_4[y_col],xlabel=y_col, ylabel=x2_col, ax=ax1)\n",
    "ax1.set_title(f'{y_col}~{x2_col}|{x1_col}')\n",
    "ax2 = plt.subplot(222)\n",
    "example8_4.boxplot(column=y_col, by=x1_col,grid=False,ax=ax2)\n",
    "ax2.set_title(f'{y_col}~{x1_col}|{x1_col}')\n",
    "ax3 = plt.subplot(223)\n",
    "example8_4.boxplot(column=y_col, by=x2_col, grid=False, ax=ax3)\n",
    "ax3.set_title(f'{y_col}~{x2_col}|{x2_col}')\n",
    "ax4= plt.subplot(224)\n",
    "interaction_plot(x=example8_4[x1_col],trace=example8_4[x2_col],response=example8_4[y_col],xlabel=y_col,ylabel=x1_col,ax=ax4)\n",
    "ax4.set_title(f'{y_col}~{x1_col}|{x2_col}')\n",
    "plt.suptitle('产量：主效应和交互效应图',fontsize=20)\n",
    "plt.show()\n",
    "              \n",
    "              "
   ]
  },
  {
   "cell_type": "markdown",
   "metadata": {},
   "source": [
    "### 代码框8-10 交互效应方差分析的效应量"
   ]
  },
  {
   "cell_type": "code",
   "execution_count": 18,
   "metadata": {},
   "outputs": [
    {
     "data": {
      "text/html": [
       "<div>\n",
       "<style scoped>\n",
       "    .dataframe tbody tr th:only-of-type {\n",
       "        vertical-align: middle;\n",
       "    }\n",
       "\n",
       "    .dataframe tbody tr th {\n",
       "        vertical-align: top;\n",
       "    }\n",
       "\n",
       "    .dataframe thead th {\n",
       "        text-align: right;\n",
       "    }\n",
       "</style>\n",
       "<table border=\"1\" class=\"dataframe\">\n",
       "  <thead>\n",
       "    <tr style=\"text-align: right;\">\n",
       "      <th></th>\n",
       "      <th>df</th>\n",
       "      <th>sum_sq</th>\n",
       "      <th>mean_sq</th>\n",
       "      <th>F</th>\n",
       "      <th>PR(&gt;F)</th>\n",
       "      <th>eta_sq</th>\n",
       "      <th>eta_sq_part</th>\n",
       "    </tr>\n",
       "  </thead>\n",
       "  <tbody>\n",
       "    <tr>\n",
       "      <th>品种</th>\n",
       "      <td>2.0</td>\n",
       "      <td>560.0</td>\n",
       "      <td>280.00</td>\n",
       "      <td>54.368932</td>\n",
       "      <td>1.220666e-09</td>\n",
       "      <td>0.477002</td>\n",
       "      <td>0.819193</td>\n",
       "    </tr>\n",
       "    <tr>\n",
       "      <th>施肥方式</th>\n",
       "      <td>1.0</td>\n",
       "      <td>480.0</td>\n",
       "      <td>480.00</td>\n",
       "      <td>93.203883</td>\n",
       "      <td>9.729467e-10</td>\n",
       "      <td>0.408859</td>\n",
       "      <td>0.795229</td>\n",
       "    </tr>\n",
       "    <tr>\n",
       "      <th>品种:施肥方式</th>\n",
       "      <td>2.0</td>\n",
       "      <td>10.4</td>\n",
       "      <td>5.20</td>\n",
       "      <td>1.009709</td>\n",
       "      <td>3.792836e-01</td>\n",
       "      <td>0.008859</td>\n",
       "      <td>0.077612</td>\n",
       "    </tr>\n",
       "    <tr>\n",
       "      <th>Residual</th>\n",
       "      <td>24.0</td>\n",
       "      <td>123.6</td>\n",
       "      <td>5.15</td>\n",
       "      <td>NaN</td>\n",
       "      <td>NaN</td>\n",
       "      <td>0.105281</td>\n",
       "      <td>NaN</td>\n",
       "    </tr>\n",
       "  </tbody>\n",
       "</table>\n",
       "</div>"
      ],
      "text/plain": [
       "            df  sum_sq  mean_sq          F        PR(>F)    eta_sq  \\\n",
       "品种         2.0   560.0   280.00  54.368932  1.220666e-09  0.477002   \n",
       "施肥方式       1.0   480.0   480.00  93.203883  9.729467e-10  0.408859   \n",
       "品种:施肥方式    2.0    10.4     5.20   1.009709  3.792836e-01  0.008859   \n",
       "Residual  24.0   123.6     5.15        NaN           NaN  0.105281   \n",
       "\n",
       "          eta_sq_part  \n",
       "品种           0.819193  \n",
       "施肥方式         0.795229  \n",
       "品种:施肥方式      0.077612  \n",
       "Residual          NaN  "
      ]
     },
     "execution_count": 18,
     "metadata": {},
     "output_type": "execute_result"
    }
   ],
   "source": [
    "import pandas as pd\n",
    "import numpy as np\n",
    "from statsmodels.formula.api import ols\n",
    "from statsmodels.stats.anova import anova_lm\n",
    "example8_4 = pd.read_csv('F:\\JupyterData\\Statistics_Pythoncoding\\data\\chap08\\example8_4.csv',encoding='gbk')\n",
    "model2i = ols(formula='产量~品种+施肥方式+品种:施肥方式',data=example8_4).fit()\n",
    "df_res = anova_lm(model2i, typ=1)\n",
    "df_res['eta_sq'] = df_res['sum_sq']/df_res['sum_sq'].sum()\n",
    "df_res['eta_sq_part'] = df_res['sum_sq']/(df_res['sum_sq'] + df_res.loc['Residual','sum_sq'])\n",
    "df_res.loc['Residual','eta_sq_part'] = np.nan\n",
    "df_res"
   ]
  },
  {
   "cell_type": "markdown",
   "metadata": {},
   "source": [
    "### 代码框8-11 用QQ途检验正态性"
   ]
  },
  {
   "cell_type": "code",
   "execution_count": 13,
   "metadata": {},
   "outputs": [
    {
     "data": {
      "image/png": "[encoded data removed]",
      "text/plain": [
       "<Figure size 1152x360 with 3 Axes>"
      ]
     },
     "metadata": {
      "needs_background": "light"
     },
     "output_type": "display_data"
    }
   ],
   "source": [
    "#图8-6的绘制代码（每个品种产量的正态Q-Q图）\n",
    "import pandas as pd\n",
    "import statsmodels.api as sm\n",
    "import matplotlib\n",
    "from matplotlib import pyplot as plt\n",
    "plt.rcParams['font.sans-serif'] = ['STSong']\n",
    "plt.rcParams['axes.unicode_minus'] = False\n",
    "example8_1 = pd.read_csv('F:\\JupyterData\\Statistics_Pythoncoding\\data\\chap08\\example8_1.csv',encoding='gbk')\n",
    "plt.subplots(1,3,figsize=(16,5))\n",
    "ax1 = plt.subplot(131)\n",
    "pplot_1 = sm.ProbPlot(example8_1['品种1'],fit=True)\n",
    "pplot_1.qqplot(line='r',ax=ax1,xlabel='期望正态值',ylabel='标准化的观测值')\n",
    "ax1.set_title('品种1的Q-Q图', fontsize=15)\n",
    "ax2 = plt.subplot(132)\n",
    "pplot_2 = sm.ProbPlot(example8_1['品种2'],fit=True)\n",
    "pplot_2.qqplot(line='r',ax=ax2,xlabel='期望正态值',ylabel='标准化的观测值')\n",
    "ax2.set_title('品种2的Q-Q图',fontsize=15)\n",
    "ax3=plt.subplot(133)\n",
    "pplot_3 = sm.ProbPlot(example8_1['品种3'],fit=True)\n",
    "pplot_3.qqplot(line='r',ax=ax3,xlabel='期望正态值',ylabel='标准化的观测值')\n",
    "ax3.set_title('品种3的Q-Q图', fontsize=15)\n",
    "plt.show()"
   ]
  },
  {
   "cell_type": "code",
   "execution_count": 17,
   "metadata": {},
   "outputs": [
    {
     "data": {
      "image/png": "[encoded data removed]",
      "text/plain": [
       "<Figure size 864x360 with 2 Axes>"
      ]
     },
     "metadata": {
      "needs_background": "light"
     },
     "output_type": "display_data"
    }
   ],
   "source": [
    "#图8-7的绘制代码（三个品种产量数据合并后的正态Q-Q图，直方图，核密度曲线）\n",
    "import pandas as pd \n",
    "import statsmodels.api as sm\n",
    "from matplotlib import pyplot as plt\n",
    "plt.rcParams['font.sans-serif'] = ['SimHei']\n",
    "plt.rcParams['axes.unicode_minus'] = False\n",
    "example8_2 = pd.read_csv('F:\\JupyterData\\Statistics_Pythoncoding\\data\\chap08\\example8_2.csv',encoding='gbk')\n",
    "plt.subplots(1,2,figsize=(12,5))\n",
    "ax1=plt.subplot(121)\n",
    "pplot = sm.ProbPlot(example8_2['产量'],fit=True)\n",
    "pplot.qqplot(line='r', ax=ax1, xlabel='期望正态值',ylabel='标准化的观测值')\n",
    "ax2 = plt.subplot(122)\n",
    "example8_2['产量'].plot(bins=5, kind='hist',ax=ax2,density=True,legend=False)\n",
    "example8_2['产量'].plot(kind='density', ax=ax2, linewidth=3)\n",
    "ax2.set_xlim(65,93)\n",
    "plt.show()"
   ]
  },
  {
   "cell_type": "markdown",
   "metadata": {},
   "source": [
    "### 代码框8-12 S-W和K-S正态性检验"
   ]
  },
  {
   "cell_type": "code",
   "execution_count": 23,
   "metadata": {},
   "outputs": [
    {
     "name": "stdout",
     "output_type": "stream",
     "text": [
      "统计量 0.97299 p值 0.6237\n"
     ]
    }
   ],
   "source": [
    "#S-W正态性检验\n",
    "import pandas as pd\n",
    "from scipy.stats import shapiro\n",
    "example8_2 = pd.read_csv('F:\\JupyterData\\Statistics_Pythoncoding\\data\\chap08\\example8_2.csv',encoding='gbk')\n",
    "w, p_value = shapiro(example8_2['产量'])\n",
    "print('统计量',round(w,5),'p值',round(p_value,4))"
   ]
  },
  {
   "cell_type": "code",
   "execution_count": 26,
   "metadata": {},
   "outputs": [
    {
     "name": "stdout",
     "output_type": "stream",
     "text": [
      "统计量 0.09771 P值 0.9369\n"
     ]
    }
   ],
   "source": [
    "#K-S正态性检验\n",
    "import pandas as pd\n",
    "from scipy.stats import kstest\n",
    "example8_2 = pd.read_csv('F:\\JupyterData\\Statistics_Pythoncoding\\data\\chap08\\example8_2.csv',encoding='gbk')\n",
    "D, p_value = kstest(example8_2['产量'],'norm',alternative='two-sided',mode='asymp',args=(example8_2['产量'].mean(),example8_2['产量'].std()))\n",
    "print('统计量',round(D,5),'P值',round(p_value,4))\n"
   ]
  },
  {
   "cell_type": "markdown",
   "metadata": {},
   "source": [
    "### 代码框8-13 用残差图检验方差齐性"
   ]
  },
  {
   "cell_type": "code",
   "execution_count": 4,
   "metadata": {},
   "outputs": [
    {
     "data": {
      "image/png": "[encoded data removed]",
      "text/plain": [
       "<Figure size 864x360 with 2 Axes>"
      ]
     },
     "metadata": {
      "needs_background": "light"
     },
     "output_type": "display_data"
    }
   ],
   "source": [
    "import pandas as pd\n",
    "from statsmodels.formula.api import ols\n",
    "import statsmodels.api as sm\n",
    "import matplotlib.pyplot as plt\n",
    "plt.rcParams['font.sans-serif'] = ['SimHei']\n",
    "plt.rcParams['axes.unicode_minus'] = False\n",
    "example8_2 = pd.read_csv('Bartlettk')\n",
    "model = ols(formula='产量~品种', data=example8_2).fit()\n",
    "plt.subplots(1,2,figsize=(12,5))\n",
    "plt.subplot(121)\n",
    "plt.scatter(model.fittedvalues, model.resid)\n",
    "plt.xlabel('拟合值')\n",
    "plt.ylabel('残差')\n",
    "plt.title('残差值与拟合值图', fontsize=15)\n",
    "plt.axhline(0, ls='--')\n",
    "ax2 = plt.subplot(122)\n",
    "pplot = sm.ProbPlot(model.resid,fit=True)\n",
    "pplot.qqplot(line='r', ax=ax2, xlabel='期望正态值', ylabel='标准化的观测值')\n",
    "ax2.set_title('正态Q-Q图', fontsize=15)\n",
    "plt.show()"
   ]
  },
  {
   "cell_type": "markdown",
   "metadata": {},
   "source": [
    "### 代码框8-14 Bartlett方差齐性检验"
   ]
  },
  {
   "cell_type": "code",
   "execution_count": 6,
   "metadata": {},
   "outputs": [
    {
     "name": "stdout",
     "output_type": "stream",
     "text": [
      "统计量 0.30152 P值 0.8601\n"
     ]
    }
   ],
   "source": [
    "#不同品种产量的Bartlett检验\n",
    "import pandas as pd\n",
    "from scipy.stats import bartlett\n",
    "example8_4 = pd.read_csv('F:\\JupyterData\\Statistics_Pythoncoding\\data\\chap08\\example8_4.csv',encoding='gbk')\n",
    "sample1 = example8_4.loc[example8_4['品种']=='品种1','产量'].values\n",
    "sample2 = example8_4.loc[example8_4['品种']=='品种2','产量'].values\n",
    "sample3 = example8_4.loc[example8_4['品种']=='品种3','产量'].values\n",
    "B, p_value = bartlett(sample1, sample2, sample3)\n",
    "print('统计量',round(B,5),'P值',round(p_value,4))"
   ]
  },
  {
   "cell_type": "code",
   "execution_count": 7,
   "metadata": {},
   "outputs": [
    {
     "name": "stdout",
     "output_type": "stream",
     "text": [
      "统计量 0.42431 P值 0.5148\n"
     ]
    }
   ],
   "source": [
    "#不同施肥方式的Bartlett检验\n",
    "import pandas as pd\n",
    "from scipy.stats import bartlett\n",
    "example8_4 = pd.read_csv('F:\\JupyterData\\Statistics_Pythoncoding\\data\\chap08\\example8_4.csv',encoding='gbk')\n",
    "sample1 = example8_4.loc[example8_4['施肥方式']=='甲','产量'].values\n",
    "sample2 = example8_4.loc[example8_4['施肥方式']=='乙','产量'].values\n",
    "B, p_value = bartlett(sample1,sample2)\n",
    "print('统计量',round(B,5),'P值',round(p_value,4))"
   ]
  },
  {
   "cell_type": "markdown",
   "metadata": {},
   "source": [
    "### 代码框8-15 levene方差齐性检验"
   ]
  },
  {
   "cell_type": "code",
   "execution_count": 8,
   "metadata": {},
   "outputs": [
    {
     "name": "stdout",
     "output_type": "stream",
     "text": [
      "统计量 0.92919 P值 0.4071\n"
     ]
    }
   ],
   "source": [
    "#不同品种产量的levene检验\n",
    "import pandas as pd\n",
    "from scipy.stats import levene\n",
    "example8_4 = pd.read_csv('F:\\JupyterData\\Statistics_Pythoncoding\\data\\chap08\\example8_4.csv',encoding='gbk')\n",
    "sample1 = example8_4.loc[example8_4['品种']=='品种1', '产量'].values\n",
    "sample2 = example8_4.loc[example8_4['品种']=='品种2', '产量'].values\n",
    "sample3 = example8_4.loc[example8_4['品种']=='品种3', '产量'].values\n",
    "F, p_value=levene(sample1, sample2, sample3)\n",
    "print('统计量',round(F,5),'P值',round(p_value,4))"
   ]
  },
  {
   "cell_type": "code",
   "execution_count": 9,
   "metadata": {},
   "outputs": [
    {
     "name": "stdout",
     "output_type": "stream",
     "text": [
      "统计量 0.23228 P值 0.6336\n"
     ]
    }
   ],
   "source": [
    "#不同施肥方式的levene检验\n",
    "import pandas as pd\n",
    "from scipy.stats import levene\n",
    "example8_4 = pd.read_csv('F:\\JupyterData\\Statistics_Pythoncoding\\data\\chap08\\example8_4.csv',encoding='gbk')\n",
    "sample1 = example8_4.loc[example8_4['施肥方式']=='甲','产量'].values\n",
    "sample2 = example8_4.loc[example8_4['施肥方式']=='乙','产量'].values\n",
    "F, p_value=levene(sample1, sample2)\n",
    "print('统计量',round(F,5),'P值',round(p_value,4))"
   ]
  },
  {
   "cell_type": "code",
   "execution_count": null,
   "metadata": {},
   "outputs": [],
   "source": []
  },
  {
   "cell_type": "code",
   "execution_count": null,
   "metadata": {},
   "outputs": [],
   "source": []
  },
  {
   "cell_type": "code",
   "execution_count": null,
   "metadata": {},
   "outputs": [],
   "source": []
  }
 ],
 "metadata": {
  "kernelspec": {
   "display_name": "Python 3 (ipykernel)",
   "language": "python",
   "name": "python3"
  },
  "language_info": {
   "codemirror_mode": {
    "name": "ipython",
    "version": 3
   },
   "file_extension": ".py",
   "mimetype": "text/x-python",
   "name": "python",
   "nbconvert_exporter": "python",
   "pygments_lexer": "ipython3",
   "version": "3.9.12"
  },
  "nbTranslate": {
   "displayLangs": [
    "*"
   ],
   "hotkey": "alt-t",
   "langInMainMenu": true,
   "sourceLang": "en",
   "targetLang": "fr",
   "useGoogleTranslate": true
  }
 },
 "nbformat": 4,
 "nbformat_minor": 4
}
