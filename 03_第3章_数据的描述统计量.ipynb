{
 "cells": [
  {
   "cell_type": "markdown",
   "metadata": {},
   "source": [
    "# 第3章 数据的描述统计量"
   ]
  },
  {
   "cell_type": "markdown",
   "metadata": {},
   "source": [
    "### 代码框3-1 计算30名学生的考试分数平均数"
   ]
  },
  {
   "cell_type": "code",
   "execution_count": 2,
   "metadata": {},
   "outputs": [
    {
     "data": {
      "text/plain": [
       "80.0"
      ]
     },
     "execution_count": 2,
     "metadata": {},
     "output_type": "execute_result"
    }
   ],
   "source": [
    "import pandas as pd\n",
    "example3_1 = pd.read_csv('F:\\JupyterData\\Statistics_Pythoncoding\\data\\chap03\\example3_1.csv',encoding='gbk')\n",
    "pd.DataFrame.mean(example3_1['分数'])"
   ]
  },
  {
   "cell_type": "markdown",
   "metadata": {},
   "source": [
    "### 代码框3-2 计算30名学生考试分数的加权平均数"
   ]
  },
  {
   "cell_type": "code",
   "execution_count": 3,
   "metadata": {},
   "outputs": [
    {
     "name": "stdout",
     "output_type": "stream",
     "text": [
      "加权平均： 81.0\n"
     ]
    }
   ],
   "source": [
    "import pandas as pd\n",
    "import numpy as np\n",
    "example3_2 = pd.read_csv('F:\\JupyterData\\Statistics_Pythoncoding\\data\\chap03\\example3_2.csv',encoding='gbk')\n",
    "m=example3_2['组中值']\n",
    "f=example3_2['人数']\n",
    "print('加权平均：',np.average(a=m, weights=f))"
   ]
  },
  {
   "cell_type": "markdown",
   "metadata": {},
   "source": [
    "### 代码框3-3 计算30名学生考试分数的中位数"
   ]
  },
  {
   "cell_type": "code",
   "execution_count": 10,
   "metadata": {},
   "outputs": [
    {
     "name": "stdout",
     "output_type": "stream",
     "text": [
      "中位数: 分数    85.0\n",
      "dtype: float64\n"
     ]
    }
   ],
   "source": [
    "import pandas as pd\n",
    "example3_1 = pd.read_csv('F:\\JupyterData\\Statistics_Pythoncoding\\data\\chap03\\example3_1.csv',encoding='gbk')       #增添数据导入\n",
    "z=example3_1.median()                                                                                              #计算中位数\n",
    "print('中位数:',z)                                                                                "
   ]
  },
  {
   "cell_type": "markdown",
   "metadata": {},
   "source": [
    "### 代码框3-4 计算30名学生考试分数的四分位数"
   ]
  },
  {
   "cell_type": "code",
   "execution_count": 11,
   "metadata": {},
   "outputs": [
    {
     "data": {
      "text/html": [
       "<div>\n",
       "<style scoped>\n",
       "    .dataframe tbody tr th:only-of-type {\n",
       "        vertical-align: middle;\n",
       "    }\n",
       "\n",
       "    .dataframe tbody tr th {\n",
       "        vertical-align: top;\n",
       "    }\n",
       "\n",
       "    .dataframe thead th {\n",
       "        text-align: right;\n",
       "    }\n",
       "</style>\n",
       "<table border=\"1\" class=\"dataframe\">\n",
       "  <thead>\n",
       "    <tr style=\"text-align: right;\">\n",
       "      <th></th>\n",
       "      <th>分数</th>\n",
       "    </tr>\n",
       "  </thead>\n",
       "  <tbody>\n",
       "    <tr>\n",
       "      <th>0.25</th>\n",
       "      <td>70.5</td>\n",
       "    </tr>\n",
       "    <tr>\n",
       "      <th>0.75</th>\n",
       "      <td>90.0</td>\n",
       "    </tr>\n",
       "  </tbody>\n",
       "</table>\n",
       "</div>"
      ],
      "text/plain": [
       "        分数\n",
       "0.25  70.5\n",
       "0.75  90.0"
      ]
     },
     "execution_count": 11,
     "metadata": {},
     "output_type": "execute_result"
    }
   ],
   "source": [
    "import pandas as pd\n",
    "pd.DataFrame.quantile(example3_1,q=[0.25,0.75],interpolation='linear')"
   ]
  },
  {
   "cell_type": "markdown",
   "metadata": {},
   "source": [
    "### 代码框3-5 计算30名学生考试分数的百分位数"
   ]
  },
  {
   "cell_type": "code",
   "execution_count": 12,
   "metadata": {},
   "outputs": [
    {
     "data": {
      "text/html": [
       "<div>\n",
       "<style scoped>\n",
       "    .dataframe tbody tr th:only-of-type {\n",
       "        vertical-align: middle;\n",
       "    }\n",
       "\n",
       "    .dataframe tbody tr th {\n",
       "        vertical-align: top;\n",
       "    }\n",
       "\n",
       "    .dataframe thead th {\n",
       "        text-align: right;\n",
       "    }\n",
       "</style>\n",
       "<table border=\"1\" class=\"dataframe\">\n",
       "  <thead>\n",
       "    <tr style=\"text-align: right;\">\n",
       "      <th></th>\n",
       "      <th>分数</th>\n",
       "    </tr>\n",
       "  </thead>\n",
       "  <tbody>\n",
       "    <tr>\n",
       "      <th>0.10</th>\n",
       "      <td>60.4</td>\n",
       "    </tr>\n",
       "    <tr>\n",
       "      <th>0.25</th>\n",
       "      <td>70.5</td>\n",
       "    </tr>\n",
       "    <tr>\n",
       "      <th>0.50</th>\n",
       "      <td>85.0</td>\n",
       "    </tr>\n",
       "    <tr>\n",
       "      <th>0.75</th>\n",
       "      <td>90.0</td>\n",
       "    </tr>\n",
       "    <tr>\n",
       "      <th>0.90</th>\n",
       "      <td>92.3</td>\n",
       "    </tr>\n",
       "  </tbody>\n",
       "</table>\n",
       "</div>"
      ],
      "text/plain": [
       "        分数\n",
       "0.10  60.4\n",
       "0.25  70.5\n",
       "0.50  85.0\n",
       "0.75  90.0\n",
       "0.90  92.3"
      ]
     },
     "execution_count": 12,
     "metadata": {},
     "output_type": "execute_result"
    }
   ],
   "source": [
    "import pandas as pd\n",
    "pd.DataFrame.quantile(example3_1,q=[0.1,0.25,0.5,0.75,0.9],interpolation='linear')"
   ]
  },
  {
   "cell_type": "markdown",
   "metadata": {},
   "source": [
    "### 代码框3-6 计算30名学生考试分数众数"
   ]
  },
  {
   "cell_type": "code",
   "execution_count": 13,
   "metadata": {},
   "outputs": [
    {
     "data": {
      "text/plain": [
       "0    86\n",
       "dtype: int64"
      ]
     },
     "execution_count": 13,
     "metadata": {},
     "output_type": "execute_result"
    }
   ],
   "source": [
    "import pandas as pd\n",
    "mode = example3_1['分数'].mode()\n",
    "mode"
   ]
  },
  {
   "cell_type": "markdown",
   "metadata": {},
   "source": [
    "### 代码框3-7 计算30名学生考试分数的极差和四分位差"
   ]
  },
  {
   "cell_type": "code",
   "execution_count": 16,
   "metadata": {},
   "outputs": [
    {
     "name": "stdout",
     "output_type": "stream",
     "text": [
      "极差: 47\n",
      "四分位差: 19.5\n"
     ]
    }
   ],
   "source": [
    "#计算极差\n",
    "import pandas as pd\n",
    "R=example3_1['分数'].max()-example3_1['分数'].min()\n",
    "print('极差:',R)\n",
    "\n",
    "#计算四分位差\n",
    "import numpy as np\n",
    "IQR=np.quantile(example3_1['分数'],q=0.75)-np.quantile(example3_1['分数'],q=0.25)\n",
    "print('四分位差:',IQR)"
   ]
  },
  {
   "cell_type": "markdown",
   "metadata": {},
   "source": [
    "### 代码框3-8 计算30名学生考试分数的方差和标准差"
   ]
  },
  {
   "cell_type": "code",
   "execution_count": 18,
   "metadata": {},
   "outputs": [
    {
     "name": "stdout",
     "output_type": "stream",
     "text": [
      "方差: 174.6206896551724\n",
      "标准差: 13.21\n"
     ]
    }
   ],
   "source": [
    "#计算方差\n",
    "import pandas as pd\n",
    "var = example3_1['分数'].var(ddof=1)\n",
    "print('方差:',var)\n",
    "\n",
    "#计算标准差\n",
    "sd =example3_1['分数'].std()\n",
    "print('标准差:',round(sd,2))"
   ]
  },
  {
   "cell_type": "markdown",
   "metadata": {},
   "source": [
    "### 代码框3-9 计算6个城市AQI的平均数、标准差和变异系数"
   ]
  },
  {
   "cell_type": "code",
   "execution_count": 19,
   "metadata": {},
   "outputs": [
    {
     "data": {
      "text/html": [
       "<div>\n",
       "<style scoped>\n",
       "    .dataframe tbody tr th:only-of-type {\n",
       "        vertical-align: middle;\n",
       "    }\n",
       "\n",
       "    .dataframe tbody tr th {\n",
       "        vertical-align: top;\n",
       "    }\n",
       "\n",
       "    .dataframe thead th {\n",
       "        text-align: right;\n",
       "    }\n",
       "</style>\n",
       "<table border=\"1\" class=\"dataframe\">\n",
       "  <thead>\n",
       "    <tr style=\"text-align: right;\">\n",
       "      <th></th>\n",
       "      <th>平均数</th>\n",
       "      <th>标准差</th>\n",
       "      <th>变异系数</th>\n",
       "    </tr>\n",
       "  </thead>\n",
       "  <tbody>\n",
       "    <tr>\n",
       "      <th>北京</th>\n",
       "      <td>78.4454</td>\n",
       "      <td>41.6278</td>\n",
       "      <td>0.5307</td>\n",
       "    </tr>\n",
       "    <tr>\n",
       "      <th>上海</th>\n",
       "      <td>67.9399</td>\n",
       "      <td>28.9772</td>\n",
       "      <td>0.4265</td>\n",
       "    </tr>\n",
       "    <tr>\n",
       "      <th>郑州</th>\n",
       "      <td>98.9071</td>\n",
       "      <td>42.7207</td>\n",
       "      <td>0.4319</td>\n",
       "    </tr>\n",
       "    <tr>\n",
       "      <th>武汉</th>\n",
       "      <td>72.1530</td>\n",
       "      <td>30.3549</td>\n",
       "      <td>0.4207</td>\n",
       "    </tr>\n",
       "    <tr>\n",
       "      <th>西安</th>\n",
       "      <td>91.7896</td>\n",
       "      <td>45.7087</td>\n",
       "      <td>0.4980</td>\n",
       "    </tr>\n",
       "    <tr>\n",
       "      <th>沈阳</th>\n",
       "      <td>78.5710</td>\n",
       "      <td>40.6698</td>\n",
       "      <td>0.5176</td>\n",
       "    </tr>\n",
       "  </tbody>\n",
       "</table>\n",
       "</div>"
      ],
      "text/plain": [
       "        平均数      标准差    变异系数\n",
       "北京  78.4454  41.6278  0.5307\n",
       "上海  67.9399  28.9772  0.4265\n",
       "郑州  98.9071  42.7207  0.4319\n",
       "武汉  72.1530  30.3549  0.4207\n",
       "西安  91.7896  45.7087  0.4980\n",
       "沈阳  78.5710  40.6698  0.5176"
      ]
     },
     "execution_count": 19,
     "metadata": {},
     "output_type": "execute_result"
    }
   ],
   "source": [
    "import pandas as pd\n",
    "import numpy as np\n",
    "example2_3 = pd.read_csv('F:\\JupyterData\\Statistics_Pythoncoding\\data\\chap02\\example2_3.csv',encoding='gbk')\n",
    "\n",
    "s_mean = example2_3.mean()        #计算平均数\n",
    "s_sd = example2_3.std()           #计算标准差\n",
    "s_cv = s_sd/s_mean                #计算变异系数\n",
    "df = pd.DataFrame({'平均数':s_mean,'标准差':s_sd,'变异系数':s_cv})\n",
    "np.round(df,4)"
   ]
  },
  {
   "cell_type": "markdown",
   "metadata": {},
   "source": [
    "### 代码框3-10 计算30名学生考试分数的标准分数"
   ]
  },
  {
   "cell_type": "code",
   "execution_count": 21,
   "metadata": {},
   "outputs": [
    {
     "name": "stdout",
     "output_type": "stream",
     "text": [
      "标准分数: \n",
      " [ 0.3784 -1.8919  0.8324 -1.0594 -0.0757  1.2865  0.9081 -1.8919  0.5297\n",
      "  0.7567  0.227  -0.7567  1.2108 -0.6054  0.7567 -1.4378  0.454   0.454\n",
      "  0.9081  0.3784 -0.9838  0.0757  0.6811 -2.2702  1.1351  0.454  -0.3784\n",
      "  0.8324  0.1513 -1.0594]\n"
     ]
    }
   ],
   "source": [
    "import pandas as pd\n",
    "import numpy as np\n",
    "from scipy import stats\n",
    "example3_1 = pd.read_csv('F:\\JupyterData\\Statistics_Pythoncoding\\data\\chap03\\example3_1.csv',encoding='gbk')\n",
    "z = stats.zscore(example3_1['分数'], ddof = 1)                   #ddpfs是自由度\n",
    "z = np.round(z, 4)\n",
    "print('标准分数:','\\n',z)"
   ]
  },
  {
   "cell_type": "markdown",
   "metadata": {},
   "source": [
    "### 代码框3-11 计算30名学生考试分数的偏度系数和峰度系数"
   ]
  },
  {
   "cell_type": "code",
   "execution_count": 23,
   "metadata": {},
   "outputs": [
    {
     "name": "stdout",
     "output_type": "stream",
     "text": [
      "偏度系数: -0.8314 \n",
      "峰度系数: -0.3515\n"
     ]
    }
   ],
   "source": [
    "#计算偏度系数\n",
    "import pandas as pd\n",
    "example3_1 = pd.read_csv('F:\\JupyterData\\Statistics_Pythoncoding\\data\\chap03\\example3_1.csv',encoding='gbk')\n",
    "skew  =example3_1['分数'].skew()\n",
    "\n",
    "#计算峰度系数\n",
    "kurt = example3_1['分数'].kurt()\n",
    "print('偏度系数:',round(skew,4),'\\n''峰度系数:',round(kurt,4))"
   ]
  },
  {
   "cell_type": "markdown",
   "metadata": {},
   "source": [
    "### 代码框3-12 输出例3-9的主要描述统计量"
   ]
  },
  {
   "cell_type": "code",
   "execution_count": 24,
   "metadata": {},
   "outputs": [
    {
     "data": {
      "text/html": [
       "<div>\n",
       "<style scoped>\n",
       "    .dataframe tbody tr th:only-of-type {\n",
       "        vertical-align: middle;\n",
       "    }\n",
       "\n",
       "    .dataframe tbody tr th {\n",
       "        vertical-align: top;\n",
       "    }\n",
       "\n",
       "    .dataframe thead th {\n",
       "        text-align: right;\n",
       "    }\n",
       "</style>\n",
       "<table border=\"1\" class=\"dataframe\">\n",
       "  <thead>\n",
       "    <tr style=\"text-align: right;\">\n",
       "      <th></th>\n",
       "      <th>北京</th>\n",
       "      <th>上海</th>\n",
       "      <th>郑州</th>\n",
       "      <th>武汉</th>\n",
       "      <th>西安</th>\n",
       "      <th>沈阳</th>\n",
       "    </tr>\n",
       "  </thead>\n",
       "  <tbody>\n",
       "    <tr>\n",
       "      <th>count</th>\n",
       "      <td>366.00</td>\n",
       "      <td>366.00</td>\n",
       "      <td>366.00</td>\n",
       "      <td>366.00</td>\n",
       "      <td>366.00</td>\n",
       "      <td>366.00</td>\n",
       "    </tr>\n",
       "    <tr>\n",
       "      <th>mean</th>\n",
       "      <td>78.45</td>\n",
       "      <td>67.94</td>\n",
       "      <td>98.91</td>\n",
       "      <td>72.15</td>\n",
       "      <td>91.79</td>\n",
       "      <td>78.57</td>\n",
       "    </tr>\n",
       "    <tr>\n",
       "      <th>std</th>\n",
       "      <td>41.63</td>\n",
       "      <td>28.98</td>\n",
       "      <td>42.72</td>\n",
       "      <td>30.35</td>\n",
       "      <td>45.71</td>\n",
       "      <td>40.67</td>\n",
       "    </tr>\n",
       "    <tr>\n",
       "      <th>min</th>\n",
       "      <td>22.00</td>\n",
       "      <td>27.00</td>\n",
       "      <td>32.00</td>\n",
       "      <td>20.00</td>\n",
       "      <td>30.00</td>\n",
       "      <td>22.00</td>\n",
       "    </tr>\n",
       "    <tr>\n",
       "      <th>25%</th>\n",
       "      <td>47.00</td>\n",
       "      <td>47.00</td>\n",
       "      <td>72.00</td>\n",
       "      <td>49.00</td>\n",
       "      <td>61.00</td>\n",
       "      <td>52.00</td>\n",
       "    </tr>\n",
       "    <tr>\n",
       "      <th>50%</th>\n",
       "      <td>69.00</td>\n",
       "      <td>60.00</td>\n",
       "      <td>90.00</td>\n",
       "      <td>69.00</td>\n",
       "      <td>81.00</td>\n",
       "      <td>67.00</td>\n",
       "    </tr>\n",
       "    <tr>\n",
       "      <th>75%</th>\n",
       "      <td>98.75</td>\n",
       "      <td>81.75</td>\n",
       "      <td>120.00</td>\n",
       "      <td>88.00</td>\n",
       "      <td>111.75</td>\n",
       "      <td>94.75</td>\n",
       "    </tr>\n",
       "    <tr>\n",
       "      <th>max</th>\n",
       "      <td>257.00</td>\n",
       "      <td>206.00</td>\n",
       "      <td>298.00</td>\n",
       "      <td>223.00</td>\n",
       "      <td>278.00</td>\n",
       "      <td>315.00</td>\n",
       "    </tr>\n",
       "  </tbody>\n",
       "</table>\n",
       "</div>"
      ],
      "text/plain": [
       "           北京      上海      郑州      武汉      西安      沈阳\n",
       "count  366.00  366.00  366.00  366.00  366.00  366.00\n",
       "mean    78.45   67.94   98.91   72.15   91.79   78.57\n",
       "std     41.63   28.98   42.72   30.35   45.71   40.67\n",
       "min     22.00   27.00   32.00   20.00   30.00   22.00\n",
       "25%     47.00   47.00   72.00   49.00   61.00   52.00\n",
       "50%     69.00   60.00   90.00   69.00   81.00   67.00\n",
       "75%     98.75   81.75  120.00   88.00  111.75   94.75\n",
       "max    257.00  206.00  298.00  223.00  278.00  315.00"
      ]
     },
     "execution_count": 24,
     "metadata": {},
     "output_type": "execute_result"
    }
   ],
   "source": [
    "import pandas as pd\n",
    "df = pd.read_csv('F:\\JupyterData\\Statistics_Pythoncoding\\data\\chap02\\example2_3.csv',encoding='gbk')\n",
    "np.round(df.describe(),2)"
   ]
  },
  {
   "cell_type": "markdown",
   "metadata": {},
   "source": [
    "### 代码框3-13 60名大学生月生活费支出的图形描述"
   ]
  },
  {
   "cell_type": "code",
   "execution_count": 27,
   "metadata": {},
   "outputs": [
    {
     "data": {
      "image/png": "[encoded data removed]",
      "text/plain": [
       "<Figure size 432x360 with 2 Axes>"
      ]
     },
     "metadata": {
      "needs_background": "light"
     },
     "output_type": "display_data"
    }
   ],
   "source": [
    "#月生活费支出的直方图和箱线图\n",
    "import pandas as pd\n",
    "import matplotlib.pyplot as plt\n",
    "import seaborn as sns\n",
    "plt.rcParams['font.sans-serif'] = ['SimHei']\n",
    "\n",
    "example3_12 = pd.read_csv('F:\\JupyterData\\Statistics_Pythoncoding\\data\\chap03\\example3_12.csv', encoding='gbk')\n",
    "x  = example3_12['月生活费支出']\n",
    "fig = plt.figure(figsize=(6,5))\n",
    "spec = fig.add_gridspec(nrows=2, ncols=1, height_ratios=[1,3])           #设置图形行数、列数、高度比\n",
    "ax1 = fig.add_subplot(spec[0,:])\n",
    "x.plot(kind='box', vert = False)\n",
    "ax1.spines['right'].set_color('none')\n",
    "ax1.spines['top'].set_color('none')\n",
    "ax1.spines['left'].set_color('none')\n",
    "ax1.spines['bottom'].set_color('none')\n",
    "ax1.set_xticks([])\n",
    "\n",
    "ax2 =fig.add_subplot(spec[1,:])\n",
    "x.plot(bins=10, kind='hist', ax=ax2, density=True, legend=False)\n",
    "x.plot(kind='density', ax=ax2, linewidth=3)\n",
    "ax2.set_xlabel('月生活费支出')\n",
    "ax2.set_ylabel('频率')\n",
    "ax2.set_xlim(x.min(), x.max())\n",
    "ax2.spines['right'].set_color('none')\n",
    "ax2.spines['top'].set_color('none')\n",
    "plt.tight_layout()\n",
    "plt.show()"
   ]
  },
  {
   "cell_type": "code",
   "execution_count": 30,
   "metadata": {},
   "outputs": [
    {
     "data": {
      "text/plain": [
       "Text(0.5, 1.0, '(b)按家庭所在地分组')"
      ]
     },
     "execution_count": 30,
     "metadata": {},
     "output_type": "execute_result"
    },
    {
     "data": {
      "image/png": "[encoded data removed]",
      "text/plain": [
       "<Figure size 864x288 with 2 Axes>"
      ]
     },
     "metadata": {
      "needs_background": "light"
     },
     "output_type": "display_data"
    }
   ],
   "source": [
    "#按性别和家庭所在地分类绘制核密度图\n",
    "import pandas as pd\n",
    "import matplotlib.pyplot as plt\n",
    "import seaborn as sns\n",
    "example3_12 = pd.read_csv('F:\\JupyterData\\Statistics_Pythoncoding\\data\\chap03\\example3_12.csv', encoding='gbk')\n",
    "plt.rcParams['font.sans-serif'] = ['SimHei']\n",
    "plt.figure(figsize=(12,4))\n",
    "plt.subplot(1,2,1)\n",
    "sns.kdeplot('月生活费支出',hue='性别',shade=True, data=example3_12)\n",
    "plt.title('(a)按性别分组')\n",
    "plt.subplot(1,2,2)\n",
    "sns.kdeplot('月生活费支出', hue='家庭所在地', shade=True, data=example3_12)\n",
    "plt.title('(b)按家庭所在地分组')"
   ]
  },
  {
   "cell_type": "code",
   "execution_count": 31,
   "metadata": {},
   "outputs": [
    {
     "data": {
      "image/png": "[encoded data removed]",
      "text/plain": [
       "<Figure size 648x432 with 1 Axes>"
      ]
     },
     "metadata": {
      "needs_background": "light"
     },
     "output_type": "display_data"
    }
   ],
   "source": [
    "#按性别和家庭所在地分组绘制箱线图\n",
    "plt.rcParams['font.sans-serif'] = ['SimHei']\n",
    "plt.figure(figsize=(9,6))\n",
    "sns.boxplot(x='性别',y='月生活费支出',hue='家庭所在地', data=example3_12)\n",
    "plt.show()"
   ]
  },
  {
   "cell_type": "code",
   "execution_count": 33,
   "metadata": {},
   "outputs": [
    {
     "data": {
      "text/plain": [
       "Text(0.5, 1.0, '(b)按家庭所在地分组')"
      ]
     },
     "execution_count": 33,
     "metadata": {},
     "output_type": "execute_result"
    },
    {
     "data": {
      "image/png": "[encoded data removed]",
      "text/plain": [
       "<Figure size 576x288 with 2 Axes>"
      ]
     },
     "metadata": {
      "needs_background": "light"
     },
     "output_type": "display_data"
    }
   ],
   "source": [
    "#绘制按性别和家庭所在地分组的点图\n",
    "plt.subplots(1,2,figsize=(8,4))\n",
    "plt.subplot(121)\n",
    "sns.stripplot(x='性别',y='月生活费支出',\n",
    "             jitter=True,\n",
    "             size=5,\n",
    "             data=example3_12)\n",
    "plt.title('(a)按性别分组')\n",
    "plt.subplot(122)\n",
    "sns.stripplot(x='家庭所在地',y='月生活费支出',size=5, data=example3_12)\n",
    "plt.title('(b)按家庭所在地分组')"
   ]
  },
  {
   "cell_type": "markdown",
   "metadata": {},
   "source": [
    "### 代码框3-14 对性别和家庭所在地计数、对月生活费支出计算描述统计量"
   ]
  },
  {
   "cell_type": "code",
   "execution_count": 35,
   "metadata": {},
   "outputs": [
    {
     "data": {
      "text/html": [
       "<div>\n",
       "<style scoped>\n",
       "    .dataframe tbody tr th:only-of-type {\n",
       "        vertical-align: middle;\n",
       "    }\n",
       "\n",
       "    .dataframe tbody tr th {\n",
       "        vertical-align: top;\n",
       "    }\n",
       "\n",
       "    .dataframe thead tr th {\n",
       "        text-align: left;\n",
       "    }\n",
       "\n",
       "    .dataframe thead tr:last-of-type th {\n",
       "        text-align: right;\n",
       "    }\n",
       "</style>\n",
       "<table border=\"1\" class=\"dataframe\">\n",
       "  <thead>\n",
       "    <tr>\n",
       "      <th></th>\n",
       "      <th colspan=\"4\" halign=\"left\">月生活费支出</th>\n",
       "    </tr>\n",
       "    <tr>\n",
       "      <th>家庭所在地</th>\n",
       "      <th>中小城市</th>\n",
       "      <th>乡镇地区</th>\n",
       "      <th>大型城市</th>\n",
       "      <th>合计</th>\n",
       "    </tr>\n",
       "    <tr>\n",
       "      <th>性别</th>\n",
       "      <th></th>\n",
       "      <th></th>\n",
       "      <th></th>\n",
       "      <th></th>\n",
       "    </tr>\n",
       "  </thead>\n",
       "  <tbody>\n",
       "    <tr>\n",
       "      <th>女</th>\n",
       "      <td>18</td>\n",
       "      <td>6</td>\n",
       "      <td>11</td>\n",
       "      <td>35</td>\n",
       "    </tr>\n",
       "    <tr>\n",
       "      <th>男</th>\n",
       "      <td>6</td>\n",
       "      <td>4</td>\n",
       "      <td>15</td>\n",
       "      <td>25</td>\n",
       "    </tr>\n",
       "    <tr>\n",
       "      <th>合计</th>\n",
       "      <td>24</td>\n",
       "      <td>10</td>\n",
       "      <td>26</td>\n",
       "      <td>60</td>\n",
       "    </tr>\n",
       "  </tbody>\n",
       "</table>\n",
       "</div>"
      ],
      "text/plain": [
       "      月生活费支出              \n",
       "家庭所在地   中小城市 乡镇地区 大型城市  合计\n",
       "性别                        \n",
       "女         18    6   11  35\n",
       "男          6    4   15  25\n",
       "合计        24   10   26  60"
      ]
     },
     "execution_count": 35,
     "metadata": {},
     "output_type": "execute_result"
    }
   ],
   "source": [
    "#对性别和家庭所在地进行频数分析\n",
    "import pandas as pd;import numpy as np\n",
    "df = pd.read_csv('F:\\JupyterData\\Statistics_Pythoncoding\\data\\chap03\\example3_12.csv', encoding='gbk')\n",
    "tab = pd.pivot_table(df,index=['性别'],columns=['家庭所在地'],\n",
    "                    margins = True ,margins_name='合计',            #添加边际求和，并命名为合计\n",
    "                    aggfunc=len)                                    #使用长度聚集函数\n",
    "tab"
   ]
  },
  {
   "cell_type": "code",
   "execution_count": 36,
   "metadata": {},
   "outputs": [
    {
     "name": "stdout",
     "output_type": "stream",
     "text": [
      "全部学生支出的概括性描述\n"
     ]
    },
    {
     "data": {
      "text/html": [
       "<div>\n",
       "<style scoped>\n",
       "    .dataframe tbody tr th:only-of-type {\n",
       "        vertical-align: middle;\n",
       "    }\n",
       "\n",
       "    .dataframe tbody tr th {\n",
       "        vertical-align: top;\n",
       "    }\n",
       "\n",
       "    .dataframe thead th {\n",
       "        text-align: right;\n",
       "    }\n",
       "</style>\n",
       "<table border=\"1\" class=\"dataframe\">\n",
       "  <thead>\n",
       "    <tr style=\"text-align: right;\">\n",
       "      <th></th>\n",
       "      <th>月生活费支出</th>\n",
       "    </tr>\n",
       "  </thead>\n",
       "  <tbody>\n",
       "    <tr>\n",
       "      <th>count</th>\n",
       "      <td>60.0000</td>\n",
       "    </tr>\n",
       "    <tr>\n",
       "      <th>mean</th>\n",
       "      <td>1812.3333</td>\n",
       "    </tr>\n",
       "    <tr>\n",
       "      <th>std</th>\n",
       "      <td>320.9962</td>\n",
       "    </tr>\n",
       "    <tr>\n",
       "      <th>min</th>\n",
       "      <td>1100.0000</td>\n",
       "    </tr>\n",
       "    <tr>\n",
       "      <th>25%</th>\n",
       "      <td>1550.0000</td>\n",
       "    </tr>\n",
       "    <tr>\n",
       "      <th>50%</th>\n",
       "      <td>1850.0000</td>\n",
       "    </tr>\n",
       "    <tr>\n",
       "      <th>75%</th>\n",
       "      <td>2000.0000</td>\n",
       "    </tr>\n",
       "    <tr>\n",
       "      <th>max</th>\n",
       "      <td>2800.0000</td>\n",
       "    </tr>\n",
       "  </tbody>\n",
       "</table>\n",
       "</div>"
      ],
      "text/plain": [
       "          月生活费支出\n",
       "count    60.0000\n",
       "mean   1812.3333\n",
       "std     320.9962\n",
       "min    1100.0000\n",
       "25%    1550.0000\n",
       "50%    1850.0000\n",
       "75%    2000.0000\n",
       "max    2800.0000"
      ]
     },
     "execution_count": 36,
     "metadata": {},
     "output_type": "execute_result"
    }
   ],
   "source": [
    "#对全部学生的月生活费支出进行概括性描述\n",
    "desc = example3_12.describe(include=None)\n",
    "print('全部学生支出的概括性描述')\n",
    "round(desc, 4)"
   ]
  },
  {
   "cell_type": "code",
   "execution_count": 41,
   "metadata": {},
   "outputs": [
    {
     "data": {
      "text/html": [
       "<div>\n",
       "<style scoped>\n",
       "    .dataframe tbody tr th:only-of-type {\n",
       "        vertical-align: middle;\n",
       "    }\n",
       "\n",
       "    .dataframe tbody tr th {\n",
       "        vertical-align: top;\n",
       "    }\n",
       "\n",
       "    .dataframe thead tr th {\n",
       "        text-align: left;\n",
       "    }\n",
       "\n",
       "    .dataframe thead tr:last-of-type th {\n",
       "        text-align: right;\n",
       "    }\n",
       "</style>\n",
       "<table border=\"1\" class=\"dataframe\">\n",
       "  <thead>\n",
       "    <tr>\n",
       "      <th></th>\n",
       "      <th></th>\n",
       "      <th>sum</th>\n",
       "      <th>min</th>\n",
       "      <th>max</th>\n",
       "      <th>median</th>\n",
       "      <th>mean</th>\n",
       "      <th>std</th>\n",
       "    </tr>\n",
       "    <tr>\n",
       "      <th></th>\n",
       "      <th></th>\n",
       "      <th>月生活费支出</th>\n",
       "      <th>月生活费支出</th>\n",
       "      <th>月生活费支出</th>\n",
       "      <th>月生活费支出</th>\n",
       "      <th>月生活费支出</th>\n",
       "      <th>月生活费支出</th>\n",
       "    </tr>\n",
       "    <tr>\n",
       "      <th>性别</th>\n",
       "      <th>家庭所在地</th>\n",
       "      <th></th>\n",
       "      <th></th>\n",
       "      <th></th>\n",
       "      <th></th>\n",
       "      <th></th>\n",
       "      <th></th>\n",
       "    </tr>\n",
       "  </thead>\n",
       "  <tbody>\n",
       "    <tr>\n",
       "      <th rowspan=\"3\" valign=\"top\">女</th>\n",
       "      <th>中小城市</th>\n",
       "      <td>33140</td>\n",
       "      <td>1400</td>\n",
       "      <td>2360</td>\n",
       "      <td>1825</td>\n",
       "      <td>1841.111111</td>\n",
       "      <td>308.942959</td>\n",
       "    </tr>\n",
       "    <tr>\n",
       "      <th>乡镇地区</th>\n",
       "      <td>10720</td>\n",
       "      <td>1300</td>\n",
       "      <td>2000</td>\n",
       "      <td>1860</td>\n",
       "      <td>1786.666667</td>\n",
       "      <td>247.521043</td>\n",
       "    </tr>\n",
       "    <tr>\n",
       "      <th>大型城市</th>\n",
       "      <td>22350</td>\n",
       "      <td>1500</td>\n",
       "      <td>2800</td>\n",
       "      <td>2000</td>\n",
       "      <td>2031.818182</td>\n",
       "      <td>383.583581</td>\n",
       "    </tr>\n",
       "    <tr>\n",
       "      <th rowspan=\"3\" valign=\"top\">男</th>\n",
       "      <th>中小城市</th>\n",
       "      <td>9960</td>\n",
       "      <td>1300</td>\n",
       "      <td>2000</td>\n",
       "      <td>1725</td>\n",
       "      <td>1660.000000</td>\n",
       "      <td>290.172363</td>\n",
       "    </tr>\n",
       "    <tr>\n",
       "      <th>乡镇地区</th>\n",
       "      <td>6850</td>\n",
       "      <td>1500</td>\n",
       "      <td>1950</td>\n",
       "      <td>1700</td>\n",
       "      <td>1712.500000</td>\n",
       "      <td>246.221445</td>\n",
       "    </tr>\n",
       "    <tr>\n",
       "      <th>大型城市</th>\n",
       "      <td>25720</td>\n",
       "      <td>1100</td>\n",
       "      <td>2000</td>\n",
       "      <td>1780</td>\n",
       "      <td>1714.666667</td>\n",
       "      <td>293.400425</td>\n",
       "    </tr>\n",
       "    <tr>\n",
       "      <th>合计</th>\n",
       "      <th></th>\n",
       "      <td>108740</td>\n",
       "      <td>1100</td>\n",
       "      <td>2800</td>\n",
       "      <td>1850</td>\n",
       "      <td>1812.333333</td>\n",
       "      <td>318.309947</td>\n",
       "    </tr>\n",
       "  </tbody>\n",
       "</table>\n",
       "</div>"
      ],
      "text/plain": [
       "             sum    min    max median         mean         std\n",
       "          月生活费支出 月生活费支出 月生活费支出 月生活费支出       月生活费支出      月生活费支出\n",
       "性别 家庭所在地                                                      \n",
       "女  中小城市    33140   1400   2360   1825  1841.111111  308.942959\n",
       "   乡镇地区    10720   1300   2000   1860  1786.666667  247.521043\n",
       "   大型城市    22350   1500   2800   2000  2031.818182  383.583581\n",
       "男  中小城市     9960   1300   2000   1725  1660.000000  290.172363\n",
       "   乡镇地区     6850   1500   1950   1700  1712.500000  246.221445\n",
       "   大型城市    25720   1100   2000   1780  1714.666667  293.400425\n",
       "合计        108740   1100   2800   1850  1812.333333  318.309947"
      ]
     },
     "execution_count": 41,
     "metadata": {},
     "output_type": "execute_result"
    }
   ],
   "source": [
    "#按性别和家庭所在地分组计算描述统计量\n",
    "import pandas as pd;import numpy as np\n",
    "tab = pd.pivot_table(example3_12, index=['性别', '家庭所在地'], values=['月生活费支出'],\n",
    "                    margins=True ,margins_name='合计',\n",
    "                    aggfunc=[sum,min,max,np.median,np.mean,np.std])\n",
    "tab"
   ]
  },
  {
   "cell_type": "code",
   "execution_count": 46,
   "metadata": {},
   "outputs": [
    {
     "name": "stdout",
     "output_type": "stream",
     "text": [
      "按性别分组\n"
     ]
    },
    {
     "data": {
      "text/html": [
       "<div>\n",
       "<style scoped>\n",
       "    .dataframe tbody tr th:only-of-type {\n",
       "        vertical-align: middle;\n",
       "    }\n",
       "\n",
       "    .dataframe tbody tr th {\n",
       "        vertical-align: top;\n",
       "    }\n",
       "\n",
       "    .dataframe thead th {\n",
       "        text-align: right;\n",
       "    }\n",
       "</style>\n",
       "<table border=\"1\" class=\"dataframe\">\n",
       "  <thead>\n",
       "    <tr style=\"text-align: right;\">\n",
       "      <th></th>\n",
       "      <th>n</th>\n",
       "      <th>平均数</th>\n",
       "      <th>中位数</th>\n",
       "      <th>标准差</th>\n",
       "      <th>全距</th>\n",
       "      <th>变异系数</th>\n",
       "      <th>偏度系数</th>\n",
       "    </tr>\n",
       "    <tr>\n",
       "      <th>性别</th>\n",
       "      <th></th>\n",
       "      <th></th>\n",
       "      <th></th>\n",
       "      <th></th>\n",
       "      <th></th>\n",
       "      <th></th>\n",
       "      <th></th>\n",
       "    </tr>\n",
       "  </thead>\n",
       "  <tbody>\n",
       "    <tr>\n",
       "      <th>女</th>\n",
       "      <td>35</td>\n",
       "      <td>1891.714</td>\n",
       "      <td>1900</td>\n",
       "      <td>331.1521</td>\n",
       "      <td>1500</td>\n",
       "      <td>0.175054</td>\n",
       "      <td>0.502824</td>\n",
       "    </tr>\n",
       "    <tr>\n",
       "      <th>男</th>\n",
       "      <td>25</td>\n",
       "      <td>1701.200</td>\n",
       "      <td>1780</td>\n",
       "      <td>275.4893</td>\n",
       "      <td>900</td>\n",
       "      <td>0.161938</td>\n",
       "      <td>-0.548589</td>\n",
       "    </tr>\n",
       "  </tbody>\n",
       "</table>\n",
       "</div>"
      ],
      "text/plain": [
       "     n       平均数   中位数       标准差    全距      变异系数      偏度系数\n",
       "性别                                                        \n",
       "女   35  1891.714  1900  331.1521  1500  0.175054  0.502824\n",
       "男   25  1701.200  1780  275.4893   900  0.161938 -0.548589"
      ]
     },
     "execution_count": 46,
     "metadata": {},
     "output_type": "execute_result"
    }
   ],
   "source": [
    "#按性别和家庭所在地分组计算描述统计量\n",
    "def my_summary(df, col=['性别']):\n",
    "    df_res = pd.DataFrame()\n",
    "    df_res['n'] = df.groupby(col)['月生活费支出'].count()\n",
    "    df_res['平均数'] = df.groupby(col)['月生活费支出'].mean().round(3)\n",
    "    df_res['中位数'] = df.groupby(col)['月生活费支出'].median()\n",
    "    df_res['标准差'] = df.groupby(col)['月生活费支出'].std().round(4)\n",
    "    df_res['全距']  =  df.groupby(col)['月生活费支出'].apply(lambda x: x.max()-x.min())\n",
    "    df_res['变异系数'] = df.groupby(col)['月生活费支出'].apply(lambda x: x.std()/x.mean())\n",
    "    df_res['偏度系数'] = df.groupby(col)['月生活费支出'].skew()\n",
    "    return df_res\n",
    "df1 = my_summary(example3_12, ['性别'])\n",
    "print('按性别分组');df1"
   ]
  },
  {
   "cell_type": "code",
   "execution_count": 44,
   "metadata": {},
   "outputs": [
    {
     "name": "stdout",
     "output_type": "stream",
     "text": [
      "按家庭所在地分组\n"
     ]
    },
    {
     "data": {
      "text/html": [
       "<div>\n",
       "<style scoped>\n",
       "    .dataframe tbody tr th:only-of-type {\n",
       "        vertical-align: middle;\n",
       "    }\n",
       "\n",
       "    .dataframe tbody tr th {\n",
       "        vertical-align: top;\n",
       "    }\n",
       "\n",
       "    .dataframe thead th {\n",
       "        text-align: right;\n",
       "    }\n",
       "</style>\n",
       "<table border=\"1\" class=\"dataframe\">\n",
       "  <thead>\n",
       "    <tr style=\"text-align: right;\">\n",
       "      <th></th>\n",
       "      <th>n</th>\n",
       "      <th>平均数</th>\n",
       "      <th>中位数</th>\n",
       "      <th>标准差</th>\n",
       "      <th>全距</th>\n",
       "      <th>变异系数</th>\n",
       "      <th>偏度系数</th>\n",
       "    </tr>\n",
       "    <tr>\n",
       "      <th>家庭所在地</th>\n",
       "      <th></th>\n",
       "      <th></th>\n",
       "      <th></th>\n",
       "      <th></th>\n",
       "      <th></th>\n",
       "      <th></th>\n",
       "      <th></th>\n",
       "    </tr>\n",
       "  </thead>\n",
       "  <tbody>\n",
       "    <tr>\n",
       "      <th>中小城市</th>\n",
       "      <td>24</td>\n",
       "      <td>1795.833</td>\n",
       "      <td>1800</td>\n",
       "      <td>308.6565</td>\n",
       "      <td>1060</td>\n",
       "      <td>0.171874</td>\n",
       "      <td>0.269364</td>\n",
       "    </tr>\n",
       "    <tr>\n",
       "      <th>乡镇地区</th>\n",
       "      <td>10</td>\n",
       "      <td>1757.000</td>\n",
       "      <td>1860</td>\n",
       "      <td>236.0344</td>\n",
       "      <td>700</td>\n",
       "      <td>0.134339</td>\n",
       "      <td>-1.052810</td>\n",
       "    </tr>\n",
       "    <tr>\n",
       "      <th>大型城市</th>\n",
       "      <td>26</td>\n",
       "      <td>1848.846</td>\n",
       "      <td>1850</td>\n",
       "      <td>364.1354</td>\n",
       "      <td>1700</td>\n",
       "      <td>0.196953</td>\n",
       "      <td>0.321079</td>\n",
       "    </tr>\n",
       "  </tbody>\n",
       "</table>\n",
       "</div>"
      ],
      "text/plain": [
       "        n       平均数   中位数       标准差    全距      变异系数      偏度系数\n",
       "家庭所在地                                                        \n",
       "中小城市   24  1795.833  1800  308.6565  1060  0.171874  0.269364\n",
       "乡镇地区   10  1757.000  1860  236.0344   700  0.134339 -1.052810\n",
       "大型城市   26  1848.846  1850  364.1354  1700  0.196953  0.321079"
      ]
     },
     "execution_count": 44,
     "metadata": {},
     "output_type": "execute_result"
    }
   ],
   "source": [
    "df2 = my_summary(example3_12, ['家庭所在地'])\n",
    "print('按家庭所在地分组');df2"
   ]
  },
  {
   "cell_type": "code",
   "execution_count": 55,
   "metadata": {},
   "outputs": [
    {
     "name": "stdout",
     "output_type": "stream",
     "text": [
      "同时按性别和家庭所在地分组\n"
     ]
    },
    {
     "data": {
      "text/html": [
       "<div>\n",
       "<style scoped>\n",
       "    .dataframe tbody tr th:only-of-type {\n",
       "        vertical-align: middle;\n",
       "    }\n",
       "\n",
       "    .dataframe tbody tr th {\n",
       "        vertical-align: top;\n",
       "    }\n",
       "\n",
       "    .dataframe thead th {\n",
       "        text-align: right;\n",
       "    }\n",
       "</style>\n",
       "<table border=\"1\" class=\"dataframe\">\n",
       "  <thead>\n",
       "    <tr style=\"text-align: right;\">\n",
       "      <th></th>\n",
       "      <th></th>\n",
       "      <th>n</th>\n",
       "      <th>平均数</th>\n",
       "      <th>中位数</th>\n",
       "      <th>标准差</th>\n",
       "      <th>全距</th>\n",
       "      <th>变异系数</th>\n",
       "      <th>偏度系数</th>\n",
       "    </tr>\n",
       "    <tr>\n",
       "      <th>性别</th>\n",
       "      <th>家庭所在地</th>\n",
       "      <th></th>\n",
       "      <th></th>\n",
       "      <th></th>\n",
       "      <th></th>\n",
       "      <th></th>\n",
       "      <th></th>\n",
       "      <th></th>\n",
       "    </tr>\n",
       "  </thead>\n",
       "  <tbody>\n",
       "    <tr>\n",
       "      <th rowspan=\"3\" valign=\"top\">女</th>\n",
       "      <th>中小城市</th>\n",
       "      <td>18</td>\n",
       "      <td>1841.111</td>\n",
       "      <td>1825</td>\n",
       "      <td>308.9430</td>\n",
       "      <td>960</td>\n",
       "      <td>0.167802</td>\n",
       "      <td>0.345656</td>\n",
       "    </tr>\n",
       "    <tr>\n",
       "      <th>乡镇地区</th>\n",
       "      <td>6</td>\n",
       "      <td>1786.667</td>\n",
       "      <td>1860</td>\n",
       "      <td>247.5210</td>\n",
       "      <td>700</td>\n",
       "      <td>0.138538</td>\n",
       "      <td>-2.042846</td>\n",
       "    </tr>\n",
       "    <tr>\n",
       "      <th>大型城市</th>\n",
       "      <td>11</td>\n",
       "      <td>2031.818</td>\n",
       "      <td>2000</td>\n",
       "      <td>383.5836</td>\n",
       "      <td>1300</td>\n",
       "      <td>0.188788</td>\n",
       "      <td>0.515560</td>\n",
       "    </tr>\n",
       "    <tr>\n",
       "      <th rowspan=\"3\" valign=\"top\">男</th>\n",
       "      <th>中小城市</th>\n",
       "      <td>6</td>\n",
       "      <td>1660.000</td>\n",
       "      <td>1725</td>\n",
       "      <td>290.1724</td>\n",
       "      <td>700</td>\n",
       "      <td>0.174803</td>\n",
       "      <td>-0.276271</td>\n",
       "    </tr>\n",
       "    <tr>\n",
       "      <th>乡镇地区</th>\n",
       "      <td>4</td>\n",
       "      <td>1712.500</td>\n",
       "      <td>1700</td>\n",
       "      <td>246.2214</td>\n",
       "      <td>450</td>\n",
       "      <td>0.143779</td>\n",
       "      <td>0.035589</td>\n",
       "    </tr>\n",
       "    <tr>\n",
       "      <th>大型城市</th>\n",
       "      <td>15</td>\n",
       "      <td>1714.667</td>\n",
       "      <td>1780</td>\n",
       "      <td>293.4004</td>\n",
       "      <td>900</td>\n",
       "      <td>0.171112</td>\n",
       "      <td>-0.763562</td>\n",
       "    </tr>\n",
       "  </tbody>\n",
       "</table>\n",
       "</div>"
      ],
      "text/plain": [
       "           n       平均数   中位数       标准差    全距      变异系数      偏度系数\n",
       "性别 家庭所在地                                                        \n",
       "女  中小城市   18  1841.111  1825  308.9430   960  0.167802  0.345656\n",
       "   乡镇地区    6  1786.667  1860  247.5210   700  0.138538 -2.042846\n",
       "   大型城市   11  2031.818  2000  383.5836  1300  0.188788  0.515560\n",
       "男  中小城市    6  1660.000  1725  290.1724   700  0.174803 -0.276271\n",
       "   乡镇地区    4  1712.500  1700  246.2214   450  0.143779  0.035589\n",
       "   大型城市   15  1714.667  1780  293.4004   900  0.171112 -0.763562"
      ]
     },
     "execution_count": 55,
     "metadata": {},
     "output_type": "execute_result"
    }
   ],
   "source": [
    "df3 = my_summary(example3_12, ['性别','家庭所在地'])\n",
    "print('同时按性别和家庭所在地分组');df3"
   ]
  },
  {
   "cell_type": "code",
   "execution_count": null,
   "metadata": {},
   "outputs": [],
   "source": []
  }
 ],
 "metadata": {
  "kernelspec": {
   "display_name": "Python 3 (ipykernel)",
   "language": "python",
   "name": "python3"
  },
  "language_info": {
   "codemirror_mode": {
    "name": "ipython",
    "version": 3
   },
   "file_extension": ".py",
   "mimetype": "text/x-python",
   "name": "python",
   "nbconvert_exporter": "python",
   "pygments_lexer": "ipython3",
   "version": "3.9.12"
  },
  "nbTranslate": {
   "displayLangs": [
    "*"
   ],
   "hotkey": "alt-t",
   "langInMainMenu": true,
   "sourceLang": "en",
   "targetLang": "fr",
   "useGoogleTranslate": true
  }
 },
 "nbformat": 4,
 "nbformat_minor": 4
}
