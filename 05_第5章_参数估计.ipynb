{
 "cells": [
  {
   "cell_type": "markdown",
   "metadata": {},
   "source": [
    "# 第5章 参数估计"
   ]
  },
  {
   "cell_type": "markdown",
   "metadata": {},
   "source": [
    "### 代码框5-1 样本均值、样本中位数和样本方差的无偏性模拟"
   ]
  },
  {
   "cell_type": "code",
   "execution_count": 12,
   "metadata": {},
   "outputs": [
    {
     "name": "stdout",
     "output_type": "stream",
     "text": [
      "49.98696795411786 50.00230552828645 100.17676640814408\n"
     ]
    }
   ],
   "source": [
    "import numpy as np\n",
    "x,m,v=[],[],[]\n",
    "n = 10\n",
    "for i in range(10000):\n",
    "    d=np.random.normal(loc=50, scale=10, size=n)\n",
    "    x.append(np.mean(d))\n",
    "    m.append(np.median(d))\n",
    "    v.append(np.var(d, ddof=1))\n",
    "    #print(\"样本均值的均值:{np.mean(x): .4f}\\n样本中位数均值:{np.mean(m): .4f}\\n样本方差的均值:{np.mean(v): .4f}\")\n",
    "print(np.mean(x), np.mean(m), np.mean(v))"
   ]
  },
  {
   "cell_type": "markdown",
   "metadata": {},
   "source": [
    "### 代码框5-2 样本均值和样本中位数的有效性模拟"
   ]
  },
  {
   "cell_type": "code",
   "execution_count": 30,
   "metadata": {},
   "outputs": [
    {
     "name": "stdout",
     "output_type": "stream",
     "text": [
      "样本均值的方差: 0.1025 \n",
      "样本中位数的方差: 0.1411\n"
     ]
    }
   ],
   "source": [
    "#样本均值和样本中位数的有效性模拟\n",
    "import numpy as np\n",
    "x, m =[], []\n",
    "n =10\n",
    "for i in range(10000):\n",
    "    d = np.random.normal(size=n)\n",
    "    x.append(np.mean(d))\n",
    "    m.append(np.median(d))\n",
    "    jf = np.var(x, ddof=1)\n",
    "    zf = np.var(m, ddof=1)\n",
    "print('样本均值的方差:',round(jf,4), '\\n''样本中位数的方差:',round(zf,4))"
   ]
  },
  {
   "cell_type": "code",
   "execution_count": 38,
   "metadata": {},
   "outputs": [
    {
     "data": {
      "image/png": "[encoded data removed]",
      "text/plain": [
       "<Figure size 864x360 with 2 Axes>"
      ]
     },
     "metadata": {
      "needs_background": "light"
     },
     "output_type": "display_data"
    }
   ],
   "source": [
    "#绘制样本均值和样本中位数分布的直方图\n",
    "import matplotlib.pyplot as plt\n",
    "import pandas as pd\n",
    "plt.rcParams['font.sans-serif'] = ['SimHei']\n",
    "plt.rcParams['axes.unicode_minus'] = False\n",
    "\n",
    "def plot_dis(df, ax, xlabel):\n",
    "    df.plot(bins=20, kind='hist', density=True, ax=ax, legend=False)\n",
    "    df.plot(kind='density',linewidth=2, ax=ax, legend=False)\n",
    "    ax.set_ylim(0,1.3)\n",
    "    ax.set_xlim(-1.5,1.5)\n",
    "    ax.set_xlabel(xlabel)\n",
    "    ax.set_title(xlabel + '的分布')\n",
    "    \n",
    "plt.subplots(1, 2, figsize=(12, 5))\n",
    "ax1 = plt.subplot(121)\n",
    "plot_dis(pd.DataFrame(x),ax1,  '样本均值')\n",
    "ax2 = plt.subplot(122)\n",
    "plot_dis(pd.DataFrame(m),ax2, '样本中位数')\n",
    "plt.show()\n"
   ]
  },
  {
   "cell_type": "markdown",
   "metadata": {},
   "source": [
    "### 代码框5-3 样本均值的一致性模拟"
   ]
  },
  {
   "cell_type": "code",
   "execution_count": 1,
   "metadata": {},
   "outputs": [
    {
     "data": {
      "text/html": [
       "<div>\n",
       "<style scoped>\n",
       "    .dataframe tbody tr th:only-of-type {\n",
       "        vertical-align: middle;\n",
       "    }\n",
       "\n",
       "    .dataframe tbody tr th {\n",
       "        vertical-align: top;\n",
       "    }\n",
       "\n",
       "    .dataframe thead th {\n",
       "        text-align: right;\n",
       "    }\n",
       "</style>\n",
       "<table border=\"1\" class=\"dataframe\">\n",
       "  <thead>\n",
       "    <tr style=\"text-align: right;\">\n",
       "      <th></th>\n",
       "      <th>总体均值</th>\n",
       "      <th>xbar10</th>\n",
       "      <th>xbar100</th>\n",
       "      <th>xbar500</th>\n",
       "      <th>xbar900</th>\n",
       "    </tr>\n",
       "  </thead>\n",
       "  <tbody>\n",
       "    <tr>\n",
       "      <th>0</th>\n",
       "      <td>49.665586</td>\n",
       "      <td>48.45996</td>\n",
       "      <td>50.165167</td>\n",
       "      <td>49.568964</td>\n",
       "      <td>49.636309</td>\n",
       "    </tr>\n",
       "  </tbody>\n",
       "</table>\n",
       "</div>"
      ],
      "text/plain": [
       "        总体均值    xbar10    xbar100    xbar500    xbar900\n",
       "0  49.665586  48.45996  50.165167  49.568964  49.636309"
      ]
     },
     "execution_count": 1,
     "metadata": {},
     "output_type": "execute_result"
    }
   ],
   "source": [
    "import pandas as pd;import numpy as np\n",
    "np.random.seed(2020)\n",
    "N = np.random.normal(loc=50, scale=10, size=1000)                 #正态分布随机数1000个，\n",
    "mu = np.mean(N)\n",
    "\n",
    "xbar10 = np.mean(np.random.choice(N, 10, replace=False))         #随机无放回抽取10个样本\n",
    "xbar100 = np.mean(np.random.choice(N, 100, replace=False))       #随机无放回抽取100个样本\n",
    "xbar500 = np.mean(np.random.choice(N, 500, replace=False))       #随机无放回抽取500个样本\n",
    "xbar900 = np.mean(np.random.choice(N, 900, replace=False))       #随机无放回抽取900个样本\n",
    "pd.DataFrame([mu, xbar10, xbar100, xbar500, xbar900],['总体均值', 'xbar10', 'xbar100', 'xbar500', 'xbar900']).T"
   ]
  },
  {
   "cell_type": "code",
   "execution_count": 16,
   "metadata": {},
   "outputs": [
    {
     "data": {
      "text/html": [
       "<div>\n",
       "<style scoped>\n",
       "    .dataframe tbody tr th:only-of-type {\n",
       "        vertical-align: middle;\n",
       "    }\n",
       "\n",
       "    .dataframe tbody tr th {\n",
       "        vertical-align: top;\n",
       "    }\n",
       "\n",
       "    .dataframe thead th {\n",
       "        text-align: right;\n",
       "    }\n",
       "</style>\n",
       "<table border=\"1\" class=\"dataframe\">\n",
       "  <thead>\n",
       "    <tr style=\"text-align: right;\">\n",
       "      <th></th>\n",
       "      <th>d10</th>\n",
       "      <th>d100</th>\n",
       "      <th>d500</th>\n",
       "      <th>d900</th>\n",
       "    </tr>\n",
       "  </thead>\n",
       "  <tbody>\n",
       "    <tr>\n",
       "      <th>0</th>\n",
       "      <td>-1.205626</td>\n",
       "      <td>0.499581</td>\n",
       "      <td>-0.096622</td>\n",
       "      <td>-0.029277</td>\n",
       "    </tr>\n",
       "  </tbody>\n",
       "</table>\n",
       "</div>"
      ],
      "text/plain": [
       "        d10      d100      d500      d900\n",
       "0 -1.205626  0.499581 -0.096622 -0.029277"
      ]
     },
     "execution_count": 16,
     "metadata": {},
     "output_type": "execute_result"
    }
   ],
   "source": [
    "#样本均值与总体均值mu的差值d\n",
    "pd.DataFrame([{'d10':(xbar10-mu), 'd100':(xbar100-mu), 'd500':(xbar500-mu),'d900':(xbar900-mu)}])"
   ]
  },
  {
   "cell_type": "markdown",
   "metadata": {},
   "source": [
    "### 代码框5-4 计算一个总体均值的置信区间（大样本）"
   ]
  },
  {
   "cell_type": "code",
   "execution_count": 30,
   "metadata": {},
   "outputs": [
    {
     "data": {
      "text/plain": [
       "array([[7.8359],\n",
       "       [8.0991]])"
      ]
     },
     "execution_count": 30,
     "metadata": {},
     "output_type": "execute_result"
    }
   ],
   "source": [
    "import pandas as pd\n",
    "import numpy as np\n",
    "import scipy as sp\n",
    "from scipy.stats import norm\n",
    "from scipy.stats import sem\n",
    "example5_1 = pd.read_csv('F:\\JupyterData\\Statistics_Pythoncoding\\data\\chap05\\example5_1.csv',encoding='gbk')\n",
    "int = norm.interval(0.90,loc=np.mean(example5_1),scale=sem(example5_1))\n",
    "np.round(int,4)"
   ]
  },
  {
   "cell_type": "markdown",
   "metadata": {},
   "source": [
    "### 代码框5-5 计算一个总体均值的置信区间（小样本）"
   ]
  },
  {
   "cell_type": "code",
   "execution_count": 33,
   "metadata": {},
   "outputs": [
    {
     "data": {
      "text/plain": [
       "array([[101.3748],\n",
       "       [109.3452]])"
      ]
     },
     "execution_count": 33,
     "metadata": {},
     "output_type": "execute_result"
    }
   ],
   "source": [
    "import pandas as pd; import numpy as np; import scipy.stats as st\n",
    "example5_2 = pd.read_csv('F:\\JupyterData\\Statistics_Pythoncoding\\data\\chap05\\example5_2.csv',encoding='gbk')\n",
    "int = st.t.interval(0.95, len(example5_2)-1, loc=np.mean(example5_2),scale=st.sem(example5_2))\n",
    "np.round(int,4)"
   ]
  },
  {
   "cell_type": "markdown",
   "metadata": {},
   "source": [
    "### 代码框5-6 计算两个总体均值之差的置信区间（独立大样本）"
   ]
  },
  {
   "cell_type": "code",
   "execution_count": 37,
   "metadata": {},
   "outputs": [
    {
     "name": "stdout",
     "output_type": "stream",
     "text": [
      "男女平均工资之差的95%的置信区间: [1826.05 2212.4 ]\n"
     ]
    }
   ],
   "source": [
    "import pandas as pd;import numpy as np; from scipy.stats import norm\n",
    "example5_3 = pd.read_csv('F:\\JupyterData\\Statistics_Pythoncoding\\data\\chap05\\example5_3.csv',encoding='gbk')\n",
    "x1 = example5_3['男性工资']; x2 = example5_3['女性工资']\n",
    "conf_level = 0.95\n",
    "xbar1 = x1.mean(); s1 = x1.std(); n1 = len(x1)\n",
    "xbar2 = x2.mean(); s2 = x2.std(); n2 = len(x2)\n",
    "interval = norm.interval(alpha=conf_level, loc=(xbar1-xbar2), scale=np.sqrt(s1**2/n1 + s2**2/n2))\n",
    "print('男女平均工资之差的95%的置信区间:',np.round(interval, 2))"
   ]
  },
  {
   "cell_type": "markdown",
   "metadata": {},
   "source": [
    "### 代码框5-7 计算两个总体均值之差的置信区间（独立小样本）"
   ]
  },
  {
   "cell_type": "code",
   "execution_count": 44,
   "metadata": {},
   "outputs": [
    {
     "name": "stdout",
     "output_type": "stream",
     "text": [
      "方法一的平均时间为: 32.5 方法二的平均时间: 28.8 假定方差相等，两方法组装时间差值95%的置信区间为 [-35.9929  43.3929]\n"
     ]
    }
   ],
   "source": [
    "import pandas as pd\n",
    "import numpy as np\n",
    "from scipy.stats import t\n",
    "from statsmodels.stats.weightstats import ttest_ind\n",
    "\n",
    "example5_4 = pd.read_csv('F:\\JupyterData\\Statistics_Pythoncoding\\data\\chap05\\example5_4.csv',encoding='gbk')\n",
    "x1 = example5_4['方法一']; x2 = example5_4['方法二']\n",
    "conf_level = 0.95\n",
    "xbar1 = x1.mean()\n",
    "xbar2 = x2.mean()\n",
    "t_value,p_value,df= ttest_ind(x1=x1, x2=x2, alternative='two-sided', usevar='pooled') #使用公式5.9计算方差的合并估计量\n",
    "interval = t.interval(alpha=conf_level, df=df, loc=(xbar1-xbar2), scale=(xbar1-xbar2/t_value))\n",
    "print('方法一的平均时间为:',np.round(xbar1,2),'方法二的平均时间:',np.round(xbar2,2), '假定方差相等，两方法组装时间差值95%的置信区间为',np.round(interval,4))\n"
   ]
  },
  {
   "cell_type": "code",
   "execution_count": 46,
   "metadata": {},
   "outputs": [
    {
     "name": "stdout",
     "output_type": "stream",
     "text": [
      "方法一的平均时间为: 32.5 方法二的平均时间: 28.8 假定方差不相等，两方法组装时间差值95%的置信区间为 [0.1384 7.2616] 自由度为: 21.8029\n"
     ]
    }
   ],
   "source": [
    "#平均时间差值95%的置信区间（假设方差不等）\n",
    "t_value, p_value, df=ttest_ind(x1=x1, x2=x2, alternative='two-sided',usevar='unequal')\n",
    "interval = t.interval(alpha=conf_level, df=df, loc=(xbar1-xbar2), scale=(xbar1-xbar2)/t_value)\n",
    "print('方法一的平均时间为:',np.round(xbar1,2),'方法二的平均时间:',np.round(xbar2,2), '假定方差不相等，两方法组装时间差值95%的置信区间为',np.round(interval,4),'自由度为:',np.round(df, 4))"
   ]
  },
  {
   "cell_type": "markdown",
   "metadata": {},
   "source": [
    "### 代码框5-8 计算两个总体均值之差的置信区间"
   ]
  },
  {
   "cell_type": "code",
   "execution_count": 50,
   "metadata": {},
   "outputs": [
    {
     "name": "stdout",
     "output_type": "stream",
     "text": [
      "0     7\n",
      "1    19\n",
      "2    11\n",
      "3     5\n",
      "4    17\n",
      "5    -2\n",
      "6    13\n",
      "7    16\n",
      "8     8\n",
      "9    16\n",
      "dtype: int64\n",
      "两套试卷分数之差95%的置信区间为: [ 6.3273 15.6727]\n"
     ]
    }
   ],
   "source": [
    "import pandas as pd\n",
    "import numpy as np\n",
    "from scipy.stats import t\n",
    "example5_5 = pd.read_csv('F:\\JupyterData\\Statistics_Pythoncoding\\data\\chap05\\example5_5.csv',encoding='gbk')\n",
    "x1 = example5_5['试卷A']; x2 = example5_5['试卷B']\n",
    "d = x1-x2\n",
    "print(d)\n",
    "conf_level = 0.95\n",
    "dbar = d.mean(); sd = d.std(); n = len(d)\n",
    "interval = t.interval(alpha=conf_level, df=n-1, loc=dbar, scale=sd/np.sqrt(n))\n",
    "print('两套试卷分数之差95%的置信区间为:', np.round(interval, 4))"
   ]
  },
  {
   "cell_type": "markdown",
   "metadata": {},
   "source": [
    "### 代码框5-9 计算一个总体比例的置信区间（大样本）"
   ]
  },
  {
   "cell_type": "code",
   "execution_count": 1,
   "metadata": {},
   "outputs": [
    {
     "name": "stdout",
     "output_type": "stream",
     "text": [
      "赞成该项改革的人数比例95%置信区间为: [0.6082 0.6918]\n"
     ]
    }
   ],
   "source": [
    "import numpy as np;from scipy.stats import norm\n",
    "conf_level = 0.95\n",
    "n = 500; x = 325\n",
    "p = x/n\n",
    "interval = norm.interval(alpha=conf_level, loc=p, scale=np.sqrt(p*(1-p)/n))\n",
    "print('赞成该项改革的人数比例95%置信区间为:', np.round(interval, 4))"
   ]
  },
  {
   "cell_type": "markdown",
   "metadata": {},
   "source": [
    "### 代码框5-10 计算一个总体比例的置信区间（任意大小样本）"
   ]
  },
  {
   "cell_type": "code",
   "execution_count": 2,
   "metadata": {},
   "outputs": [
    {
     "name": "stdout",
     "output_type": "stream",
     "text": [
      "赞成该项改革人数比例的95%的置信区间为: [0.6071 0.6905]\n"
     ]
    }
   ],
   "source": [
    "import numpy as np;from scipy.stats import norm\n",
    "conf_level = 0.95\n",
    "n1 = 500+4\n",
    "p1 = (325+2)/n1\n",
    "interval = norm.interval(alpha=conf_level, loc=p1, scale=np.sqrt(p1*(1-p1)/n1))\n",
    "print('赞成该项改革人数比例的95%置信区间为:',np.round(interval,4))"
   ]
  },
  {
   "cell_type": "markdown",
   "metadata": {},
   "source": [
    "### 代码框5-11 计算两个总体比例之差的置信区间（大样本）"
   ]
  },
  {
   "cell_type": "code",
   "execution_count": 3,
   "metadata": {},
   "outputs": [
    {
     "name": "stdout",
     "output_type": "stream",
     "text": [
      "女性与男性收视率差值的95%置信区间 [0.0668 0.1932]\n"
     ]
    }
   ],
   "source": [
    "#女性与男性收视率差值的95%置信区间(两个大样本)\n",
    "import numpy as np;from scipy.stats import norm\n",
    "conf_level = 0.95\n",
    "n1 = 500\n",
    "n2 = 400\n",
    "p1=225/n1; p2=128/n2\n",
    "interval = norm.interval(alpha=conf_level, loc=(p1-p2), scale=np.sqrt(p1*(1-p1)/n1 + p2*(1-p2)/n2))\n",
    "print('女性与男性收视率差值的95%置信区间', np.round(interval, 4))"
   ]
  },
  {
   "cell_type": "markdown",
   "metadata": {},
   "source": [
    "### 代码框5-12 计算两个总体比例之差的置信区间（任意大小样本）"
   ]
  },
  {
   "cell_type": "code",
   "execution_count": 4,
   "metadata": {},
   "outputs": [
    {
     "name": "stdout",
     "output_type": "stream",
     "text": [
      "女性与男性收视率差值的95%置信区间: [0.0662 0.1924]\n"
     ]
    }
   ],
   "source": [
    "#女性与男性收视率差值的95%置信区间\n",
    "import numpy as np; from scipy.stats import norm\n",
    "conf_level = 0.95\n",
    "n1 = 500+2\n",
    "n2 = 400+2\n",
    "p1 = (225+1)/n1\n",
    "p2 = (128+1)/n2\n",
    "interval = norm.interval(alpha=conf_level, loc=(p1-p2),\n",
    "                         scale=np.sqrt(p1*(1-p1)/n1 + p2*(1-p2)/n2))\n",
    "print('女性与男性收视率差值的95%置信区间:', np.round(interval, 4))"
   ]
  },
  {
   "cell_type": "markdown",
   "metadata": {},
   "source": [
    "### 代码框5-13 计算一个总体方差的置信区间"
   ]
  },
  {
   "cell_type": "code",
   "execution_count": 6,
   "metadata": {},
   "outputs": [
    {
     "name": "stdout",
     "output_type": "stream",
     "text": [
      "食品重量方差的95%置信区间为: [56.82897, 180.38811]\n"
     ]
    }
   ],
   "source": [
    "import pandas as pd; from scipy.stats import chi2\n",
    "example5_2 = pd.read_csv('F:\\JupyterData\\Statistics_Pythoncoding\\data\\chap05\\example5_2.csv',encoding='gbk')\n",
    "x = example5_2['食品重量']\n",
    "conf_level = 0.95\n",
    "sigma2 = x.var(); n = len(x)\n",
    "LCI = (n-1)*sigma2/chi2.ppf(q=(1+conf_level)/2, df=n-1)\n",
    "UCI = (n-1)*sigma2/chi2.ppf(q=(1-conf_level)/2, df=n-1)\n",
    "print('食品重量方差的95%置信区间为:',[np.round(LCI,5),np.round(UCI,5)])"
   ]
  },
  {
   "cell_type": "markdown",
   "metadata": {},
   "source": [
    "### 代码框5-14 计算两个总体方差比的置信区间"
   ]
  },
  {
   "cell_type": "code",
   "execution_count": 9,
   "metadata": {},
   "outputs": [
    {
     "name": "stdout",
     "output_type": "stream",
     "text": [
      "两种方法组装产品所需时间方差比的95%置信区间为: [0.23788, 2.87044]\n"
     ]
    }
   ],
   "source": [
    "#两种方法组装产品所需时间方差比的置信区间\n",
    "import pandas as pd; import numpy as np; from scipy.stats import f\n",
    "example5_4 = pd.read_csv('F:\\JupyterData\\Statistics_Pythoncoding\\data\\chap05\\example5_4.csv',encoding='gbk')\n",
    "x1= example5_4['方法一']; x2=example5_4['方法二']\n",
    "conf_level = 0.95\n",
    "var1 = x1.var() ; var2 = x2.var()\n",
    "n1= len(x1); n2 = len(x2)\n",
    "LCI = (var1/var2) / f.ppf(q=(1+conf_level)/2, dfn=n1-1, dfd=n2-1)\n",
    "UCI = (var1/var2) / f.ppf(q=(1-conf_level)/2, dfn=n1-1, dfd=n2-1)\n",
    "print('两种方法组装产品所需时间方差比的95%置信区间为:', [np.round(LCI,5),np.round(UCI,5)])\n",
    "                         "
   ]
  },
  {
   "cell_type": "code",
   "execution_count": null,
   "metadata": {},
   "outputs": [],
   "source": []
  },
  {
   "cell_type": "code",
   "execution_count": null,
   "metadata": {},
   "outputs": [],
   "source": []
  }
 ],
 "metadata": {
  "kernelspec": {
   "display_name": "Python 3 (ipykernel)",
   "language": "python",
   "name": "python3"
  },
  "language_info": {
   "codemirror_mode": {
    "name": "ipython",
    "version": 3
   },
   "file_extension": ".py",
   "mimetype": "text/x-python",
   "name": "python",
   "nbconvert_exporter": "python",
   "pygments_lexer": "ipython3",
   "version": "3.9.12"
  },
  "nbTranslate": {
   "displayLangs": [
    "*"
   ],
   "hotkey": "alt-t",
   "langInMainMenu": true,
   "sourceLang": "en",
   "targetLang": "fr",
   "useGoogleTranslate": true
  }
 },
 "nbformat": 4,
 "nbformat_minor": 4
}
