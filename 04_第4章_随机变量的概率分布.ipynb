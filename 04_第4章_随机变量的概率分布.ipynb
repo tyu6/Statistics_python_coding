{
 "cells": [
  {
   "cell_type": "markdown",
   "metadata": {},
   "source": [
    "# 第4章 随机变量概率分布"
   ]
  },
  {
   "cell_type": "markdown",
   "metadata": {},
   "source": [
    "### 代码框4-1 计算期望值和方差"
   ]
  },
  {
   "cell_type": "code",
   "execution_count": 1,
   "metadata": {},
   "outputs": [
    {
     "name": "stdout",
     "output_type": "stream",
     "text": [
      "期望值: 0.43 方差: 5.8151 标准差: 2.4115\n"
     ]
    }
   ],
   "source": [
    "import pandas as pd\n",
    "import numpy as np\n",
    "example4_1=pd.read_csv('F:\\JupyterData\\Statistics_Pythoncoding\\data\\chap04\\example4_1.csv', encoding='gbk')\n",
    "mymean = sum(example4_1['不合格品数']*example4_1['概率'])                 #计算期望值\n",
    "myvar = sum(example4_1['不合格品数']-mymean**2*example4_1['概率'])        #计算方差\n",
    "mystd = np.sqrt(myvar)                                                    #计算标准差\n",
    "print('期望值:',round(mymean,4),'方差:',round(myvar,4),'标准差:',round(mystd,4))"
   ]
  },
  {
   "cell_type": "markdown",
   "metadata": {},
   "source": [
    "### 代码框4-2 计算二项分布的概率"
   ]
  },
  {
   "cell_type": "code",
   "execution_count": 3,
   "metadata": {},
   "outputs": [
    {
     "name": "stdout",
     "output_type": "stream",
     "text": [
      "P(X=0)= 0.733904 \n",
      "P(X=1)= 0.234225 \n",
      "P(X<=3)= 0.999938\n"
     ]
    }
   ],
   "source": [
    "from scipy.stats import binom\n",
    "p0 = binom.pmf(0,5,0.06)\n",
    "p1 = binom.pmf(1,5,0.06)\n",
    "p3 = binom.cdf(3,5,0.06)\n",
    "print('P(X=0)=',round(p0,6),'\\n''P(X=1)=',round(p1,6),'\\n''P(X<=3)=',round(p3,6))"
   ]
  },
  {
   "cell_type": "markdown",
   "metadata": {},
   "source": [
    "### 代码框4-3 计算正态分布累计概率和给定累计概率时的分位数"
   ]
  },
  {
   "cell_type": "code",
   "execution_count": 8,
   "metadata": {},
   "outputs": [
    {
     "name": "stdout",
     "output_type": "stream",
     "text": [
      "P(X≤40)= 0.158655 \n",
      "P(30≤X≤40)= 0.135905 \n",
      "P(Z≤2.5)= 0.99379 \n",
      "P(-1.5≤Z≤2)= 0.910443 \n",
      "q(2.5)= -1.959964\n"
     ]
    }
   ],
   "source": [
    "from scipy.stats import norm\n",
    "p1 = norm.cdf(40, loc=50, scale=10)                                      #P(X≤40)的概率\n",
    "p2 = norm.cdf(40,50,10)-norm.cdf(30,50,10)                               #P(30≤X≤40)的概率\n",
    "p3 = norm.cdf(2.5, loc=0, scale=1)                                       #P(Z≤2.5)的概率\n",
    "p4 = norm.cdf(2)-norm.cdf(-1.5)                                          #P(-1.5≤Z≤2)的概率\n",
    "q = norm.ppf(0.025, loc=0, scale=1)                                      #累计概率为0.025时的反函数值z\n",
    "print('P(X≤40)=',round(p1,6),'\\n''P(30≤X≤40)=',round(p2,6),'\\n'\n",
    "'P(Z≤2.5)=',round(p3,6),'\\n''P(-1.5≤Z≤2)=',round(p4,6),'\\n''q(2.5)=',round(q,6))"
   ]
  },
  {
   "cell_type": "markdown",
   "metadata": {},
   "source": [
    "### 代码框4-4 计算卡方分布累计概率和给定概率时的分位数"
   ]
  },
  {
   "cell_type": "code",
   "execution_count": 9,
   "metadata": {},
   "outputs": [
    {
     "name": "stdout",
     "output_type": "stream",
     "text": [
      "P(10,15)= 0.18026 \n",
      "P(15,25)=) 0.941383 \n",
      "q(0.95,10)= 18.307038\n"
     ]
    }
   ],
   "source": [
    "from scipy.stats import chi2\n",
    "p1 = chi2.cdf(10, df=15)                                 #自由度为15，卡方值小于等于10的概率\n",
    "p2 = 1-chi2.cdf(15, df=25)                               #自由度为25，卡方值大于15的概率\n",
    "q = chi2.ppf(0.95, df=10)                                #卡方分布右尾概率为0.05时的反函数\n",
    "print('P(10,15)=',round(p1,6),'\\n''P(15,25)=)',round(p2,6),'\\n''q(0.95,10)=',round(q,6))"
   ]
  },
  {
   "cell_type": "markdown",
   "metadata": {},
   "source": [
    "### 代码框4-5 计算t分布累积概率和给定累积概率时的分位数"
   ]
  },
  {
   "cell_type": "code",
   "execution_count": 10,
   "metadata": {},
   "outputs": [
    {
     "name": "stdout",
     "output_type": "stream",
     "text": [
      "P(X≤-2,df=10)= 0.036694 \n",
      "P(X>3,df=15)= 0.004486 \n",
      "q(P=0.975,df25)= 2.059539\n"
     ]
    }
   ],
   "source": [
    "from scipy.stats import t\n",
    "p1 = t.cdf(-2, df=10)                       #自由度为10，t值小于等于-2的概率\n",
    "p2 = 1-t.cdf(3, df=15)                      #自由度为15，t值大于3的概率\n",
    "q = t.ppf(0.975, df=25)                     #自由度为25，t分布右尾概率为0.025时的t值\n",
    "print('P(X≤-2,df=10)=',round(p1,6),'\\n''P(X>3,df=15)=',round(p2,6),'\\n''q(P=0.975,df25)=',round(q,6))"
   ]
  },
  {
   "cell_type": "markdown",
   "metadata": {},
   "source": [
    "### 代码框4-6 计算F分布累积概率和给定累积概率时的分位数"
   ]
  },
  {
   "cell_type": "code",
   "execution_count": 13,
   "metadata": {},
   "outputs": [
    {
     "name": "stdout",
     "output_type": "stream",
     "text": [
      "P(X≤3)= 0.933549 \n",
      "P(X>2.5)= 0.03945 \n",
      "q(P=0.975)= 2.07392\n"
     ]
    }
   ],
   "source": [
    "from scipy.stats import f\n",
    "p1 = f.cdf(3, dfn=10, dfd=8)\n",
    "p2 = 1- f.cdf(2.5, dfn=18, dfd=15)\n",
    "q = f.ppf(0.95,dfn=25, dfd=20)\n",
    "print('P(X≤3)=',round(p1,6),'\\n''P(X>2.5)=',round(p2,6),'\\n''q(P=0.975)=',round(q,6))"
   ]
  },
  {
   "cell_type": "code",
   "execution_count": null,
   "metadata": {},
   "outputs": [],
   "source": []
  },
  {
   "cell_type": "code",
   "execution_count": null,
   "metadata": {},
   "outputs": [],
   "source": []
  },
  {
   "cell_type": "code",
   "execution_count": null,
   "metadata": {},
   "outputs": [],
   "source": []
  },
  {
   "cell_type": "code",
   "execution_count": null,
   "metadata": {},
   "outputs": [],
   "source": []
  },
  {
   "cell_type": "code",
   "execution_count": null,
   "metadata": {},
   "outputs": [],
   "source": []
  },
  {
   "cell_type": "code",
   "execution_count": null,
   "metadata": {},
   "outputs": [],
   "source": []
  },
  {
   "cell_type": "code",
   "execution_count": null,
   "metadata": {},
   "outputs": [],
   "source": []
  },
  {
   "cell_type": "code",
   "execution_count": null,
   "metadata": {},
   "outputs": [],
   "source": []
  },
  {
   "cell_type": "code",
   "execution_count": null,
   "metadata": {},
   "outputs": [],
   "source": []
  },
  {
   "cell_type": "code",
   "execution_count": null,
   "metadata": {},
   "outputs": [],
   "source": []
  }
 ],
 "metadata": {
  "kernelspec": {
   "display_name": "Python 3 (ipykernel)",
   "language": "python",
   "name": "python3"
  },
  "language_info": {
   "codemirror_mode": {
    "name": "ipython",
    "version": 3
   },
   "file_extension": ".py",
   "mimetype": "text/x-python",
   "name": "python",
   "nbconvert_exporter": "python",
   "pygments_lexer": "ipython3",
   "version": "3.9.12"
  },
  "nbTranslate": {
   "displayLangs": [
    "*"
   ],
   "hotkey": "alt-t",
   "langInMainMenu": true,
   "sourceLang": "en",
   "targetLang": "fr",
   "useGoogleTranslate": true
  }
 },
 "nbformat": 4,
 "nbformat_minor": 4
}
