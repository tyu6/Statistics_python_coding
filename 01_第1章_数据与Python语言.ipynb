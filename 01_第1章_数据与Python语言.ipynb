{
 "cells": [
  {
   "cell_type": "markdown",
   "metadata": {},
   "source": [
    "# 第1章 数据与Python语言"
   ]
  },
  {
   "cell_type": "markdown",
   "metadata": {},
   "source": [
    "## 1.1数据与统计学"
   ]
  },
  {
   "cell_type": "markdown",
   "metadata": {},
   "source": [
    "## 1.2Python的初步使用"
   ]
  },
  {
   "cell_type": "markdown",
   "metadata": {},
   "source": [
    "### 代码框1-1 Python模块的初步使用"
   ]
  },
  {
   "cell_type": "code",
   "execution_count": null,
   "metadata": {},
   "outputs": [],
   "source": [
    "#以下命令在cmd窗口或powershell窗口输入\n",
    "#安装模块\n",
    "pip install pandas\n",
    "#导入模块\n",
    "import numpy\n",
    "#导入模块并重命名\n",
    "import numpy as np\n",
    "#显示已经安装模块的名称\n",
    "conda list\n",
    "#卸载安装在Python中的模块\n",
    "conda uninstall pandas"
   ]
  },
  {
   "cell_type": "markdown",
   "metadata": {},
   "source": [
    "### 代码框1-2 查看帮助"
   ]
  },
  {
   "cell_type": "code",
   "execution_count": 13,
   "metadata": {
    "collapsed": true
   },
   "outputs": [
    {
     "name": "stdout",
     "output_type": "stream",
     "text": [
      "Help on built-in function sum in module builtins:\n",
      "\n",
      "sum(iterable, /, start=0)\n",
      "    Return the sum of a 'start' value (default: 0) plus an iterable of numbers\n",
      "    \n",
      "    When the iterable is empty, return the start value.\n",
      "    This function is intended specifically for use with numeric values and may\n",
      "    reject non-numeric types.\n",
      "\n"
     ]
    }
   ],
   "source": [
    "#从代码框1-2开始后续的代码全部在jupyter notebook中输入\n",
    "help(sum)         #查看sum函数的帮助信息\n",
    "help('random')      #查看模块random的帮助信息\n",
    "#或\n",
    "import random       #导入random模块\n",
    "help(random)       #查看模块random的帮助信息\n",
    "help(random.gauss)   #查看模块random中gauss函数的帮助信息\n"
   ]
  },
  {
   "cell_type": "markdown",
   "metadata": {},
   "source": [
    "### 代码框1-3 对象赋值与运行"
   ]
  },
  {
   "cell_type": "code",
   "execution_count": 3,
   "metadata": {},
   "outputs": [
    {
     "name": "stdout",
     "output_type": "stream",
     "text": [
      "438 5 87.6\n",
      "     社区 性别  态度\n",
      "0   A社区  男  反对\n",
      "1   B社区  女  反对\n",
      "2   D社区  女  反对\n",
      "3   C社区  男  反对\n",
      "4   A社区  男  赞成\n",
      "..  ... ..  ..\n",
      "75  A社区  女  反对\n",
      "76  C社区  男  赞成\n",
      "77  B社区  男  赞成\n",
      "78  A社区  女  赞成\n",
      "79  C社区  女  反对\n",
      "\n",
      "[80 rows x 3 columns]\n"
     ]
    }
   ],
   "source": [
    "x = [80, 87, 98, 73, 100]         #将5个数据组成的列表赋值给对象x\n",
    "s = sum(x)                       #计算对象x的总和并赋值给对象s\n",
    "n = len(x)                       #计算对象x的元素个数并赋值给n\n",
    "m = s/n                          #计算对象x的平均数并赋值给对象m\n",
    "print(s, n, m)\n",
    "\n",
    "import pandas as pd\n",
    "example1_1 = pd.read_csv(\"F:\\JupyterData\\Statistics_Pythoncoding\\data\\chap01\\example1_1.csv\", encoding = 'gbk')\n",
    "d = example1_1                   #将数据框example1_1赋值给对象d\n",
    "print(d)\n"
   ]
  },
  {
   "cell_type": "code",
   "execution_count": null,
   "metadata": {},
   "outputs": [],
   "source": []
  },
  {
   "cell_type": "markdown",
   "metadata": {},
   "source": [
    "### 代码框1-4 创建列表"
   ]
  },
  {
   "cell_type": "code",
   "execution_count": 1,
   "metadata": {},
   "outputs": [
    {
     "name": "stdout",
     "output_type": "stream",
     "text": [
      "[2, 3, 4, 5] ['甲', '乙', '丙', '丁'] ['甲', 23, True, [1, 2, 3]] [0, 1, 2, 3, 4, 5, 6, 7, 8, 9] [100, 120, 140, 160, 180]\n"
     ]
    }
   ],
   "source": [
    "a = [2, 3, 4, 5]                     #生成同类型元素列表\n",
    "b = [\"甲\", \"乙\", \"丙\", \"丁\"]         #元素同为字符串的列表\n",
    "c = [\"甲\", 23, True, [1, 2, 3]]     #不同类型元素列表\n",
    "d = list(range(10))               #用range函数生成等差数列，起始值为0，步长为1列表\n",
    "e = list(range(100, 200, 20))       #在100-200zza之间生成数列，步长为20的列表\n",
    "print(a, b, c, d, e)"
   ]
  },
  {
   "cell_type": "markdown",
   "metadata": {},
   "source": [
    "### 代码框1-5 列表的几种操作"
   ]
  },
  {
   "cell_type": "code",
   "execution_count": 23,
   "metadata": {},
   "outputs": [
    {
     "name": "stdout",
     "output_type": "stream",
     "text": [
      "[2, 3, 4, 5, 6] ['甲', '戊', '丙', '丁'] [2, 3, 4, 5, 6, '甲', '戊', '丙', '丁'] [2, 2, 3, 4, 5, 8] ['丁', '丙', '乙', '戊', '甲']\n"
     ]
    }
   ],
   "source": [
    "a.append(6)                             #将数字6追加到列表a的尾部\n",
    "b.insert(2, '戊')                       #在列表b的第三个位置插入戊\n",
    "b.pop(1)                                #移除列表b的第二个位置元素\n",
    "ab = a + b                              #将a和b连接为一个新列表\n",
    "f = [2, 3, 4, 5, 2, 8]                  #创建列表f\n",
    "f.sort()                                #列表的元素排序\n",
    "g = ['甲','乙', '丙', '丁', '戊']       #创建列表g\n",
    "g.sort()                                #列表g排序\n",
    "print(a, b, ab, f, g)\n"
   ]
  },
  {
   "cell_type": "markdown",
   "metadata": {},
   "source": [
    "### 代码框1-6 字典的简单操作"
   ]
  },
  {
   "cell_type": "code",
   "execution_count": 9,
   "metadata": {},
   "outputs": [
    {
     "name": "stdout",
     "output_type": "stream",
     "text": [
      "dict_keys(['刘文涛', '王宇翔', '田思雨', '徐丽娜', '丁文彬']) dict_values([68, 85, 74, 88, 63]) dict_items([('刘文涛', 68), ('王宇翔', 85), ('田思雨', 74), ('徐丽娜', 88), ('丁文彬', 63)]) 88 {'刘文涛': 68, '王宇翔': 85, '徐丽娜': 88, '丁文彬': 63}\n"
     ]
    }
   ],
   "source": [
    "dc1 = {'刘文涛':68, '王宇翔':85, '田思雨':74, '徐丽娜':88, '丁文彬':63}    #用大括号创建字典\n",
    "dc1\n",
    "dc1.keys()      #列表形式返回字典的键\n",
    "dc1.values()     #列表形式返回字典中的值\n",
    "dc1.items()      #列表形式返回字典中键值对\n",
    "dc1['徐丽娜']\n",
    "dc2 = dict(刘文涛 = 68, 王宇翔 = 85, 田思雨 = 74, 徐丽娜 = 88, 丁文彬 = 63)  #用dcit函数创建字典\n",
    "del dc2['田思雨']\n",
    "dc2\n",
    "print(dc1.keys(), dc1.values(), dc1.items(), dc1['徐丽娜'], dc2)"
   ]
  },
  {
   "cell_type": "markdown",
   "metadata": {},
   "source": [
    "### 代码框1-7 创建集合与集合的一些操作"
   ]
  },
  {
   "cell_type": "code",
   "execution_count": 2,
   "metadata": {},
   "outputs": [
    {
     "name": "stdout",
     "output_type": "stream",
     "text": [
      "{1, 2, 3, 5, 8} {1, 2, 3, 4, 5, 6} {1, 2, 3, 4, 5, 6, 8} {1, 2, 3, 5}\n"
     ]
    }
   ],
   "source": [
    "set1 = set([2,2,2,1,8,3,3,5,5])   #set函数创建集合\n",
    "set2 = {2,2,2,1,4,3,3,5,6,6}      #使用{}创建集合\n",
    "set3 = set1 | set2                #两个集合的并集\n",
    "set4 = set1 & set2                #两个集合的交集\n",
    "print(set1, set2, set3, set4)\n"
   ]
  },
  {
   "cell_type": "markdown",
   "metadata": {},
   "source": [
    "### 代码框1-8 创建数组和数组的一些操作"
   ]
  },
  {
   "cell_type": "code",
   "execution_count": 4,
   "metadata": {},
   "outputs": [
    {
     "name": "stdout",
     "output_type": "stream",
     "text": [
      "a1: [5 4 1 2 3]\n",
      "a2: [0 1 2 3 4 5 6 7 8 9]\n",
      "a3: [2.  2.5 3.  3.5 4.  4.5 5.  5.5]\n"
     ]
    },
    {
     "data": {
      "text/plain": [
       "dtype('int32')"
      ]
     },
     "execution_count": 4,
     "metadata": {},
     "output_type": "execute_result"
    }
   ],
   "source": [
    "#创建一维数组（向量）\n",
    "import numpy as np\n",
    "a1 = np.array([5,4,1,2,3])   #使用array函数生成数组\n",
    "a2 = np.arange(10)           #使用arange函数生成等差数列，起点0，步长1\n",
    "a3 = np.arange(2,6,0.5)      #用arange函数在2-6之间生成步长为0.5的等差数列\n",
    "print('a1:',a1)\n",
    "print('a2:',a2)\n",
    "print('a3:',a3)\n",
    "a1.dtype                     #查看数据类型"
   ]
  },
  {
   "cell_type": "code",
   "execution_count": 5,
   "metadata": {},
   "outputs": [
    {
     "data": {
      "text/plain": [
       "array([[1, 2, 3],\n",
       "       [3, 4, 5],\n",
       "       [5, 6, 7]])"
      ]
     },
     "execution_count": 5,
     "metadata": {},
     "output_type": "execute_result"
    }
   ],
   "source": [
    "#创建二维数组\n",
    "import numpy as np\n",
    "a4 = np.array([[1,2,3],[3,4,5],[5,6,7]])\n",
    "a4"
   ]
  },
  {
   "cell_type": "code",
   "execution_count": 2,
   "metadata": {},
   "outputs": [
    {
     "name": "stdout",
     "output_type": "stream",
     "text": [
      "[ 0  1  2  3  4  5  6  7  8  9 10 11]\n",
      "[[ 0  1  2  3]\n",
      " [ 4  5  6  7]\n",
      " [ 8  9 10 11]]\n"
     ]
    }
   ],
   "source": [
    "#改变数组的形状\n",
    "import numpy as np\n",
    "a5 = np.arange(12)        #创建一维数组\n",
    "a6 = a5.reshape(3,4)      #改变数组为3*4的二维数组\n",
    "print(a5)\n",
    "print(a6)"
   ]
  },
  {
   "cell_type": "code",
   "execution_count": 5,
   "metadata": {},
   "outputs": [
    {
     "name": "stdout",
     "output_type": "stream",
     "text": [
      "2\n",
      "(3, 4)\n",
      "int32\n",
      "[[ 0.  1.  2.  3.]\n",
      " [ 4.  5.  6.  7.]\n",
      " [ 8.  9. 10. 11.]]\n",
      "[ 8  9 10 11]\n"
     ]
    }
   ],
   "source": [
    "#数组的其他操作\n",
    "a6.ndim                    #查看数组a6的维度\n",
    "a6.shape                   #查看数组a6的形状\n",
    "a6.dtype                   #查看数组a6的数据类型\n",
    "a6.astype(float)           #改变数组a6的数据类型为浮点值\n",
    "a6[2]                      #访问数组a6的第三个元素\n",
    "print(a6.ndim)\n",
    "print(a6.shape)\n",
    "print(a6.dtype )\n",
    "print(a6.astype(float))\n",
    "print(a6[2] )"
   ]
  },
  {
   "cell_type": "markdown",
   "metadata": {},
   "source": [
    "### 代码框1-9  用pandas创建序列"
   ]
  },
  {
   "cell_type": "code",
   "execution_count": 7,
   "metadata": {},
   "outputs": [
    {
     "data": {
      "text/plain": [
       "0    2\n",
       "1    3\n",
       "2    4\n",
       "3    5\n",
       "dtype: int64"
      ]
     },
     "execution_count": 7,
     "metadata": {},
     "output_type": "execute_result"
    }
   ],
   "source": [
    "import pandas as pd\n",
    "s1 = pd.Series([2,3,4,5])            #省略索引时自动生成索引,S要大写\n",
    "s1"
   ]
  },
  {
   "cell_type": "code",
   "execution_count": 8,
   "metadata": {},
   "outputs": [
    {
     "data": {
      "text/plain": [
       "a    5\n",
       "b    8\n",
       "c    7\n",
       "d    6\n",
       "dtype: int64"
      ]
     },
     "execution_count": 8,
     "metadata": {},
     "output_type": "execute_result"
    }
   ],
   "source": [
    "s2 = pd.Series([5,8,7,6], index = ['a','b','c','d'])      #指定索引\n",
    "s2"
   ]
  },
  {
   "cell_type": "code",
   "execution_count": 9,
   "metadata": {},
   "outputs": [
    {
     "data": {
      "text/plain": [
       "甲       60\n",
       "25      80\n",
       "True    50\n",
       "dtype: int64"
      ]
     },
     "execution_count": 9,
     "metadata": {},
     "output_type": "execute_result"
    }
   ],
   "source": [
    "s3 = pd.Series([60,80,50],index = ['甲',25, True])     #索引可以是不同类型元素\n",
    "s3"
   ]
  },
  {
   "cell_type": "code",
   "execution_count": 10,
   "metadata": {},
   "outputs": [
    {
     "data": {
      "text/plain": [
       "a      1\n",
       "b    boy\n",
       "c      3\n",
       "dtype: object"
      ]
     },
     "execution_count": 10,
     "metadata": {},
     "output_type": "execute_result"
    }
   ],
   "source": [
    "s4 = pd.Series({'a':1, 'b':'boy', 'c':3})           #以字典形式生成序列\n",
    "s4"
   ]
  },
  {
   "cell_type": "code",
   "execution_count": 12,
   "metadata": {},
   "outputs": [
    {
     "data": {
      "text/plain": [
       "0    0\n",
       "1    1\n",
       "2    2\n",
       "3    3\n",
       "4    4\n",
       "dtype: int64"
      ]
     },
     "execution_count": 12,
     "metadata": {},
     "output_type": "execute_result"
    }
   ],
   "source": [
    "s5 = pd.Series(range(5))                         #由range函数生成序列\n",
    "s5"
   ]
  },
  {
   "cell_type": "markdown",
   "metadata": {},
   "source": [
    "### 代码框1-10 序列的基本操作"
   ]
  },
  {
   "cell_type": "code",
   "execution_count": 3,
   "metadata": {},
   "outputs": [
    {
     "name": "stdout",
     "output_type": "stream",
     "text": [
      "Index(['a', 'b', 'c', 'd'], dtype='object')\n",
      "[5 8 7 6]\n",
      "int64\n"
     ]
    }
   ],
   "source": [
    "#获取序列的索引、数据、类型\n",
    "import pandas as pd\n",
    "s6 = pd.Series([5,8,7,6], index=['a','b','c','d'])\n",
    "print(s6.index)             #获取序列索引\n",
    "print(s6.values)            #获取序列数据\n",
    "print(s6.dtype)             #获取序列类型"
   ]
  },
  {
   "cell_type": "code",
   "execution_count": 4,
   "metadata": {},
   "outputs": [
    {
     "data": {
      "text/plain": [
       "索引名称\n",
       "a    5\n",
       "b    8\n",
       "c    7\n",
       "d    6\n",
       "Name: 数列名称, dtype: int64"
      ]
     },
     "execution_count": 4,
     "metadata": {},
     "output_type": "execute_result"
    }
   ],
   "source": [
    "#设置序列和索引的名称\n",
    "s6.name = '数列名称'      #设置序列名称\n",
    "s6.index.name = '索引名称'  #设置索引名称\n",
    "s6"
   ]
  },
  {
   "cell_type": "code",
   "execution_count": 5,
   "metadata": {},
   "outputs": [
    {
     "data": {
      "text/plain": [
       "索引名称\n",
       "a    5.0\n",
       "b    8.0\n",
       "c    7.0\n",
       "d    6.0\n",
       "Name: 数列名称, dtype: float64"
      ]
     },
     "execution_count": 5,
     "metadata": {},
     "output_type": "execute_result"
    }
   ],
   "source": [
    "#转换序列数据类型\n",
    "s6 = s6.astype(float)\n",
    "s6"
   ]
  },
  {
   "cell_type": "code",
   "execution_count": 6,
   "metadata": {},
   "outputs": [
    {
     "data": {
      "text/plain": [
       "索引名称\n",
       "a     5.0\n",
       "b    11.0\n",
       "c     7.0\n",
       "d    15.0\n",
       "Name: 数列名称, dtype: float64"
      ]
     },
     "execution_count": 6,
     "metadata": {},
     "output_type": "execute_result"
    }
   ],
   "source": [
    "#修改序列的数据\n",
    "s6[[1,3]] = [11,15]\n",
    "s6"
   ]
  },
  {
   "cell_type": "code",
   "execution_count": 8,
   "metadata": {},
   "outputs": [
    {
     "data": {
      "text/plain": [
       "a    6.0\n",
       "b    NaN\n",
       "c    9.0\n",
       "d    NaN\n",
       "e    NaN\n",
       "dtype: float64"
      ]
     },
     "execution_count": 8,
     "metadata": {},
     "output_type": "execute_result"
    }
   ],
   "source": [
    "#两个序列对齐相加\n",
    "s7 = pd.Series([1, 2, 3], index=['a','c','e'], dtype=float)\n",
    "s6+s7"
   ]
  },
  {
   "cell_type": "code",
   "execution_count": 11,
   "metadata": {},
   "outputs": [
    {
     "name": "stdout",
     "output_type": "stream",
     "text": [
      "a     1.0\n",
      "b     3.0\n",
      "c     6.0\n",
      "d    10.0\n",
      "e    15.0\n",
      "dtype: float64\n",
      "15.0\n",
      "3.0\n"
     ]
    }
   ],
   "source": [
    "#序列的简单运算\n",
    "s8 = pd.Series([1,2,3,4,5], index=['a','b','c','d','e'], dtype=float)\n",
    "l = s8.cumsum()  #序列的累加\n",
    "h = s8.sum()     #序列求和\n",
    "p = s8.mean()    #求序列的平均数\n",
    "print(l)\n",
    "print(h)\n",
    "print(p)\n"
   ]
  },
  {
   "cell_type": "markdown",
   "metadata": {},
   "source": [
    "\n",
    "\n"
   ]
  },
  {
   "cell_type": "markdown",
   "metadata": {},
   "source": [
    "### 代码框1-11 使用字典创建数据框"
   ]
  },
  {
   "cell_type": "code",
   "execution_count": 7,
   "metadata": {},
   "outputs": [
    {
     "data": {
      "text/html": [
       "<div>\n",
       "<style scoped>\n",
       "    .dataframe tbody tr th:only-of-type {\n",
       "        vertical-align: middle;\n",
       "    }\n",
       "\n",
       "    .dataframe tbody tr th {\n",
       "        vertical-align: top;\n",
       "    }\n",
       "\n",
       "    .dataframe thead th {\n",
       "        text-align: right;\n",
       "    }\n",
       "</style>\n",
       "<table border=\"1\" class=\"dataframe\">\n",
       "  <thead>\n",
       "    <tr style=\"text-align: right;\">\n",
       "      <th></th>\n",
       "      <th>姓名</th>\n",
       "      <th>统计学</th>\n",
       "      <th>数学</th>\n",
       "      <th>经济学</th>\n",
       "    </tr>\n",
       "  </thead>\n",
       "  <tbody>\n",
       "    <tr>\n",
       "      <th>0</th>\n",
       "      <td>刘文涛</td>\n",
       "      <td>68</td>\n",
       "      <td>85</td>\n",
       "      <td>84</td>\n",
       "    </tr>\n",
       "    <tr>\n",
       "      <th>1</th>\n",
       "      <td>王宇翔</td>\n",
       "      <td>85</td>\n",
       "      <td>91</td>\n",
       "      <td>63</td>\n",
       "    </tr>\n",
       "    <tr>\n",
       "      <th>2</th>\n",
       "      <td>田思雨</td>\n",
       "      <td>74</td>\n",
       "      <td>74</td>\n",
       "      <td>61</td>\n",
       "    </tr>\n",
       "    <tr>\n",
       "      <th>3</th>\n",
       "      <td>徐丽娜</td>\n",
       "      <td>88</td>\n",
       "      <td>100</td>\n",
       "      <td>49</td>\n",
       "    </tr>\n",
       "    <tr>\n",
       "      <th>4</th>\n",
       "      <td>丁文彬</td>\n",
       "      <td>63</td>\n",
       "      <td>82</td>\n",
       "      <td>89</td>\n",
       "    </tr>\n",
       "  </tbody>\n",
       "</table>\n",
       "</div>"
      ],
      "text/plain": [
       "    姓名  统计学   数学  经济学\n",
       "0  刘文涛   68   85   84\n",
       "1  王宇翔   85   91   63\n",
       "2  田思雨   74   74   61\n",
       "3  徐丽娜   88  100   49\n",
       "4  丁文彬   63   82   89"
      ]
     },
     "execution_count": 7,
     "metadata": {},
     "output_type": "execute_result"
    }
   ],
   "source": [
    "#使用字典创建数据框（行索引自动生成）\n",
    "import pandas as pd\n",
    "d = {\"姓名\": [\"刘文涛\",\"王宇翔\",\"田思雨\",\"徐丽娜\",\"丁文彬\"],\n",
    "\"统计学\": [68,85,74,88,63],\n",
    "\"数学\": [85,91,74,100,82],\n",
    "\"经济学\": [84,63,61,49,89]}\n",
    "table1_1 = pd.DataFrame(d)     #创建数据框命名为table1_1,注意命令DataFrame大小写\n",
    "table1_1"
   ]
  },
  {
   "cell_type": "markdown",
   "metadata": {},
   "source": [
    "### 代码框1-12 数据框常用操作"
   ]
  },
  {
   "cell_type": "code",
   "execution_count": 19,
   "metadata": {},
   "outputs": [
    {
     "data": {
      "text/html": [
       "<div>\n",
       "<style scoped>\n",
       "    .dataframe tbody tr th:only-of-type {\n",
       "        vertical-align: middle;\n",
       "    }\n",
       "\n",
       "    .dataframe tbody tr th {\n",
       "        vertical-align: top;\n",
       "    }\n",
       "\n",
       "    .dataframe thead th {\n",
       "        text-align: right;\n",
       "    }\n",
       "</style>\n",
       "<table border=\"1\" class=\"dataframe\">\n",
       "  <thead>\n",
       "    <tr style=\"text-align: right;\">\n",
       "      <th></th>\n",
       "      <th>姓名</th>\n",
       "      <th>统计学</th>\n",
       "      <th>计算机</th>\n",
       "      <th>管理学</th>\n",
       "    </tr>\n",
       "  </thead>\n",
       "  <tbody>\n",
       "    <tr>\n",
       "      <th>0</th>\n",
       "      <td>刘文涛</td>\n",
       "      <td>68</td>\n",
       "      <td>88</td>\n",
       "      <td>84</td>\n",
       "    </tr>\n",
       "    <tr>\n",
       "      <th>1</th>\n",
       "      <td>王宇翔</td>\n",
       "      <td>85</td>\n",
       "      <td>75</td>\n",
       "      <td>63</td>\n",
       "    </tr>\n",
       "    <tr>\n",
       "      <th>3</th>\n",
       "      <td>徐丽娜</td>\n",
       "      <td>90</td>\n",
       "      <td>67</td>\n",
       "      <td>49</td>\n",
       "    </tr>\n",
       "    <tr>\n",
       "      <th>4</th>\n",
       "      <td>丁文彬</td>\n",
       "      <td>63</td>\n",
       "      <td>78</td>\n",
       "      <td>89</td>\n",
       "    </tr>\n",
       "  </tbody>\n",
       "</table>\n",
       "</div>"
      ],
      "text/plain": [
       "    姓名  统计学  计算机  管理学\n",
       "0  刘文涛   68   88   84\n",
       "1  王宇翔   85   75   63\n",
       "3  徐丽娜   90   67   49\n",
       "4  丁文彬   63   78   89"
      ]
     },
     "execution_count": 19,
     "metadata": {},
     "output_type": "execute_result"
    }
   ],
   "source": [
    "import pandas as pd\n",
    "df = pd.read_csv(r\"F:\\JupyterData\\Statistics_Pythoncoding\\data\\chap01\\table1_1.csv\",encoding = 'gbk')\n",
    "                                       #加载数据表table1_1，并命名为df,报错：[Errno 22] Invalid argument，F:前面加了转义符r,Done\n",
    "df[['数学']]                           #选择数学1列\n",
    "df[['数学','统计学']]                  #选择统计学、数学2列\n",
    "df.loc[2]                              #选择第3行数据\n",
    "df.loc[[2,4]]                          #选择第3、5行数据\n",
    "df.loc[2:4]                            #选择第3-5行数据\n",
    "#df['会计学'] = [88,75,92,67,78]        #增加会计学列\n",
    "#df.loc[:,'会计学']=[88,75,92,67,78]\n",
    "df.insert(2,'会计学',[88,75,92,67,78])  #在第3列插入会计学\n",
    "df.drop(['数学'], axis=1,inplace=True)  #删除会计学列\n",
    "df.drop(index=2, inplace=True)          #删除第3行\n",
    "df.rename(columns = {'经济学':'管理学','会计学':'计算机'},inplace=True)  #教材语句有问题，需增加inplace=True\n",
    "#df.columns = ['姓名','统计学','计算机','管理学']     #更换列名称的另一种实现方法\n",
    "df.iloc[2,1] = 90                      #将第3行，第2列徐丽娜的统计学成绩更改为90\n",
    "df\n"
   ]
  },
  {
   "cell_type": "markdown",
   "metadata": {},
   "source": [
    "### 代码框1-13 数据框排序"
   ]
  },
  {
   "cell_type": "code",
   "execution_count": 33,
   "metadata": {},
   "outputs": [
    {
     "name": "stdout",
     "output_type": "stream",
     "text": [
      "   统计学  经济学   数学   姓名\n",
      "0   68   84   85  刘文涛\n",
      "1   85   63   91  王宇翔\n",
      "2   74   61   74  田思雨\n",
      "3   88   49  100  徐丽娜\n",
      "4   63   89   82  丁文彬\n"
     ]
    }
   ],
   "source": [
    "import pandas as pd\n",
    "table1_1 = pd.read_csv(r\"F:\\JupyterData\\Statistics_Pythoncoding\\data\\chap01\\table1_1.csv\",encoding='gbk')  #在路径前面添加了r转义符\n",
    "# table1_1.sort_values('统计学',inplace=True)                   #教材语句有误，需删除'by='添加',inplace=True'\n",
    "# print(table1_1)\n",
    "table2 = table1_1.sort_index(axis=1, ascending=False)          #按列索引字符串降序（可能是字符串长度）对数据框排序\n",
    "print(table2)\n"
   ]
  },
  {
   "cell_type": "markdown",
   "metadata": {},
   "source": [
    "### 代码框1-14 数据框合并"
   ]
  },
  {
   "cell_type": "code",
   "execution_count": 34,
   "metadata": {},
   "outputs": [
    {
     "data": {
      "text/html": [
       "<div>\n",
       "<style scoped>\n",
       "    .dataframe tbody tr th:only-of-type {\n",
       "        vertical-align: middle;\n",
       "    }\n",
       "\n",
       "    .dataframe tbody tr th {\n",
       "        vertical-align: top;\n",
       "    }\n",
       "\n",
       "    .dataframe thead th {\n",
       "        text-align: right;\n",
       "    }\n",
       "</style>\n",
       "<table border=\"1\" class=\"dataframe\">\n",
       "  <thead>\n",
       "    <tr style=\"text-align: right;\">\n",
       "      <th></th>\n",
       "      <th>姓名</th>\n",
       "      <th>统计学</th>\n",
       "      <th>数学</th>\n",
       "      <th>经济学</th>\n",
       "    </tr>\n",
       "  </thead>\n",
       "  <tbody>\n",
       "    <tr>\n",
       "      <th>0</th>\n",
       "      <td>刘文涛</td>\n",
       "      <td>68</td>\n",
       "      <td>85</td>\n",
       "      <td>84</td>\n",
       "    </tr>\n",
       "    <tr>\n",
       "      <th>1</th>\n",
       "      <td>王宇翔</td>\n",
       "      <td>85</td>\n",
       "      <td>91</td>\n",
       "      <td>63</td>\n",
       "    </tr>\n",
       "    <tr>\n",
       "      <th>2</th>\n",
       "      <td>田思雨</td>\n",
       "      <td>74</td>\n",
       "      <td>74</td>\n",
       "      <td>61</td>\n",
       "    </tr>\n",
       "    <tr>\n",
       "      <th>3</th>\n",
       "      <td>徐丽娜</td>\n",
       "      <td>88</td>\n",
       "      <td>100</td>\n",
       "      <td>49</td>\n",
       "    </tr>\n",
       "    <tr>\n",
       "      <th>4</th>\n",
       "      <td>丁文彬</td>\n",
       "      <td>63</td>\n",
       "      <td>82</td>\n",
       "      <td>89</td>\n",
       "    </tr>\n",
       "    <tr>\n",
       "      <th>5</th>\n",
       "      <td>李志国</td>\n",
       "      <td>78</td>\n",
       "      <td>84</td>\n",
       "      <td>51</td>\n",
       "    </tr>\n",
       "    <tr>\n",
       "      <th>6</th>\n",
       "      <td>王智强</td>\n",
       "      <td>90</td>\n",
       "      <td>78</td>\n",
       "      <td>59</td>\n",
       "    </tr>\n",
       "    <tr>\n",
       "      <th>7</th>\n",
       "      <td>宋丽媛</td>\n",
       "      <td>80</td>\n",
       "      <td>100</td>\n",
       "      <td>53</td>\n",
       "    </tr>\n",
       "    <tr>\n",
       "      <th>8</th>\n",
       "      <td>袁芳芳</td>\n",
       "      <td>58</td>\n",
       "      <td>51</td>\n",
       "      <td>79</td>\n",
       "    </tr>\n",
       "    <tr>\n",
       "      <th>9</th>\n",
       "      <td>张建国</td>\n",
       "      <td>63</td>\n",
       "      <td>70</td>\n",
       "      <td>91</td>\n",
       "    </tr>\n",
       "  </tbody>\n",
       "</table>\n",
       "</div>"
      ],
      "text/plain": [
       "    姓名  统计学   数学  经济学\n",
       "0  刘文涛   68   85   84\n",
       "1  王宇翔   85   91   63\n",
       "2  田思雨   74   74   61\n",
       "3  徐丽娜   88  100   49\n",
       "4  丁文彬   63   82   89\n",
       "5  李志国   78   84   51\n",
       "6  王智强   90   78   59\n",
       "7  宋丽媛   80  100   53\n",
       "8  袁芳芳   58   51   79\n",
       "9  张建国   63   70   91"
      ]
     },
     "execution_count": 34,
     "metadata": {},
     "output_type": "execute_result"
    }
   ],
   "source": [
    "#按行合并数据框(按行合并时，列索引必须一致；按列合并时，行索引必须一致)\n",
    "import pandas as pd\n",
    "table1_1 = pd.read_csv(r\"F:\\JupyterData\\Statistics_Pythoncoding\\data\\chap01\\table1_1.csv\",encoding='gbk')\n",
    "table1_2 = pd.read_csv(r\"F:\\JupyterData\\Statistics_Pythoncoding\\data\\chap01\\table1_2.csv\",encoding='gbk')\n",
    "mytable = pd.concat([table1_1,table1_2]).reset_index(drop=True)             #合并table1_1与table1_2两个数据库\n",
    "mytable"
   ]
  },
  {
   "cell_type": "markdown",
   "metadata": {},
   "source": [
    "### 代码框1-15 生成随机数"
   ]
  },
  {
   "cell_type": "code",
   "execution_count": 19,
   "metadata": {},
   "outputs": [
    {
     "name": "stdout",
     "output_type": "stream",
     "text": [
      "#标准正态分布: [-0.31232848  0.33928471 -0.15590853 -0.50178967  0.23556889]\n",
      "#均值为50的正态分布: [41.18197372 44.52068978 44.56117129 48.47414974 47.63125814]\n",
      "#0-10之间的均匀分布: [9.17629898 2.64146853 7.17773687 8.65715034 8.07079482]\n",
      "#自由度为15的卡方分布: [11.65749531 11.98507727 22.67529789 11.13672652  9.05412533]\n",
      "[-0.31232848  0.33928471 -0.15590853 -0.50178967  0.23556889] \n",
      " [41.18197372 44.52068978 44.56117129 48.47414974 47.63125814] \n",
      " [9.17629898 2.64146853 7.17773687 8.65715034 8.07079482] \n",
      " [11.65749531 11.98507727 22.67529789 11.13672652  9.05412533]\n"
     ]
    }
   ],
   "source": [
    "#生成不同分布随机数（每种分布5个）\n",
    "import numpy.random as npr\n",
    "npr.seed(15)\n",
    "r1 = npr.standard_normal(size=5)                #标准正态分布\n",
    "r2 = npr.normal(loc=50,scale=5,size=5)          #均值为50的正态分布\n",
    "r3 = npr.uniform(low=0,high=10,size=5)          #0-10之间的均匀分布\n",
    "r4 = npr.chisquare(df=15,size=5)                #自由度为15的卡方分布\n",
    "print('#标准正态分布:',r1)\n",
    "print('#均值为50的正态分布:',r2)\n",
    "print('#0-10之间的均匀分布:',r3)\n",
    "print('#自由度为15的卡方分布:',r4)\n",
    "print(r1,'\\n',r2, '\\n',r3, '\\n',r4)"
   ]
  },
  {
   "cell_type": "markdown",
   "metadata": {},
   "source": [
    "### 代码框1-16 数据抽样"
   ]
  },
  {
   "cell_type": "code",
   "execution_count": 24,
   "metadata": {},
   "outputs": [
    {
     "name": "stdout",
     "output_type": "stream",
     "text": [
      "#无放回抽取: \n",
      " [14, 5, 2, 9, 16, 15, 13, 19, 11, 4] \n",
      "#有放回抽取: \n",
      " [15, 13, 2, 20, 11, 12, 3, 3, 5, 18] \n",
      "#有放回抽样6次: \n",
      " ['green', 'red', 'blue', 'green', 'red', 'blue']\n"
     ]
    }
   ],
   "source": [
    "import random\n",
    "a = range(1,21)                                     #生成1-20数值序列\n",
    "n1 = random.sample(population=a, k=10); n1          #无放回抽取10个数据\n",
    "n2 = random.choices(population=a, k=10); n2         #有放回抽取10个数值\n",
    "ncols = [\"black\",\"red\",\"green\",\"blue\",\"yellow\"]     #5种不同颜色列表\n",
    "ncols=random.choices(ncols, k=6);ncols              #有放回抽取6次\n",
    "print('#无放回抽取:','\\n',n1,'\\n''#有放回抽取:','\\n',n2,'\\n''#有放回抽样6次:','\\n',ncols)  #'\\n'是python换行符，每次运行都会得到不同结果"
   ]
  },
  {
   "cell_type": "markdown",
   "metadata": {},
   "source": [
    "### 代码框1-17 读取数据"
   ]
  },
  {
   "cell_type": "code",
   "execution_count": 26,
   "metadata": {},
   "outputs": [
    {
     "data": {
      "text/html": [
       "<div>\n",
       "<style scoped>\n",
       "    .dataframe tbody tr th:only-of-type {\n",
       "        vertical-align: middle;\n",
       "    }\n",
       "\n",
       "    .dataframe tbody tr th {\n",
       "        vertical-align: top;\n",
       "    }\n",
       "\n",
       "    .dataframe thead th {\n",
       "        text-align: right;\n",
       "    }\n",
       "</style>\n",
       "<table border=\"1\" class=\"dataframe\">\n",
       "  <thead>\n",
       "    <tr style=\"text-align: right;\">\n",
       "      <th></th>\n",
       "      <th>姓名</th>\n",
       "      <th>统计学</th>\n",
       "      <th>数学</th>\n",
       "      <th>经济学</th>\n",
       "    </tr>\n",
       "  </thead>\n",
       "  <tbody>\n",
       "    <tr>\n",
       "      <th>0</th>\n",
       "      <td>刘文涛</td>\n",
       "      <td>68</td>\n",
       "      <td>85</td>\n",
       "      <td>84</td>\n",
       "    </tr>\n",
       "    <tr>\n",
       "      <th>1</th>\n",
       "      <td>王宇翔</td>\n",
       "      <td>85</td>\n",
       "      <td>91</td>\n",
       "      <td>63</td>\n",
       "    </tr>\n",
       "    <tr>\n",
       "      <th>2</th>\n",
       "      <td>田思雨</td>\n",
       "      <td>74</td>\n",
       "      <td>74</td>\n",
       "      <td>61</td>\n",
       "    </tr>\n",
       "    <tr>\n",
       "      <th>3</th>\n",
       "      <td>徐丽娜</td>\n",
       "      <td>88</td>\n",
       "      <td>100</td>\n",
       "      <td>49</td>\n",
       "    </tr>\n",
       "    <tr>\n",
       "      <th>4</th>\n",
       "      <td>丁文彬</td>\n",
       "      <td>63</td>\n",
       "      <td>82</td>\n",
       "      <td>89</td>\n",
       "    </tr>\n",
       "  </tbody>\n",
       "</table>\n",
       "</div>"
      ],
      "text/plain": [
       "    姓名  统计学   数学  经济学\n",
       "0  刘文涛   68   85   84\n",
       "1  王宇翔   85   91   63\n",
       "2  田思雨   74   74   61\n",
       "3  徐丽娜   88  100   49\n",
       "4  丁文彬   63   82   89"
      ]
     },
     "execution_count": 26,
     "metadata": {},
     "output_type": "execute_result"
    }
   ],
   "source": [
    "#读取csv格式数据\n",
    "import pandas as pd\n",
    "table1_1 = pd.read_csv(r\"F:\\JupyterData\\Statistics_Pythoncoding\\data\\chap01\\table1_1.csv\",encoding='gbk')\n",
    "table1_1"
   ]
  },
  {
   "cell_type": "code",
   "execution_count": 27,
   "metadata": {},
   "outputs": [
    {
     "data": {
      "text/html": [
       "<div>\n",
       "<style scoped>\n",
       "    .dataframe tbody tr th:only-of-type {\n",
       "        vertical-align: middle;\n",
       "    }\n",
       "\n",
       "    .dataframe tbody tr th {\n",
       "        vertical-align: top;\n",
       "    }\n",
       "\n",
       "    .dataframe thead th {\n",
       "        text-align: right;\n",
       "    }\n",
       "</style>\n",
       "<table border=\"1\" class=\"dataframe\">\n",
       "  <thead>\n",
       "    <tr style=\"text-align: right;\">\n",
       "      <th></th>\n",
       "      <th>姓名</th>\n",
       "      <th>统计学</th>\n",
       "      <th>数学</th>\n",
       "      <th>经济学</th>\n",
       "    </tr>\n",
       "  </thead>\n",
       "  <tbody>\n",
       "    <tr>\n",
       "      <th>0</th>\n",
       "      <td>刘文涛</td>\n",
       "      <td>68</td>\n",
       "      <td>85</td>\n",
       "      <td>84</td>\n",
       "    </tr>\n",
       "    <tr>\n",
       "      <th>1</th>\n",
       "      <td>王宇翔</td>\n",
       "      <td>85</td>\n",
       "      <td>91</td>\n",
       "      <td>63</td>\n",
       "    </tr>\n",
       "    <tr>\n",
       "      <th>2</th>\n",
       "      <td>田思雨</td>\n",
       "      <td>74</td>\n",
       "      <td>74</td>\n",
       "      <td>61</td>\n",
       "    </tr>\n",
       "    <tr>\n",
       "      <th>3</th>\n",
       "      <td>徐丽娜</td>\n",
       "      <td>88</td>\n",
       "      <td>100</td>\n",
       "      <td>49</td>\n",
       "    </tr>\n",
       "    <tr>\n",
       "      <th>4</th>\n",
       "      <td>丁文彬</td>\n",
       "      <td>63</td>\n",
       "      <td>82</td>\n",
       "      <td>89</td>\n",
       "    </tr>\n",
       "  </tbody>\n",
       "</table>\n",
       "</div>"
      ],
      "text/plain": [
       "    姓名  统计学   数学  经济学\n",
       "0  刘文涛   68   85   84\n",
       "1  王宇翔   85   91   63\n",
       "2  田思雨   74   74   61\n",
       "3  徐丽娜   88  100   49\n",
       "4  丁文彬   63   82   89"
      ]
     },
     "execution_count": 27,
     "metadata": {},
     "output_type": "execute_result"
    }
   ],
   "source": [
    "#读取excel格式数据\n",
    "import pandas as pd\n",
    "df = pd.read_excel(r\"F:\\JupyterData\\Statistics_Pythoncoding\\data\\chap01\\table1_1.xlsx\")\n",
    "df"
   ]
  },
  {
   "cell_type": "markdown",
   "metadata": {},
   "source": [
    "### 代码框1-18 保存数据"
   ]
  },
  {
   "cell_type": "code",
   "execution_count": 30,
   "metadata": {},
   "outputs": [],
   "source": [
    "#将数据保存为csv格式，并存放在制定路径\n",
    "import pandas as pd\n",
    "table1_1.to_csv(r\"F:\\JupyterData\\Statistics_Pythoncoding\\data\\chap01\\df1.csv\",index=False,encoding='gbk')   #格式设置为'gbk'，‘utf-8’格式出现乱码"
   ]
  },
  {
   "cell_type": "code",
   "execution_count": 29,
   "metadata": {},
   "outputs": [],
   "source": [
    "#将数据保存为EExcel格式，并存放在制定路径\n",
    "table1_1.to_excel(r\"F:\\JupyterData\\Statistics_Pythoncoding\\data\\chap01\\df2.xlsx\",index=False,encoding='utf-8')\n",
    "#index参数默认为True,设置为False表示不保存行索引"
   ]
  },
  {
   "cell_type": "markdown",
   "metadata": {},
   "source": [
    "### 代码框1-19 生产单变量一维表"
   ]
  },
  {
   "cell_type": "code",
   "execution_count": 3,
   "metadata": {},
   "outputs": [
    {
     "name": "stdout",
     "output_type": "stream",
     "text": [
      "     社区 性别  态度\n",
      "0   A社区  男  反对\n",
      "1   B社区  女  反对\n",
      "2   D社区  女  反对\n",
      "3   C社区  男  反对\n",
      "4   A社区  男  赞成\n",
      "..  ... ..  ..\n",
      "75  A社区  女  反对\n",
      "76  C社区  男  赞成\n",
      "77  B社区  男  赞成\n",
      "78  A社区  女  赞成\n",
      "79  C社区  女  反对\n",
      "\n",
      "[80 rows x 3 columns]\n"
     ]
    },
    {
     "data": {
      "text/plain": [
       "A社区    27\n",
       "C社区    21\n",
       "B社区    17\n",
       "D社区    15\n",
       "Name: 社区, dtype: int64"
      ]
     },
     "execution_count": 3,
     "metadata": {},
     "output_type": "execute_result"
    }
   ],
   "source": [
    "#使用value.count()函数生成一维频数表\n",
    "import pandas as pd\n",
    "example1_1 = pd.read_csv(r\"F:\\JupyterData\\Statistics_Pythoncoding\\data\\chap01\\example1_1.csv\",encoding='gbk')\n",
    "print(example1_1)\n",
    "example1_1['社区'].value_counts()        #生产频数表（类型是序列）"
   ]
  },
  {
   "cell_type": "code",
   "execution_count": 4,
   "metadata": {},
   "outputs": [
    {
     "data": {
      "text/plain": [
       "A社区    33.75\n",
       "C社区    26.25\n",
       "B社区    21.25\n",
       "D社区    18.75\n",
       "Name: 社区, dtype: float64"
      ]
     },
     "execution_count": 4,
     "metadata": {},
     "output_type": "execute_result"
    }
   ],
   "source": [
    "#将频数表转化为百分比表\n",
    "example1_1['社区'].value_counts(normalize=True)*100"
   ]
  },
  {
   "cell_type": "markdown",
   "metadata": {},
   "source": [
    "### 代码框1-20 生成两变量的二维表"
   ]
  },
  {
   "cell_type": "code",
   "execution_count": 5,
   "metadata": {},
   "outputs": [
    {
     "data": {
      "text/html": [
       "<div>\n",
       "<style scoped>\n",
       "    .dataframe tbody tr th:only-of-type {\n",
       "        vertical-align: middle;\n",
       "    }\n",
       "\n",
       "    .dataframe tbody tr th {\n",
       "        vertical-align: top;\n",
       "    }\n",
       "\n",
       "    .dataframe thead th {\n",
       "        text-align: right;\n",
       "    }\n",
       "</style>\n",
       "<table border=\"1\" class=\"dataframe\">\n",
       "  <thead>\n",
       "    <tr style=\"text-align: right;\">\n",
       "      <th>态度</th>\n",
       "      <th>反对</th>\n",
       "      <th>赞成</th>\n",
       "    </tr>\n",
       "    <tr>\n",
       "      <th>社区</th>\n",
       "      <th></th>\n",
       "      <th></th>\n",
       "    </tr>\n",
       "  </thead>\n",
       "  <tbody>\n",
       "    <tr>\n",
       "      <th>A社区</th>\n",
       "      <td>13</td>\n",
       "      <td>14</td>\n",
       "    </tr>\n",
       "    <tr>\n",
       "      <th>B社区</th>\n",
       "      <td>5</td>\n",
       "      <td>12</td>\n",
       "    </tr>\n",
       "    <tr>\n",
       "      <th>C社区</th>\n",
       "      <td>7</td>\n",
       "      <td>14</td>\n",
       "    </tr>\n",
       "    <tr>\n",
       "      <th>D社区</th>\n",
       "      <td>6</td>\n",
       "      <td>9</td>\n",
       "    </tr>\n",
       "  </tbody>\n",
       "</table>\n",
       "</div>"
      ],
      "text/plain": [
       "态度   反对  赞成\n",
       "社区         \n",
       "A社区  13  14\n",
       "B社区   5  12\n",
       "C社区   7  14\n",
       "D社区   6   9"
      ]
     },
     "execution_count": 5,
     "metadata": {},
     "output_type": "execute_result"
    }
   ],
   "source": [
    "#使用pd中的crosstab函数生成二维表\n",
    "import pandas as pd\n",
    "df = pd.read_csv(r\"F:\\JupyterData\\Statistics_Pythoncoding\\data\\chap01\\example1_1.csv\",encoding='gbk')\n",
    "tab1 = pd.crosstab(df.社区,df.态度)\n",
    "tab1"
   ]
  },
  {
   "cell_type": "code",
   "execution_count": 8,
   "metadata": {},
   "outputs": [
    {
     "data": {
      "text/html": [
       "<div>\n",
       "<style scoped>\n",
       "    .dataframe tbody tr th:only-of-type {\n",
       "        vertical-align: middle;\n",
       "    }\n",
       "\n",
       "    .dataframe tbody tr th {\n",
       "        vertical-align: top;\n",
       "    }\n",
       "\n",
       "    .dataframe thead th {\n",
       "        text-align: right;\n",
       "    }\n",
       "</style>\n",
       "<table border=\"1\" class=\"dataframe\">\n",
       "  <thead>\n",
       "    <tr style=\"text-align: right;\">\n",
       "      <th>态度</th>\n",
       "      <th>反对</th>\n",
       "      <th>赞成</th>\n",
       "      <th>合计</th>\n",
       "    </tr>\n",
       "    <tr>\n",
       "      <th>社区</th>\n",
       "      <th></th>\n",
       "      <th></th>\n",
       "      <th></th>\n",
       "    </tr>\n",
       "  </thead>\n",
       "  <tbody>\n",
       "    <tr>\n",
       "      <th>A社区</th>\n",
       "      <td>13</td>\n",
       "      <td>14</td>\n",
       "      <td>27</td>\n",
       "    </tr>\n",
       "    <tr>\n",
       "      <th>B社区</th>\n",
       "      <td>5</td>\n",
       "      <td>12</td>\n",
       "      <td>17</td>\n",
       "    </tr>\n",
       "    <tr>\n",
       "      <th>C社区</th>\n",
       "      <td>7</td>\n",
       "      <td>14</td>\n",
       "      <td>21</td>\n",
       "    </tr>\n",
       "    <tr>\n",
       "      <th>D社区</th>\n",
       "      <td>6</td>\n",
       "      <td>9</td>\n",
       "      <td>15</td>\n",
       "    </tr>\n",
       "    <tr>\n",
       "      <th>合计</th>\n",
       "      <td>31</td>\n",
       "      <td>49</td>\n",
       "      <td>80</td>\n",
       "    </tr>\n",
       "  </tbody>\n",
       "</table>\n",
       "</div>"
      ],
      "text/plain": [
       "态度   反对  赞成  合计\n",
       "社区             \n",
       "A社区  13  14  27\n",
       "B社区   5  12  17\n",
       "C社区   7  14  21\n",
       "D社区   6   9  15\n",
       "合计   31  49  80"
      ]
     },
     "execution_count": 8,
     "metadata": {},
     "output_type": "execute_result"
    }
   ],
   "source": [
    "#为二维表添加边际和，并修改边际和的名称\n",
    "tab2 = pd.crosstab(df.社区,df.态度, margins=True, margins_name='合计')\n",
    "tab2"
   ]
  },
  {
   "cell_type": "code",
   "execution_count": 13,
   "metadata": {},
   "outputs": [
    {
     "data": {
      "text/html": [
       "<div>\n",
       "<style scoped>\n",
       "    .dataframe tbody tr th:only-of-type {\n",
       "        vertical-align: middle;\n",
       "    }\n",
       "\n",
       "    .dataframe tbody tr th {\n",
       "        vertical-align: top;\n",
       "    }\n",
       "\n",
       "    .dataframe thead th {\n",
       "        text-align: right;\n",
       "    }\n",
       "</style>\n",
       "<table border=\"1\" class=\"dataframe\">\n",
       "  <thead>\n",
       "    <tr style=\"text-align: right;\">\n",
       "      <th>态度</th>\n",
       "      <th>反对</th>\n",
       "      <th>赞成</th>\n",
       "    </tr>\n",
       "    <tr>\n",
       "      <th>社区</th>\n",
       "      <th></th>\n",
       "      <th></th>\n",
       "    </tr>\n",
       "  </thead>\n",
       "  <tbody>\n",
       "    <tr>\n",
       "      <th>A社区</th>\n",
       "      <td>48.15</td>\n",
       "      <td>51.85</td>\n",
       "    </tr>\n",
       "    <tr>\n",
       "      <th>B社区</th>\n",
       "      <td>29.41</td>\n",
       "      <td>70.59</td>\n",
       "    </tr>\n",
       "    <tr>\n",
       "      <th>C社区</th>\n",
       "      <td>33.33</td>\n",
       "      <td>66.67</td>\n",
       "    </tr>\n",
       "    <tr>\n",
       "      <th>D社区</th>\n",
       "      <td>40.00</td>\n",
       "      <td>60.00</td>\n",
       "    </tr>\n",
       "    <tr>\n",
       "      <th>合计</th>\n",
       "      <td>38.75</td>\n",
       "      <td>61.25</td>\n",
       "    </tr>\n",
       "  </tbody>\n",
       "</table>\n",
       "</div>"
      ],
      "text/plain": [
       "态度      反对     赞成\n",
       "社区               \n",
       "A社区  48.15  51.85\n",
       "B社区  29.41  70.59\n",
       "C社区  33.33  66.67\n",
       "D社区  40.00  60.00\n",
       "合计   38.75  61.25"
      ]
     },
     "execution_count": 13,
     "metadata": {},
     "output_type": "execute_result"
    }
   ],
   "source": [
    "#将二维表转化成百分比表\n",
    "tab3 = pd.crosstab(df.社区,df.态度,margins=True,margins_name='合计',normalize='index')    #按行转化为百分比\n",
    "round(tab3*100,2)"
   ]
  },
  {
   "cell_type": "code",
   "execution_count": 14,
   "metadata": {},
   "outputs": [
    {
     "data": {
      "text/html": [
       "<div>\n",
       "<style scoped>\n",
       "    .dataframe tbody tr th:only-of-type {\n",
       "        vertical-align: middle;\n",
       "    }\n",
       "\n",
       "    .dataframe tbody tr th {\n",
       "        vertical-align: top;\n",
       "    }\n",
       "\n",
       "    .dataframe thead th {\n",
       "        text-align: right;\n",
       "    }\n",
       "</style>\n",
       "<table border=\"1\" class=\"dataframe\">\n",
       "  <thead>\n",
       "    <tr style=\"text-align: right;\">\n",
       "      <th>态度</th>\n",
       "      <th>反对</th>\n",
       "      <th>赞成</th>\n",
       "      <th>合计</th>\n",
       "    </tr>\n",
       "    <tr>\n",
       "      <th>社区</th>\n",
       "      <th></th>\n",
       "      <th></th>\n",
       "      <th></th>\n",
       "    </tr>\n",
       "  </thead>\n",
       "  <tbody>\n",
       "    <tr>\n",
       "      <th>A社区</th>\n",
       "      <td>41.94</td>\n",
       "      <td>28.57</td>\n",
       "      <td>33.75</td>\n",
       "    </tr>\n",
       "    <tr>\n",
       "      <th>B社区</th>\n",
       "      <td>16.13</td>\n",
       "      <td>24.49</td>\n",
       "      <td>21.25</td>\n",
       "    </tr>\n",
       "    <tr>\n",
       "      <th>C社区</th>\n",
       "      <td>22.58</td>\n",
       "      <td>28.57</td>\n",
       "      <td>26.25</td>\n",
       "    </tr>\n",
       "    <tr>\n",
       "      <th>D社区</th>\n",
       "      <td>19.35</td>\n",
       "      <td>18.37</td>\n",
       "      <td>18.75</td>\n",
       "    </tr>\n",
       "  </tbody>\n",
       "</table>\n",
       "</div>"
      ],
      "text/plain": [
       "态度      反对     赞成     合计\n",
       "社区                      \n",
       "A社区  41.94  28.57  33.75\n",
       "B社区  16.13  24.49  21.25\n",
       "C社区  22.58  28.57  26.25\n",
       "D社区  19.35  18.37  18.75"
      ]
     },
     "execution_count": 14,
     "metadata": {},
     "output_type": "execute_result"
    }
   ],
   "source": [
    "#计算各列所占比例，并转化成百分比表\n",
    "tab4 = pd.crosstab(df.社区,df.态度,margins=True,margins_name='合计',normalize='columns')\n",
    "round(tab4*100,2)"
   ]
  },
  {
   "cell_type": "code",
   "execution_count": 15,
   "metadata": {},
   "outputs": [
    {
     "data": {
      "text/html": [
       "<div>\n",
       "<style scoped>\n",
       "    .dataframe tbody tr th:only-of-type {\n",
       "        vertical-align: middle;\n",
       "    }\n",
       "\n",
       "    .dataframe tbody tr th {\n",
       "        vertical-align: top;\n",
       "    }\n",
       "\n",
       "    .dataframe thead th {\n",
       "        text-align: right;\n",
       "    }\n",
       "</style>\n",
       "<table border=\"1\" class=\"dataframe\">\n",
       "  <thead>\n",
       "    <tr style=\"text-align: right;\">\n",
       "      <th>态度</th>\n",
       "      <th>反对</th>\n",
       "      <th>赞成</th>\n",
       "      <th>合计</th>\n",
       "    </tr>\n",
       "    <tr>\n",
       "      <th>社区</th>\n",
       "      <th></th>\n",
       "      <th></th>\n",
       "      <th></th>\n",
       "    </tr>\n",
       "  </thead>\n",
       "  <tbody>\n",
       "    <tr>\n",
       "      <th>A社区</th>\n",
       "      <td>16.25</td>\n",
       "      <td>17.50</td>\n",
       "      <td>33.75</td>\n",
       "    </tr>\n",
       "    <tr>\n",
       "      <th>B社区</th>\n",
       "      <td>6.25</td>\n",
       "      <td>15.00</td>\n",
       "      <td>21.25</td>\n",
       "    </tr>\n",
       "    <tr>\n",
       "      <th>C社区</th>\n",
       "      <td>8.75</td>\n",
       "      <td>17.50</td>\n",
       "      <td>26.25</td>\n",
       "    </tr>\n",
       "    <tr>\n",
       "      <th>D社区</th>\n",
       "      <td>7.50</td>\n",
       "      <td>11.25</td>\n",
       "      <td>18.75</td>\n",
       "    </tr>\n",
       "    <tr>\n",
       "      <th>合计</th>\n",
       "      <td>38.75</td>\n",
       "      <td>61.25</td>\n",
       "      <td>100.00</td>\n",
       "    </tr>\n",
       "  </tbody>\n",
       "</table>\n",
       "</div>"
      ],
      "text/plain": [
       "态度      反对     赞成      合计\n",
       "社区                       \n",
       "A社区  16.25  17.50   33.75\n",
       "B社区   6.25  15.00   21.25\n",
       "C社区   8.75  17.50   26.25\n",
       "D社区   7.50  11.25   18.75\n",
       "合计   38.75  61.25  100.00"
      ]
     },
     "execution_count": 15,
     "metadata": {},
     "output_type": "execute_result"
    }
   ],
   "source": [
    "#计算各数据占总和的比例，并转化成百分比表\n",
    "tab5 = pd.crosstab(df.社区,df.态度,margins=True,margins_name='合计',normalize='all')\n",
    "tab5*100"
   ]
  },
  {
   "cell_type": "markdown",
   "metadata": {},
   "source": [
    "### 代码框1-21 生成多维表"
   ]
  },
  {
   "cell_type": "code",
   "execution_count": 16,
   "metadata": {},
   "outputs": [
    {
     "data": {
      "text/html": [
       "<div>\n",
       "<style scoped>\n",
       "    .dataframe tbody tr th:only-of-type {\n",
       "        vertical-align: middle;\n",
       "    }\n",
       "\n",
       "    .dataframe tbody tr th {\n",
       "        vertical-align: top;\n",
       "    }\n",
       "\n",
       "    .dataframe thead th {\n",
       "        text-align: right;\n",
       "    }\n",
       "</style>\n",
       "<table border=\"1\" class=\"dataframe\">\n",
       "  <thead>\n",
       "    <tr style=\"text-align: right;\">\n",
       "      <th></th>\n",
       "      <th>态度</th>\n",
       "      <th>反对</th>\n",
       "      <th>赞成</th>\n",
       "      <th>合计</th>\n",
       "    </tr>\n",
       "    <tr>\n",
       "      <th>社区</th>\n",
       "      <th>性别</th>\n",
       "      <th></th>\n",
       "      <th></th>\n",
       "      <th></th>\n",
       "    </tr>\n",
       "  </thead>\n",
       "  <tbody>\n",
       "    <tr>\n",
       "      <th rowspan=\"2\" valign=\"top\">A社区</th>\n",
       "      <th>女</th>\n",
       "      <td>9</td>\n",
       "      <td>9</td>\n",
       "      <td>18</td>\n",
       "    </tr>\n",
       "    <tr>\n",
       "      <th>男</th>\n",
       "      <td>4</td>\n",
       "      <td>5</td>\n",
       "      <td>9</td>\n",
       "    </tr>\n",
       "    <tr>\n",
       "      <th rowspan=\"2\" valign=\"top\">B社区</th>\n",
       "      <th>女</th>\n",
       "      <td>2</td>\n",
       "      <td>5</td>\n",
       "      <td>7</td>\n",
       "    </tr>\n",
       "    <tr>\n",
       "      <th>男</th>\n",
       "      <td>3</td>\n",
       "      <td>7</td>\n",
       "      <td>10</td>\n",
       "    </tr>\n",
       "    <tr>\n",
       "      <th rowspan=\"2\" valign=\"top\">C社区</th>\n",
       "      <th>女</th>\n",
       "      <td>2</td>\n",
       "      <td>6</td>\n",
       "      <td>8</td>\n",
       "    </tr>\n",
       "    <tr>\n",
       "      <th>男</th>\n",
       "      <td>5</td>\n",
       "      <td>8</td>\n",
       "      <td>13</td>\n",
       "    </tr>\n",
       "    <tr>\n",
       "      <th rowspan=\"2\" valign=\"top\">D社区</th>\n",
       "      <th>女</th>\n",
       "      <td>4</td>\n",
       "      <td>7</td>\n",
       "      <td>11</td>\n",
       "    </tr>\n",
       "    <tr>\n",
       "      <th>男</th>\n",
       "      <td>2</td>\n",
       "      <td>2</td>\n",
       "      <td>4</td>\n",
       "    </tr>\n",
       "    <tr>\n",
       "      <th>合计</th>\n",
       "      <th></th>\n",
       "      <td>31</td>\n",
       "      <td>49</td>\n",
       "      <td>80</td>\n",
       "    </tr>\n",
       "  </tbody>\n",
       "</table>\n",
       "</div>"
      ],
      "text/plain": [
       "态度      反对  赞成  合计\n",
       "社区  性别            \n",
       "A社区 女    9   9  18\n",
       "    男    4   5   9\n",
       "B社区 女    2   5   7\n",
       "    男    3   7  10\n",
       "C社区 女    2   6   8\n",
       "    男    5   8  13\n",
       "D社区 女    4   7  11\n",
       "    男    2   2   4\n",
       "合计      31  49  80"
      ]
     },
     "execution_count": 16,
     "metadata": {},
     "output_type": "execute_result"
    }
   ],
   "source": [
    "#社区和性别为行变量，态度为列变量\n",
    "import pandas as pd\n",
    "import numpy as np\n",
    "df = pd.read_csv(r\"F:\\JupyterData\\Statistics_Pythoncoding\\data\\chap01\\example1_1.csv\",encoding='gbk')\n",
    "tab = pd.pivot_table(df,index=['社区','性别'],columns=['态度'],margins=True,margins_name='合计',aggfunc=len)\n",
    "tab"
   ]
  },
  {
   "cell_type": "code",
   "execution_count": 17,
   "metadata": {},
   "outputs": [
    {
     "data": {
      "text/html": [
       "<div>\n",
       "<style scoped>\n",
       "    .dataframe tbody tr th:only-of-type {\n",
       "        vertical-align: middle;\n",
       "    }\n",
       "\n",
       "    .dataframe tbody tr th {\n",
       "        vertical-align: top;\n",
       "    }\n",
       "\n",
       "    .dataframe thead th {\n",
       "        text-align: right;\n",
       "    }\n",
       "</style>\n",
       "<table border=\"1\" class=\"dataframe\">\n",
       "  <thead>\n",
       "    <tr style=\"text-align: right;\">\n",
       "      <th></th>\n",
       "      <th>社区</th>\n",
       "      <th>A社区</th>\n",
       "      <th>B社区</th>\n",
       "      <th>C社区</th>\n",
       "      <th>D社区</th>\n",
       "      <th>合计</th>\n",
       "    </tr>\n",
       "    <tr>\n",
       "      <th>性别</th>\n",
       "      <th>态度</th>\n",
       "      <th></th>\n",
       "      <th></th>\n",
       "      <th></th>\n",
       "      <th></th>\n",
       "      <th></th>\n",
       "    </tr>\n",
       "  </thead>\n",
       "  <tbody>\n",
       "    <tr>\n",
       "      <th rowspan=\"2\" valign=\"top\">女</th>\n",
       "      <th>反对</th>\n",
       "      <td>9</td>\n",
       "      <td>2</td>\n",
       "      <td>2</td>\n",
       "      <td>4</td>\n",
       "      <td>17</td>\n",
       "    </tr>\n",
       "    <tr>\n",
       "      <th>赞成</th>\n",
       "      <td>9</td>\n",
       "      <td>5</td>\n",
       "      <td>6</td>\n",
       "      <td>7</td>\n",
       "      <td>27</td>\n",
       "    </tr>\n",
       "    <tr>\n",
       "      <th rowspan=\"2\" valign=\"top\">男</th>\n",
       "      <th>反对</th>\n",
       "      <td>4</td>\n",
       "      <td>3</td>\n",
       "      <td>5</td>\n",
       "      <td>2</td>\n",
       "      <td>14</td>\n",
       "    </tr>\n",
       "    <tr>\n",
       "      <th>赞成</th>\n",
       "      <td>5</td>\n",
       "      <td>7</td>\n",
       "      <td>8</td>\n",
       "      <td>2</td>\n",
       "      <td>22</td>\n",
       "    </tr>\n",
       "    <tr>\n",
       "      <th>合计</th>\n",
       "      <th></th>\n",
       "      <td>27</td>\n",
       "      <td>17</td>\n",
       "      <td>21</td>\n",
       "      <td>15</td>\n",
       "      <td>80</td>\n",
       "    </tr>\n",
       "  </tbody>\n",
       "</table>\n",
       "</div>"
      ],
      "text/plain": [
       "社区     A社区  B社区  C社区  D社区  合计\n",
       "性别 态度                        \n",
       "女  反对    9    2    2    4  17\n",
       "   赞成    9    5    6    7  27\n",
       "男  反对    4    3    5    2  14\n",
       "   赞成    5    7    8    2  22\n",
       "合计      27   17   21   15  80"
      ]
     },
     "execution_count": 17,
     "metadata": {},
     "output_type": "execute_result"
    }
   ],
   "source": [
    "#性别和态度为行变量，社区为列变量\n",
    "tab = pd.pivot_table(df,index=['性别','态度'],columns=['社区'],margins=True,margins_name='合计',aggfunc=len)\n",
    "tab"
   ]
  },
  {
   "cell_type": "code",
   "execution_count": 18,
   "metadata": {},
   "outputs": [
    {
     "data": {
      "text/html": [
       "<div>\n",
       "<style scoped>\n",
       "    .dataframe tbody tr th:only-of-type {\n",
       "        vertical-align: middle;\n",
       "    }\n",
       "\n",
       "    .dataframe tbody tr th {\n",
       "        vertical-align: top;\n",
       "    }\n",
       "\n",
       "    .dataframe thead tr th {\n",
       "        text-align: left;\n",
       "    }\n",
       "\n",
       "    .dataframe thead tr:last-of-type th {\n",
       "        text-align: right;\n",
       "    }\n",
       "</style>\n",
       "<table border=\"1\" class=\"dataframe\">\n",
       "  <thead>\n",
       "    <tr>\n",
       "      <th>性别</th>\n",
       "      <th colspan=\"2\" halign=\"left\">女</th>\n",
       "      <th colspan=\"2\" halign=\"left\">男</th>\n",
       "      <th>合计</th>\n",
       "    </tr>\n",
       "    <tr>\n",
       "      <th>态度</th>\n",
       "      <th>反对</th>\n",
       "      <th>赞成</th>\n",
       "      <th>反对</th>\n",
       "      <th>赞成</th>\n",
       "      <th></th>\n",
       "    </tr>\n",
       "    <tr>\n",
       "      <th>社区</th>\n",
       "      <th></th>\n",
       "      <th></th>\n",
       "      <th></th>\n",
       "      <th></th>\n",
       "      <th></th>\n",
       "    </tr>\n",
       "  </thead>\n",
       "  <tbody>\n",
       "    <tr>\n",
       "      <th>A社区</th>\n",
       "      <td>9</td>\n",
       "      <td>9</td>\n",
       "      <td>4</td>\n",
       "      <td>5</td>\n",
       "      <td>27</td>\n",
       "    </tr>\n",
       "    <tr>\n",
       "      <th>B社区</th>\n",
       "      <td>2</td>\n",
       "      <td>5</td>\n",
       "      <td>3</td>\n",
       "      <td>7</td>\n",
       "      <td>17</td>\n",
       "    </tr>\n",
       "    <tr>\n",
       "      <th>C社区</th>\n",
       "      <td>2</td>\n",
       "      <td>6</td>\n",
       "      <td>5</td>\n",
       "      <td>8</td>\n",
       "      <td>21</td>\n",
       "    </tr>\n",
       "    <tr>\n",
       "      <th>D社区</th>\n",
       "      <td>4</td>\n",
       "      <td>7</td>\n",
       "      <td>2</td>\n",
       "      <td>2</td>\n",
       "      <td>15</td>\n",
       "    </tr>\n",
       "    <tr>\n",
       "      <th>合计</th>\n",
       "      <td>17</td>\n",
       "      <td>27</td>\n",
       "      <td>14</td>\n",
       "      <td>22</td>\n",
       "      <td>80</td>\n",
       "    </tr>\n",
       "  </tbody>\n",
       "</table>\n",
       "</div>"
      ],
      "text/plain": [
       "性别    女       男      合计\n",
       "态度   反对  赞成  反对  赞成    \n",
       "社区                     \n",
       "A社区   9   9   4   5  27\n",
       "B社区   2   5   3   7  17\n",
       "C社区   2   6   5   8  21\n",
       "D社区   4   7   2   2  15\n",
       "合计   17  27  14  22  80"
      ]
     },
     "execution_count": 18,
     "metadata": {},
     "output_type": "execute_result"
    }
   ],
   "source": [
    "#社区为行变量、性别和态度为列变量\n",
    "tab = pd.pivot_table(df,index=['社区'],columns=['性别','态度'],margins=True,margins_name='合计',aggfunc=len)\n",
    "tab"
   ]
  },
  {
   "cell_type": "markdown",
   "metadata": {},
   "source": [
    "### 代码框1-22 数据分组与生成频数分布表"
   ]
  },
  {
   "cell_type": "code",
   "execution_count": 20,
   "metadata": {},
   "outputs": [
    {
     "data": {
      "text/plain": [
       "销售额分组\n",
       "[160, 170)     2\n",
       "[170, 180)     4\n",
       "[180, 190)     7\n",
       "[190, 200)    17\n",
       "[200, 210)    27\n",
       "[210, 220)    20\n",
       "[220, 230)    16\n",
       "[230, 240)    13\n",
       "[240, 250)     7\n",
       "[250, 260)     4\n",
       "[260, 270)     2\n",
       "[270, 280)     1\n",
       "Name: 销售额, dtype: int64"
      ]
     },
     "execution_count": 20,
     "metadata": {},
     "output_type": "execute_result"
    }
   ],
   "source": [
    "import pandas as pd\n",
    "df = pd.read_csv(r\"F:\\JupyterData\\Statistics_Pythoncoding\\data\\chap01\\example1_2.csv\",encoding='gbk')\n",
    "f = pd.cut(df['销售额'],\n",
    "          bins = [160,170,180,190,200,210,220,230,240,250,260,270,280],\n",
    "          right=False)               #分组不含上限值\n",
    "tf = f.value_counts()                #生成频数表\n",
    "tab = tf.sort_index()                 #按索引排序\n",
    "tab.index.name = '销售额分组'        #添加索引名称\n",
    "tab"
   ]
  },
  {
   "cell_type": "code",
   "execution_count": null,
   "metadata": {},
   "outputs": [],
   "source": []
  },
  {
   "cell_type": "code",
   "execution_count": null,
   "metadata": {},
   "outputs": [],
   "source": []
  },
  {
   "cell_type": "code",
   "execution_count": null,
   "metadata": {},
   "outputs": [],
   "source": []
  }
 ],
 "metadata": {
  "kernelspec": {
   "display_name": "Python 3 (ipykernel)",
   "language": "python",
   "name": "python3"
  },
  "language_info": {
   "codemirror_mode": {
    "name": "ipython",
    "version": 3
   },
   "file_extension": ".py",
   "mimetype": "text/x-python",
   "name": "python",
   "nbconvert_exporter": "python",
   "pygments_lexer": "ipython3",
   "version": "3.9.12"
  }
 },
 "nbformat": 4,
 "nbformat_minor": 4
}
